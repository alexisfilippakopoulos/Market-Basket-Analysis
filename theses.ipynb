{
 "cells": [
  {
   "cell_type": "code",
   "execution_count": 1,
   "metadata": {},
   "outputs": [
    {
     "name": "stderr",
     "output_type": "stream",
     "text": [
      "c:\\Users\\alexi\\anaconda3\\lib\\site-packages\\xarray\\core\\pycompat.py:22: DeprecationWarning: distutils Version classes are deprecated. Use packaging.version instead.\n",
      "  duck_array_version = LooseVersion(duck_array_module.__version__)\n",
      "c:\\Users\\alexi\\anaconda3\\lib\\site-packages\\xarray\\core\\pycompat.py:37: DeprecationWarning: distutils Version classes are deprecated. Use packaging.version instead.\n",
      "  duck_array_version = LooseVersion(\"0.0.0\")\n",
      "c:\\Users\\alexi\\anaconda3\\lib\\site-packages\\xarray\\core\\pycompat.py:37: DeprecationWarning: distutils Version classes are deprecated. Use packaging.version instead.\n",
      "  duck_array_version = LooseVersion(\"0.0.0\")\n",
      "c:\\Users\\alexi\\anaconda3\\lib\\site-packages\\setuptools\\_distutils\\version.py:351: DeprecationWarning: distutils Version classes are deprecated. Use packaging.version instead.\n",
      "  other = LooseVersion(other)\n",
      "c:\\Users\\alexi\\anaconda3\\lib\\site-packages\\setuptools\\_distutils\\version.py:351: DeprecationWarning: distutils Version classes are deprecated. Use packaging.version instead.\n",
      "  other = LooseVersion(other)\n",
      "c:\\Users\\alexi\\anaconda3\\lib\\site-packages\\xarray\\core\\npcompat.py:82: DeprecationWarning: distutils Version classes are deprecated. Use packaging.version instead.\n",
      "  if LooseVersion(np.__version__) >= \"1.20.0\":\n",
      "c:\\Users\\alexi\\anaconda3\\lib\\site-packages\\setuptools\\_distutils\\version.py:351: DeprecationWarning: distutils Version classes are deprecated. Use packaging.version instead.\n",
      "  other = LooseVersion(other)\n",
      "c:\\Users\\alexi\\anaconda3\\lib\\site-packages\\xarray\\core\\pdcompat.py:45: DeprecationWarning: distutils Version classes are deprecated. Use packaging.version instead.\n",
      "  if LooseVersion(pd.__version__) < \"0.25.0\":\n",
      "c:\\Users\\alexi\\anaconda3\\lib\\site-packages\\setuptools\\_distutils\\version.py:351: DeprecationWarning: distutils Version classes are deprecated. Use packaging.version instead.\n",
      "  other = LooseVersion(other)\n"
     ]
    }
   ],
   "source": [
    "import pandas as pd\n",
    "import regex as re\n",
    "import numpy as np\n",
    "from mlxtend.frequent_patterns import apriori, association_rules\n",
    "import plotly.express as px\n",
    "import networkx as nx\n",
    "import plotly.graph_objs as go\n",
    "from plotly.offline import init_notebook_mode, iplot\n",
    "import matplotlib.pyplot as plt\n",
    "from mlxtend.preprocessing import TransactionEncoder"
   ]
  },
  {
   "cell_type": "code",
   "execution_count": 2,
   "metadata": {},
   "outputs": [
    {
     "data": {
      "text/html": [
       "<div>\n",
       "<style scoped>\n",
       "    .dataframe tbody tr th:only-of-type {\n",
       "        vertical-align: middle;\n",
       "    }\n",
       "\n",
       "    .dataframe tbody tr th {\n",
       "        vertical-align: top;\n",
       "    }\n",
       "\n",
       "    .dataframe thead th {\n",
       "        text-align: right;\n",
       "    }\n",
       "</style>\n",
       "<table border=\"1\" class=\"dataframe\">\n",
       "  <thead>\n",
       "    <tr style=\"text-align: right;\">\n",
       "      <th></th>\n",
       "      <th>disc1.rec.lev1</th>\n",
       "      <th>disc2.rec.lev1</th>\n",
       "      <th>disc3.rec.lev1</th>\n",
       "    </tr>\n",
       "  </thead>\n",
       "  <tbody>\n",
       "    <tr>\n",
       "      <th>0</th>\n",
       "      <td>X</td>\n",
       "      <td>NaN</td>\n",
       "      <td>NaN</td>\n",
       "    </tr>\n",
       "    <tr>\n",
       "      <th>1</th>\n",
       "      <td>IV</td>\n",
       "      <td>NaN</td>\n",
       "      <td>NaN</td>\n",
       "    </tr>\n",
       "    <tr>\n",
       "      <th>2</th>\n",
       "      <td>X</td>\n",
       "      <td>NaN</td>\n",
       "      <td>NaN</td>\n",
       "    </tr>\n",
       "    <tr>\n",
       "      <th>3</th>\n",
       "      <td>V</td>\n",
       "      <td>V</td>\n",
       "      <td>NaN</td>\n",
       "    </tr>\n",
       "    <tr>\n",
       "      <th>4</th>\n",
       "      <td>V</td>\n",
       "      <td>V</td>\n",
       "      <td>NaN</td>\n",
       "    </tr>\n",
       "    <tr>\n",
       "      <th>...</th>\n",
       "      <td>...</td>\n",
       "      <td>...</td>\n",
       "      <td>...</td>\n",
       "    </tr>\n",
       "    <tr>\n",
       "      <th>100041</th>\n",
       "      <td>VIII</td>\n",
       "      <td>NaN</td>\n",
       "      <td>NaN</td>\n",
       "    </tr>\n",
       "    <tr>\n",
       "      <th>100042</th>\n",
       "      <td>X</td>\n",
       "      <td>IX</td>\n",
       "      <td>NaN</td>\n",
       "    </tr>\n",
       "    <tr>\n",
       "      <th>100043</th>\n",
       "      <td>pharmacie</td>\n",
       "      <td>X</td>\n",
       "      <td>NaN</td>\n",
       "    </tr>\n",
       "    <tr>\n",
       "      <th>100044</th>\n",
       "      <td>pharmacie</td>\n",
       "      <td>NaN</td>\n",
       "      <td>NaN</td>\n",
       "    </tr>\n",
       "    <tr>\n",
       "      <th>100045</th>\n",
       "      <td>NaN</td>\n",
       "      <td>NaN</td>\n",
       "      <td>NaN</td>\n",
       "    </tr>\n",
       "  </tbody>\n",
       "</table>\n",
       "<p>100046 rows × 3 columns</p>\n",
       "</div>"
      ],
      "text/plain": [
       "       disc1.rec.lev1 disc2.rec.lev1 disc3.rec.lev1\n",
       "0                   X            NaN            NaN\n",
       "1                  IV            NaN            NaN\n",
       "2                   X            NaN            NaN\n",
       "3                   V              V            NaN\n",
       "4                   V              V            NaN\n",
       "...               ...            ...            ...\n",
       "100041           VIII            NaN            NaN\n",
       "100042              X             IX            NaN\n",
       "100043      pharmacie              X            NaN\n",
       "100044      pharmacie            NaN            NaN\n",
       "100045            NaN            NaN            NaN\n",
       "\n",
       "[100046 rows x 3 columns]"
      ]
     },
     "execution_count": 2,
     "metadata": {},
     "output_type": "execute_result"
    }
   ],
   "source": [
    "df = pd.read_csv('tel_samp_rec.csv', encoding=\"ISO-8859-1\")\n",
    "df_theses = df[['disc1.rec.lev1', 'disc2.rec.lev1', 'disc3.rec.lev1']]\n",
    "df_theses"
   ]
  },
  {
   "attachments": {},
   "cell_type": "markdown",
   "metadata": {},
   "source": [
    "We get rid of any row where all 3 columns are NaN"
   ]
  },
  {
   "cell_type": "code",
   "execution_count": 3,
   "metadata": {},
   "outputs": [
    {
     "name": "stderr",
     "output_type": "stream",
     "text": [
      "c:\\Users\\alexi\\anaconda3\\lib\\site-packages\\pandas\\util\\_decorators.py:311: SettingWithCopyWarning:\n",
      "\n",
      "\n",
      "A value is trying to be set on a copy of a slice from a DataFrame\n",
      "\n",
      "See the caveats in the documentation: https://pandas.pydata.org/pandas-docs/stable/user_guide/indexing.html#returning-a-view-versus-a-copy\n",
      "\n"
     ]
    },
    {
     "data": {
      "text/html": [
       "<div>\n",
       "<style scoped>\n",
       "    .dataframe tbody tr th:only-of-type {\n",
       "        vertical-align: middle;\n",
       "    }\n",
       "\n",
       "    .dataframe tbody tr th {\n",
       "        vertical-align: top;\n",
       "    }\n",
       "\n",
       "    .dataframe thead th {\n",
       "        text-align: right;\n",
       "    }\n",
       "</style>\n",
       "<table border=\"1\" class=\"dataframe\">\n",
       "  <thead>\n",
       "    <tr style=\"text-align: right;\">\n",
       "      <th></th>\n",
       "      <th>disc1.rec.lev1</th>\n",
       "      <th>disc2.rec.lev1</th>\n",
       "      <th>disc3.rec.lev1</th>\n",
       "    </tr>\n",
       "  </thead>\n",
       "  <tbody>\n",
       "    <tr>\n",
       "      <th>0</th>\n",
       "      <td>X</td>\n",
       "      <td>NaN</td>\n",
       "      <td>NaN</td>\n",
       "    </tr>\n",
       "    <tr>\n",
       "      <th>1</th>\n",
       "      <td>IV</td>\n",
       "      <td>NaN</td>\n",
       "      <td>NaN</td>\n",
       "    </tr>\n",
       "    <tr>\n",
       "      <th>2</th>\n",
       "      <td>X</td>\n",
       "      <td>NaN</td>\n",
       "      <td>NaN</td>\n",
       "    </tr>\n",
       "    <tr>\n",
       "      <th>3</th>\n",
       "      <td>V</td>\n",
       "      <td>V</td>\n",
       "      <td>NaN</td>\n",
       "    </tr>\n",
       "    <tr>\n",
       "      <th>4</th>\n",
       "      <td>V</td>\n",
       "      <td>V</td>\n",
       "      <td>NaN</td>\n",
       "    </tr>\n",
       "    <tr>\n",
       "      <th>...</th>\n",
       "      <td>...</td>\n",
       "      <td>...</td>\n",
       "      <td>...</td>\n",
       "    </tr>\n",
       "    <tr>\n",
       "      <th>100040</th>\n",
       "      <td>X</td>\n",
       "      <td>NaN</td>\n",
       "      <td>NaN</td>\n",
       "    </tr>\n",
       "    <tr>\n",
       "      <th>100041</th>\n",
       "      <td>VIII</td>\n",
       "      <td>NaN</td>\n",
       "      <td>NaN</td>\n",
       "    </tr>\n",
       "    <tr>\n",
       "      <th>100042</th>\n",
       "      <td>X</td>\n",
       "      <td>IX</td>\n",
       "      <td>NaN</td>\n",
       "    </tr>\n",
       "    <tr>\n",
       "      <th>100043</th>\n",
       "      <td>pharmacie</td>\n",
       "      <td>X</td>\n",
       "      <td>NaN</td>\n",
       "    </tr>\n",
       "    <tr>\n",
       "      <th>100044</th>\n",
       "      <td>pharmacie</td>\n",
       "      <td>NaN</td>\n",
       "      <td>NaN</td>\n",
       "    </tr>\n",
       "  </tbody>\n",
       "</table>\n",
       "<p>96873 rows × 3 columns</p>\n",
       "</div>"
      ],
      "text/plain": [
       "       disc1.rec.lev1 disc2.rec.lev1 disc3.rec.lev1\n",
       "0                   X            NaN            NaN\n",
       "1                  IV            NaN            NaN\n",
       "2                   X            NaN            NaN\n",
       "3                   V              V            NaN\n",
       "4                   V              V            NaN\n",
       "...               ...            ...            ...\n",
       "100040              X            NaN            NaN\n",
       "100041           VIII            NaN            NaN\n",
       "100042              X             IX            NaN\n",
       "100043      pharmacie              X            NaN\n",
       "100044      pharmacie            NaN            NaN\n",
       "\n",
       "[96873 rows x 3 columns]"
      ]
     },
     "execution_count": 3,
     "metadata": {},
     "output_type": "execute_result"
    }
   ],
   "source": [
    "df_theses.dropna(how='all', inplace=True)\n",
    "df_theses"
   ]
  },
  {
   "cell_type": "code",
   "execution_count": 4,
   "metadata": {},
   "outputs": [
    {
     "name": "stderr",
     "output_type": "stream",
     "text": [
      "c:\\Users\\alexi\\anaconda3\\lib\\site-packages\\plotly\\io\\_renderers.py:396: DeprecationWarning:\n",
      "\n",
      "distutils Version classes are deprecated. Use packaging.version instead.\n",
      "\n",
      "c:\\Users\\alexi\\anaconda3\\lib\\site-packages\\plotly\\io\\_renderers.py:396: DeprecationWarning:\n",
      "\n",
      "distutils Version classes are deprecated. Use packaging.version instead.\n",
      "\n"
     ]
    },
    {
     "data": {
      "application/vnd.plotly.v1+json": {
       "config": {
        "plotlyServerURL": "https://plot.ly"
       },
       "data": [
        {
         "alignmentgroup": "True",
         "hovertemplate": "x=%{x}<br>y=%{y}<extra></extra>",
         "legendgroup": "",
         "marker": {
          "color": "#636efa",
          "pattern": {
           "shape": ""
          }
         },
         "name": "",
         "offsetgroup": "",
         "orientation": "v",
         "showlegend": false,
         "textposition": "auto",
         "type": "bar",
         "x": [
          "IX",
          "V",
          "X",
          "VIII",
          "IV",
          "VI",
          "VII",
          "II",
          "III",
          "XII",
          "I - Droit",
          "I",
          "pharmacie"
         ],
         "xaxis": "x",
         "y": [
          25252,
          18382,
          15066,
          8040,
          7999,
          7919,
          4421,
          3433,
          2447,
          1803,
          1199,
          449,
          392
         ],
         "yaxis": "y"
        }
       ],
       "layout": {
        "barmode": "relative",
        "legend": {
         "tracegroupgap": 0
        },
        "margin": {
         "t": 60
        },
        "template": {
         "data": {
          "bar": [
           {
            "error_x": {
             "color": "#2a3f5f"
            },
            "error_y": {
             "color": "#2a3f5f"
            },
            "marker": {
             "line": {
              "color": "#E5ECF6",
              "width": 0.5
             },
             "pattern": {
              "fillmode": "overlay",
              "size": 10,
              "solidity": 0.2
             }
            },
            "type": "bar"
           }
          ],
          "barpolar": [
           {
            "marker": {
             "line": {
              "color": "#E5ECF6",
              "width": 0.5
             },
             "pattern": {
              "fillmode": "overlay",
              "size": 10,
              "solidity": 0.2
             }
            },
            "type": "barpolar"
           }
          ],
          "carpet": [
           {
            "aaxis": {
             "endlinecolor": "#2a3f5f",
             "gridcolor": "white",
             "linecolor": "white",
             "minorgridcolor": "white",
             "startlinecolor": "#2a3f5f"
            },
            "baxis": {
             "endlinecolor": "#2a3f5f",
             "gridcolor": "white",
             "linecolor": "white",
             "minorgridcolor": "white",
             "startlinecolor": "#2a3f5f"
            },
            "type": "carpet"
           }
          ],
          "choropleth": [
           {
            "colorbar": {
             "outlinewidth": 0,
             "ticks": ""
            },
            "type": "choropleth"
           }
          ],
          "contour": [
           {
            "colorbar": {
             "outlinewidth": 0,
             "ticks": ""
            },
            "colorscale": [
             [
              0,
              "#0d0887"
             ],
             [
              0.1111111111111111,
              "#46039f"
             ],
             [
              0.2222222222222222,
              "#7201a8"
             ],
             [
              0.3333333333333333,
              "#9c179e"
             ],
             [
              0.4444444444444444,
              "#bd3786"
             ],
             [
              0.5555555555555556,
              "#d8576b"
             ],
             [
              0.6666666666666666,
              "#ed7953"
             ],
             [
              0.7777777777777778,
              "#fb9f3a"
             ],
             [
              0.8888888888888888,
              "#fdca26"
             ],
             [
              1,
              "#f0f921"
             ]
            ],
            "type": "contour"
           }
          ],
          "contourcarpet": [
           {
            "colorbar": {
             "outlinewidth": 0,
             "ticks": ""
            },
            "type": "contourcarpet"
           }
          ],
          "heatmap": [
           {
            "colorbar": {
             "outlinewidth": 0,
             "ticks": ""
            },
            "colorscale": [
             [
              0,
              "#0d0887"
             ],
             [
              0.1111111111111111,
              "#46039f"
             ],
             [
              0.2222222222222222,
              "#7201a8"
             ],
             [
              0.3333333333333333,
              "#9c179e"
             ],
             [
              0.4444444444444444,
              "#bd3786"
             ],
             [
              0.5555555555555556,
              "#d8576b"
             ],
             [
              0.6666666666666666,
              "#ed7953"
             ],
             [
              0.7777777777777778,
              "#fb9f3a"
             ],
             [
              0.8888888888888888,
              "#fdca26"
             ],
             [
              1,
              "#f0f921"
             ]
            ],
            "type": "heatmap"
           }
          ],
          "heatmapgl": [
           {
            "colorbar": {
             "outlinewidth": 0,
             "ticks": ""
            },
            "colorscale": [
             [
              0,
              "#0d0887"
             ],
             [
              0.1111111111111111,
              "#46039f"
             ],
             [
              0.2222222222222222,
              "#7201a8"
             ],
             [
              0.3333333333333333,
              "#9c179e"
             ],
             [
              0.4444444444444444,
              "#bd3786"
             ],
             [
              0.5555555555555556,
              "#d8576b"
             ],
             [
              0.6666666666666666,
              "#ed7953"
             ],
             [
              0.7777777777777778,
              "#fb9f3a"
             ],
             [
              0.8888888888888888,
              "#fdca26"
             ],
             [
              1,
              "#f0f921"
             ]
            ],
            "type": "heatmapgl"
           }
          ],
          "histogram": [
           {
            "marker": {
             "pattern": {
              "fillmode": "overlay",
              "size": 10,
              "solidity": 0.2
             }
            },
            "type": "histogram"
           }
          ],
          "histogram2d": [
           {
            "colorbar": {
             "outlinewidth": 0,
             "ticks": ""
            },
            "colorscale": [
             [
              0,
              "#0d0887"
             ],
             [
              0.1111111111111111,
              "#46039f"
             ],
             [
              0.2222222222222222,
              "#7201a8"
             ],
             [
              0.3333333333333333,
              "#9c179e"
             ],
             [
              0.4444444444444444,
              "#bd3786"
             ],
             [
              0.5555555555555556,
              "#d8576b"
             ],
             [
              0.6666666666666666,
              "#ed7953"
             ],
             [
              0.7777777777777778,
              "#fb9f3a"
             ],
             [
              0.8888888888888888,
              "#fdca26"
             ],
             [
              1,
              "#f0f921"
             ]
            ],
            "type": "histogram2d"
           }
          ],
          "histogram2dcontour": [
           {
            "colorbar": {
             "outlinewidth": 0,
             "ticks": ""
            },
            "colorscale": [
             [
              0,
              "#0d0887"
             ],
             [
              0.1111111111111111,
              "#46039f"
             ],
             [
              0.2222222222222222,
              "#7201a8"
             ],
             [
              0.3333333333333333,
              "#9c179e"
             ],
             [
              0.4444444444444444,
              "#bd3786"
             ],
             [
              0.5555555555555556,
              "#d8576b"
             ],
             [
              0.6666666666666666,
              "#ed7953"
             ],
             [
              0.7777777777777778,
              "#fb9f3a"
             ],
             [
              0.8888888888888888,
              "#fdca26"
             ],
             [
              1,
              "#f0f921"
             ]
            ],
            "type": "histogram2dcontour"
           }
          ],
          "mesh3d": [
           {
            "colorbar": {
             "outlinewidth": 0,
             "ticks": ""
            },
            "type": "mesh3d"
           }
          ],
          "parcoords": [
           {
            "line": {
             "colorbar": {
              "outlinewidth": 0,
              "ticks": ""
             }
            },
            "type": "parcoords"
           }
          ],
          "pie": [
           {
            "automargin": true,
            "type": "pie"
           }
          ],
          "scatter": [
           {
            "marker": {
             "colorbar": {
              "outlinewidth": 0,
              "ticks": ""
             }
            },
            "type": "scatter"
           }
          ],
          "scatter3d": [
           {
            "line": {
             "colorbar": {
              "outlinewidth": 0,
              "ticks": ""
             }
            },
            "marker": {
             "colorbar": {
              "outlinewidth": 0,
              "ticks": ""
             }
            },
            "type": "scatter3d"
           }
          ],
          "scattercarpet": [
           {
            "marker": {
             "colorbar": {
              "outlinewidth": 0,
              "ticks": ""
             }
            },
            "type": "scattercarpet"
           }
          ],
          "scattergeo": [
           {
            "marker": {
             "colorbar": {
              "outlinewidth": 0,
              "ticks": ""
             }
            },
            "type": "scattergeo"
           }
          ],
          "scattergl": [
           {
            "marker": {
             "colorbar": {
              "outlinewidth": 0,
              "ticks": ""
             }
            },
            "type": "scattergl"
           }
          ],
          "scattermapbox": [
           {
            "marker": {
             "colorbar": {
              "outlinewidth": 0,
              "ticks": ""
             }
            },
            "type": "scattermapbox"
           }
          ],
          "scatterpolar": [
           {
            "marker": {
             "colorbar": {
              "outlinewidth": 0,
              "ticks": ""
             }
            },
            "type": "scatterpolar"
           }
          ],
          "scatterpolargl": [
           {
            "marker": {
             "colorbar": {
              "outlinewidth": 0,
              "ticks": ""
             }
            },
            "type": "scatterpolargl"
           }
          ],
          "scatterternary": [
           {
            "marker": {
             "colorbar": {
              "outlinewidth": 0,
              "ticks": ""
             }
            },
            "type": "scatterternary"
           }
          ],
          "surface": [
           {
            "colorbar": {
             "outlinewidth": 0,
             "ticks": ""
            },
            "colorscale": [
             [
              0,
              "#0d0887"
             ],
             [
              0.1111111111111111,
              "#46039f"
             ],
             [
              0.2222222222222222,
              "#7201a8"
             ],
             [
              0.3333333333333333,
              "#9c179e"
             ],
             [
              0.4444444444444444,
              "#bd3786"
             ],
             [
              0.5555555555555556,
              "#d8576b"
             ],
             [
              0.6666666666666666,
              "#ed7953"
             ],
             [
              0.7777777777777778,
              "#fb9f3a"
             ],
             [
              0.8888888888888888,
              "#fdca26"
             ],
             [
              1,
              "#f0f921"
             ]
            ],
            "type": "surface"
           }
          ],
          "table": [
           {
            "cells": {
             "fill": {
              "color": "#EBF0F8"
             },
             "line": {
              "color": "white"
             }
            },
            "header": {
             "fill": {
              "color": "#C8D4E3"
             },
             "line": {
              "color": "white"
             }
            },
            "type": "table"
           }
          ]
         },
         "layout": {
          "annotationdefaults": {
           "arrowcolor": "#2a3f5f",
           "arrowhead": 0,
           "arrowwidth": 1
          },
          "autotypenumbers": "strict",
          "coloraxis": {
           "colorbar": {
            "outlinewidth": 0,
            "ticks": ""
           }
          },
          "colorscale": {
           "diverging": [
            [
             0,
             "#8e0152"
            ],
            [
             0.1,
             "#c51b7d"
            ],
            [
             0.2,
             "#de77ae"
            ],
            [
             0.3,
             "#f1b6da"
            ],
            [
             0.4,
             "#fde0ef"
            ],
            [
             0.5,
             "#f7f7f7"
            ],
            [
             0.6,
             "#e6f5d0"
            ],
            [
             0.7,
             "#b8e186"
            ],
            [
             0.8,
             "#7fbc41"
            ],
            [
             0.9,
             "#4d9221"
            ],
            [
             1,
             "#276419"
            ]
           ],
           "sequential": [
            [
             0,
             "#0d0887"
            ],
            [
             0.1111111111111111,
             "#46039f"
            ],
            [
             0.2222222222222222,
             "#7201a8"
            ],
            [
             0.3333333333333333,
             "#9c179e"
            ],
            [
             0.4444444444444444,
             "#bd3786"
            ],
            [
             0.5555555555555556,
             "#d8576b"
            ],
            [
             0.6666666666666666,
             "#ed7953"
            ],
            [
             0.7777777777777778,
             "#fb9f3a"
            ],
            [
             0.8888888888888888,
             "#fdca26"
            ],
            [
             1,
             "#f0f921"
            ]
           ],
           "sequentialminus": [
            [
             0,
             "#0d0887"
            ],
            [
             0.1111111111111111,
             "#46039f"
            ],
            [
             0.2222222222222222,
             "#7201a8"
            ],
            [
             0.3333333333333333,
             "#9c179e"
            ],
            [
             0.4444444444444444,
             "#bd3786"
            ],
            [
             0.5555555555555556,
             "#d8576b"
            ],
            [
             0.6666666666666666,
             "#ed7953"
            ],
            [
             0.7777777777777778,
             "#fb9f3a"
            ],
            [
             0.8888888888888888,
             "#fdca26"
            ],
            [
             1,
             "#f0f921"
            ]
           ]
          },
          "colorway": [
           "#636efa",
           "#EF553B",
           "#00cc96",
           "#ab63fa",
           "#FFA15A",
           "#19d3f3",
           "#FF6692",
           "#B6E880",
           "#FF97FF",
           "#FECB52"
          ],
          "font": {
           "color": "#2a3f5f"
          },
          "geo": {
           "bgcolor": "white",
           "lakecolor": "white",
           "landcolor": "#E5ECF6",
           "showlakes": true,
           "showland": true,
           "subunitcolor": "white"
          },
          "hoverlabel": {
           "align": "left"
          },
          "hovermode": "closest",
          "mapbox": {
           "style": "light"
          },
          "paper_bgcolor": "white",
          "plot_bgcolor": "#E5ECF6",
          "polar": {
           "angularaxis": {
            "gridcolor": "white",
            "linecolor": "white",
            "ticks": ""
           },
           "bgcolor": "#E5ECF6",
           "radialaxis": {
            "gridcolor": "white",
            "linecolor": "white",
            "ticks": ""
           }
          },
          "scene": {
           "xaxis": {
            "backgroundcolor": "#E5ECF6",
            "gridcolor": "white",
            "gridwidth": 2,
            "linecolor": "white",
            "showbackground": true,
            "ticks": "",
            "zerolinecolor": "white"
           },
           "yaxis": {
            "backgroundcolor": "#E5ECF6",
            "gridcolor": "white",
            "gridwidth": 2,
            "linecolor": "white",
            "showbackground": true,
            "ticks": "",
            "zerolinecolor": "white"
           },
           "zaxis": {
            "backgroundcolor": "#E5ECF6",
            "gridcolor": "white",
            "gridwidth": 2,
            "linecolor": "white",
            "showbackground": true,
            "ticks": "",
            "zerolinecolor": "white"
           }
          },
          "shapedefaults": {
           "line": {
            "color": "#2a3f5f"
           }
          },
          "ternary": {
           "aaxis": {
            "gridcolor": "white",
            "linecolor": "white",
            "ticks": ""
           },
           "baxis": {
            "gridcolor": "white",
            "linecolor": "white",
            "ticks": ""
           },
           "bgcolor": "#E5ECF6",
           "caxis": {
            "gridcolor": "white",
            "linecolor": "white",
            "ticks": ""
           }
          },
          "title": {
           "x": 0.05
          },
          "xaxis": {
           "automargin": true,
           "gridcolor": "white",
           "linecolor": "white",
           "ticks": "",
           "title": {
            "standoff": 15
           },
           "zerolinecolor": "white",
           "zerolinewidth": 2
          },
          "yaxis": {
           "automargin": true,
           "gridcolor": "white",
           "linecolor": "white",
           "ticks": "",
           "title": {
            "standoff": 15
           },
           "zerolinecolor": "white",
           "zerolinewidth": 2
          }
         }
        },
        "xaxis": {
         "anchor": "y",
         "domain": [
          0,
          1
         ],
         "title": {
          "text": "Item"
         }
        },
        "yaxis": {
         "anchor": "x",
         "domain": [
          0,
          1
         ],
         "title": {
          "text": "Times Purchased"
         }
        }
       }
      }
     },
     "metadata": {},
     "output_type": "display_data"
    }
   ],
   "source": [
    "fig = px.bar(df['disc1.rec.lev1'].value_counts(), x=df['disc1.rec.lev1'].value_counts().index,y=df['disc1.rec.lev1'].value_counts().values)\n",
    "fig.update_layout(xaxis_title='Item', yaxis_title='Times Purchased')\n",
    "fig.show()"
   ]
  },
  {
   "attachments": {},
   "cell_type": "markdown",
   "metadata": {},
   "source": [
    "We create a merged column where we store a list with the values of the other columns"
   ]
  },
  {
   "cell_type": "code",
   "execution_count": 5,
   "metadata": {},
   "outputs": [
    {
     "name": "stderr",
     "output_type": "stream",
     "text": [
      "C:\\Users\\alexi\\AppData\\Local\\Temp\\ipykernel_8448\\4023426759.py:1: SettingWithCopyWarning:\n",
      "\n",
      "\n",
      "A value is trying to be set on a copy of a slice from a DataFrame.\n",
      "Try using .loc[row_indexer,col_indexer] = value instead\n",
      "\n",
      "See the caveats in the documentation: https://pandas.pydata.org/pandas-docs/stable/user_guide/indexing.html#returning-a-view-versus-a-copy\n",
      "\n"
     ]
    },
    {
     "data": {
      "text/plain": [
       "0        [X, nan, nan]\n",
       "1       [IV, nan, nan]\n",
       "2        [X, nan, nan]\n",
       "3          [V, V, nan]\n",
       "4          [V, V, nan]\n",
       "5      [VII, nan, nan]\n",
       "7       [VI, nan, nan]\n",
       "8     [VIII, nan, nan]\n",
       "9      [VII, nan, nan]\n",
       "10       [V, nan, nan]\n",
       "11       [V, nan, nan]\n",
       "12     [III, nan, nan]\n",
       "13      [IV, nan, nan]\n",
       "14       [IX, IX, nan]\n",
       "15      [VI, nan, nan]\n",
       "16       [V, nan, nan]\n",
       "17      [IX, nan, nan]\n",
       "18     [VII, nan, nan]\n",
       "19       [IX, IX, nan]\n",
       "20      [IV, nan, nan]\n",
       "21        [V, II, nan]\n",
       "22       [V, nan, nan]\n",
       "23      [VI, nan, nan]\n",
       "24    [VIII, nan, nan]\n",
       "25      [VI, nan, nan]\n",
       "26      [IX, nan, nan]\n",
       "27      [II, nan, nan]\n",
       "28      [IX, nan, nan]\n",
       "29       [V, nan, nan]\n",
       "30       [V, nan, nan]\n",
       "Name: merged, dtype: object"
      ]
     },
     "execution_count": 5,
     "metadata": {},
     "output_type": "execute_result"
    }
   ],
   "source": [
    "df_theses['merged'] = [[]] * len(df_theses)\n",
    "for index, row in df_theses.iterrows():\n",
    "    df_theses.at[index, 'merged'] = [row['disc1.rec.lev1'], row['disc2.rec.lev1'], row['disc3.rec.lev1']]\n",
    "df_theses['merged'].head(30)"
   ]
  },
  {
   "attachments": {},
   "cell_type": "markdown",
   "metadata": {},
   "source": [
    "We filter the NaN data from the merged column"
   ]
  },
  {
   "cell_type": "code",
   "execution_count": 6,
   "metadata": {},
   "outputs": [
    {
     "name": "stderr",
     "output_type": "stream",
     "text": [
      "C:\\Users\\alexi\\AppData\\Local\\Temp\\ipykernel_8448\\1182878656.py:1: SettingWithCopyWarning:\n",
      "\n",
      "\n",
      "A value is trying to be set on a copy of a slice from a DataFrame.\n",
      "Try using .loc[row_indexer,col_indexer] = value instead\n",
      "\n",
      "See the caveats in the documentation: https://pandas.pydata.org/pandas-docs/stable/user_guide/indexing.html#returning-a-view-versus-a-copy\n",
      "\n"
     ]
    },
    {
     "data": {
      "text/plain": [
       "0          [X]\n",
       "1         [IV]\n",
       "2          [X]\n",
       "3       [V, V]\n",
       "4       [V, V]\n",
       "5        [VII]\n",
       "7         [VI]\n",
       "8       [VIII]\n",
       "9        [VII]\n",
       "10         [V]\n",
       "11         [V]\n",
       "12       [III]\n",
       "13        [IV]\n",
       "14    [IX, IX]\n",
       "15        [VI]\n",
       "16         [V]\n",
       "17        [IX]\n",
       "18       [VII]\n",
       "19    [IX, IX]\n",
       "20        [IV]\n",
       "21     [V, II]\n",
       "22         [V]\n",
       "23        [VI]\n",
       "24      [VIII]\n",
       "25        [VI]\n",
       "26        [IX]\n",
       "27        [II]\n",
       "28        [IX]\n",
       "29         [V]\n",
       "30         [V]\n",
       "Name: merged, dtype: object"
      ]
     },
     "execution_count": 6,
     "metadata": {},
     "output_type": "execute_result"
    }
   ],
   "source": [
    "df_theses['merged'] = [list(filter(lambda x: not pd.isna(x), lst)) for lst in df_theses['merged']]\n",
    "df_theses['merged'].head(30)"
   ]
  },
  {
   "cell_type": "code",
   "execution_count": 7,
   "metadata": {},
   "outputs": [],
   "source": [
    "encoder_thesis = TransactionEncoder().fit(df_theses['merged'])"
   ]
  },
  {
   "cell_type": "code",
   "execution_count": 8,
   "metadata": {},
   "outputs": [
    {
     "data": {
      "text/plain": [
       "Index(['I', 'I - Droit', 'II', 'III', 'IV', 'IX', 'V', 'VI', 'VII', 'VIII',\n",
       "       'X', 'XII', 'pharmacie'],\n",
       "      dtype='object')"
      ]
     },
     "execution_count": 8,
     "metadata": {},
     "output_type": "execute_result"
    }
   ],
   "source": [
    "onehot_thesis = encoder_thesis.transform(df_theses['merged'])\n",
    "onehot_thesis = pd.DataFrame(onehot_thesis, columns=encoder_thesis.columns_)\n",
    "onehot_thesis.columns"
   ]
  },
  {
   "cell_type": "code",
   "execution_count": 9,
   "metadata": {},
   "outputs": [
    {
     "data": {
      "text/html": [
       "<div>\n",
       "<style scoped>\n",
       "    .dataframe tbody tr th:only-of-type {\n",
       "        vertical-align: middle;\n",
       "    }\n",
       "\n",
       "    .dataframe tbody tr th {\n",
       "        vertical-align: top;\n",
       "    }\n",
       "\n",
       "    .dataframe thead th {\n",
       "        text-align: right;\n",
       "    }\n",
       "</style>\n",
       "<table border=\"1\" class=\"dataframe\">\n",
       "  <thead>\n",
       "    <tr style=\"text-align: right;\">\n",
       "      <th></th>\n",
       "      <th>I</th>\n",
       "      <th>I - Droit</th>\n",
       "      <th>II</th>\n",
       "      <th>III</th>\n",
       "      <th>IV</th>\n",
       "      <th>IX</th>\n",
       "      <th>V</th>\n",
       "      <th>VI</th>\n",
       "      <th>VII</th>\n",
       "      <th>VIII</th>\n",
       "      <th>X</th>\n",
       "      <th>XII</th>\n",
       "      <th>pharmacie</th>\n",
       "    </tr>\n",
       "  </thead>\n",
       "  <tbody>\n",
       "    <tr>\n",
       "      <th>0</th>\n",
       "      <td>False</td>\n",
       "      <td>False</td>\n",
       "      <td>False</td>\n",
       "      <td>False</td>\n",
       "      <td>False</td>\n",
       "      <td>False</td>\n",
       "      <td>False</td>\n",
       "      <td>False</td>\n",
       "      <td>False</td>\n",
       "      <td>False</td>\n",
       "      <td>True</td>\n",
       "      <td>False</td>\n",
       "      <td>False</td>\n",
       "    </tr>\n",
       "    <tr>\n",
       "      <th>1</th>\n",
       "      <td>False</td>\n",
       "      <td>False</td>\n",
       "      <td>False</td>\n",
       "      <td>False</td>\n",
       "      <td>True</td>\n",
       "      <td>False</td>\n",
       "      <td>False</td>\n",
       "      <td>False</td>\n",
       "      <td>False</td>\n",
       "      <td>False</td>\n",
       "      <td>False</td>\n",
       "      <td>False</td>\n",
       "      <td>False</td>\n",
       "    </tr>\n",
       "    <tr>\n",
       "      <th>2</th>\n",
       "      <td>False</td>\n",
       "      <td>False</td>\n",
       "      <td>False</td>\n",
       "      <td>False</td>\n",
       "      <td>False</td>\n",
       "      <td>False</td>\n",
       "      <td>False</td>\n",
       "      <td>False</td>\n",
       "      <td>False</td>\n",
       "      <td>False</td>\n",
       "      <td>True</td>\n",
       "      <td>False</td>\n",
       "      <td>False</td>\n",
       "    </tr>\n",
       "    <tr>\n",
       "      <th>3</th>\n",
       "      <td>False</td>\n",
       "      <td>False</td>\n",
       "      <td>False</td>\n",
       "      <td>False</td>\n",
       "      <td>False</td>\n",
       "      <td>False</td>\n",
       "      <td>True</td>\n",
       "      <td>False</td>\n",
       "      <td>False</td>\n",
       "      <td>False</td>\n",
       "      <td>False</td>\n",
       "      <td>False</td>\n",
       "      <td>False</td>\n",
       "    </tr>\n",
       "    <tr>\n",
       "      <th>4</th>\n",
       "      <td>False</td>\n",
       "      <td>False</td>\n",
       "      <td>False</td>\n",
       "      <td>False</td>\n",
       "      <td>False</td>\n",
       "      <td>False</td>\n",
       "      <td>True</td>\n",
       "      <td>False</td>\n",
       "      <td>False</td>\n",
       "      <td>False</td>\n",
       "      <td>False</td>\n",
       "      <td>False</td>\n",
       "      <td>False</td>\n",
       "    </tr>\n",
       "    <tr>\n",
       "      <th>...</th>\n",
       "      <td>...</td>\n",
       "      <td>...</td>\n",
       "      <td>...</td>\n",
       "      <td>...</td>\n",
       "      <td>...</td>\n",
       "      <td>...</td>\n",
       "      <td>...</td>\n",
       "      <td>...</td>\n",
       "      <td>...</td>\n",
       "      <td>...</td>\n",
       "      <td>...</td>\n",
       "      <td>...</td>\n",
       "      <td>...</td>\n",
       "    </tr>\n",
       "    <tr>\n",
       "      <th>96868</th>\n",
       "      <td>False</td>\n",
       "      <td>False</td>\n",
       "      <td>False</td>\n",
       "      <td>False</td>\n",
       "      <td>False</td>\n",
       "      <td>False</td>\n",
       "      <td>False</td>\n",
       "      <td>False</td>\n",
       "      <td>False</td>\n",
       "      <td>False</td>\n",
       "      <td>True</td>\n",
       "      <td>False</td>\n",
       "      <td>False</td>\n",
       "    </tr>\n",
       "    <tr>\n",
       "      <th>96869</th>\n",
       "      <td>False</td>\n",
       "      <td>False</td>\n",
       "      <td>False</td>\n",
       "      <td>False</td>\n",
       "      <td>False</td>\n",
       "      <td>False</td>\n",
       "      <td>False</td>\n",
       "      <td>False</td>\n",
       "      <td>False</td>\n",
       "      <td>True</td>\n",
       "      <td>False</td>\n",
       "      <td>False</td>\n",
       "      <td>False</td>\n",
       "    </tr>\n",
       "    <tr>\n",
       "      <th>96870</th>\n",
       "      <td>False</td>\n",
       "      <td>False</td>\n",
       "      <td>False</td>\n",
       "      <td>False</td>\n",
       "      <td>False</td>\n",
       "      <td>True</td>\n",
       "      <td>False</td>\n",
       "      <td>False</td>\n",
       "      <td>False</td>\n",
       "      <td>False</td>\n",
       "      <td>True</td>\n",
       "      <td>False</td>\n",
       "      <td>False</td>\n",
       "    </tr>\n",
       "    <tr>\n",
       "      <th>96871</th>\n",
       "      <td>False</td>\n",
       "      <td>False</td>\n",
       "      <td>False</td>\n",
       "      <td>False</td>\n",
       "      <td>False</td>\n",
       "      <td>False</td>\n",
       "      <td>False</td>\n",
       "      <td>False</td>\n",
       "      <td>False</td>\n",
       "      <td>False</td>\n",
       "      <td>True</td>\n",
       "      <td>False</td>\n",
       "      <td>True</td>\n",
       "    </tr>\n",
       "    <tr>\n",
       "      <th>96872</th>\n",
       "      <td>False</td>\n",
       "      <td>False</td>\n",
       "      <td>False</td>\n",
       "      <td>False</td>\n",
       "      <td>False</td>\n",
       "      <td>False</td>\n",
       "      <td>False</td>\n",
       "      <td>False</td>\n",
       "      <td>False</td>\n",
       "      <td>False</td>\n",
       "      <td>False</td>\n",
       "      <td>False</td>\n",
       "      <td>True</td>\n",
       "    </tr>\n",
       "  </tbody>\n",
       "</table>\n",
       "<p>96873 rows × 13 columns</p>\n",
       "</div>"
      ],
      "text/plain": [
       "           I  I - Droit     II    III     IV     IX      V     VI    VII  \\\n",
       "0      False      False  False  False  False  False  False  False  False   \n",
       "1      False      False  False  False   True  False  False  False  False   \n",
       "2      False      False  False  False  False  False  False  False  False   \n",
       "3      False      False  False  False  False  False   True  False  False   \n",
       "4      False      False  False  False  False  False   True  False  False   \n",
       "...      ...        ...    ...    ...    ...    ...    ...    ...    ...   \n",
       "96868  False      False  False  False  False  False  False  False  False   \n",
       "96869  False      False  False  False  False  False  False  False  False   \n",
       "96870  False      False  False  False  False   True  False  False  False   \n",
       "96871  False      False  False  False  False  False  False  False  False   \n",
       "96872  False      False  False  False  False  False  False  False  False   \n",
       "\n",
       "        VIII      X    XII  pharmacie  \n",
       "0      False   True  False      False  \n",
       "1      False  False  False      False  \n",
       "2      False   True  False      False  \n",
       "3      False  False  False      False  \n",
       "4      False  False  False      False  \n",
       "...      ...    ...    ...        ...  \n",
       "96868  False   True  False      False  \n",
       "96869   True  False  False      False  \n",
       "96870  False   True  False      False  \n",
       "96871  False   True  False       True  \n",
       "96872  False  False  False       True  \n",
       "\n",
       "[96873 rows x 13 columns]"
      ]
     },
     "execution_count": 9,
     "metadata": {},
     "output_type": "execute_result"
    }
   ],
   "source": [
    "onehot_thesis"
   ]
  },
  {
   "cell_type": "code",
   "execution_count": 10,
   "metadata": {},
   "outputs": [
    {
     "data": {
      "text/html": [
       "<div>\n",
       "<style scoped>\n",
       "    .dataframe tbody tr th:only-of-type {\n",
       "        vertical-align: middle;\n",
       "    }\n",
       "\n",
       "    .dataframe tbody tr th {\n",
       "        vertical-align: top;\n",
       "    }\n",
       "\n",
       "    .dataframe thead th {\n",
       "        text-align: right;\n",
       "    }\n",
       "</style>\n",
       "<table border=\"1\" class=\"dataframe\">\n",
       "  <thead>\n",
       "    <tr style=\"text-align: right;\">\n",
       "      <th></th>\n",
       "      <th>support</th>\n",
       "      <th>itemsets</th>\n",
       "    </tr>\n",
       "  </thead>\n",
       "  <tbody>\n",
       "    <tr>\n",
       "      <th>0</th>\n",
       "      <td>0.005905</td>\n",
       "      <td>(I)</td>\n",
       "    </tr>\n",
       "    <tr>\n",
       "      <th>1</th>\n",
       "      <td>0.012687</td>\n",
       "      <td>(I - Droit)</td>\n",
       "    </tr>\n",
       "    <tr>\n",
       "      <th>2</th>\n",
       "      <td>0.038277</td>\n",
       "      <td>(II)</td>\n",
       "    </tr>\n",
       "    <tr>\n",
       "      <th>3</th>\n",
       "      <td>0.027324</td>\n",
       "      <td>(III)</td>\n",
       "    </tr>\n",
       "    <tr>\n",
       "      <th>4</th>\n",
       "      <td>0.090108</td>\n",
       "      <td>(IV)</td>\n",
       "    </tr>\n",
       "    <tr>\n",
       "      <th>5</th>\n",
       "      <td>0.281038</td>\n",
       "      <td>(IX)</td>\n",
       "    </tr>\n",
       "    <tr>\n",
       "      <th>6</th>\n",
       "      <td>0.202678</td>\n",
       "      <td>(V)</td>\n",
       "    </tr>\n",
       "    <tr>\n",
       "      <th>7</th>\n",
       "      <td>0.091078</td>\n",
       "      <td>(VI)</td>\n",
       "    </tr>\n",
       "    <tr>\n",
       "      <th>8</th>\n",
       "      <td>0.048342</td>\n",
       "      <td>(VII)</td>\n",
       "    </tr>\n",
       "    <tr>\n",
       "      <th>9</th>\n",
       "      <td>0.089468</td>\n",
       "      <td>(VIII)</td>\n",
       "    </tr>\n",
       "    <tr>\n",
       "      <th>10</th>\n",
       "      <td>0.164958</td>\n",
       "      <td>(X)</td>\n",
       "    </tr>\n",
       "    <tr>\n",
       "      <th>11</th>\n",
       "      <td>0.023133</td>\n",
       "      <td>(XII)</td>\n",
       "    </tr>\n",
       "    <tr>\n",
       "      <th>12</th>\n",
       "      <td>0.005801</td>\n",
       "      <td>(pharmacie)</td>\n",
       "    </tr>\n",
       "    <tr>\n",
       "      <th>13</th>\n",
       "      <td>0.001745</td>\n",
       "      <td>(I, IV)</td>\n",
       "    </tr>\n",
       "    <tr>\n",
       "      <th>14</th>\n",
       "      <td>0.002416</td>\n",
       "      <td>(II, IV)</td>\n",
       "    </tr>\n",
       "    <tr>\n",
       "      <th>15</th>\n",
       "      <td>0.001228</td>\n",
       "      <td>(V, II)</td>\n",
       "    </tr>\n",
       "    <tr>\n",
       "      <th>16</th>\n",
       "      <td>0.002281</td>\n",
       "      <td>(IV, III)</td>\n",
       "    </tr>\n",
       "    <tr>\n",
       "      <th>17</th>\n",
       "      <td>0.001332</td>\n",
       "      <td>(III, XII)</td>\n",
       "    </tr>\n",
       "    <tr>\n",
       "      <th>18</th>\n",
       "      <td>0.001435</td>\n",
       "      <td>(V, IV)</td>\n",
       "    </tr>\n",
       "    <tr>\n",
       "      <th>19</th>\n",
       "      <td>0.001321</td>\n",
       "      <td>(IV, VIII)</td>\n",
       "    </tr>\n",
       "    <tr>\n",
       "      <th>20</th>\n",
       "      <td>0.001972</td>\n",
       "      <td>(X, IV)</td>\n",
       "    </tr>\n",
       "    <tr>\n",
       "      <th>21</th>\n",
       "      <td>0.003458</td>\n",
       "      <td>(IV, XII)</td>\n",
       "    </tr>\n",
       "    <tr>\n",
       "      <th>22</th>\n",
       "      <td>0.011469</td>\n",
       "      <td>(V, IX)</td>\n",
       "    </tr>\n",
       "    <tr>\n",
       "      <th>23</th>\n",
       "      <td>0.013502</td>\n",
       "      <td>(IX, VI)</td>\n",
       "    </tr>\n",
       "    <tr>\n",
       "      <th>24</th>\n",
       "      <td>0.004088</td>\n",
       "      <td>(VII, IX)</td>\n",
       "    </tr>\n",
       "    <tr>\n",
       "      <th>25</th>\n",
       "      <td>0.006782</td>\n",
       "      <td>(IX, VIII)</td>\n",
       "    </tr>\n",
       "    <tr>\n",
       "      <th>26</th>\n",
       "      <td>0.005430</td>\n",
       "      <td>(X, IX)</td>\n",
       "    </tr>\n",
       "    <tr>\n",
       "      <th>27</th>\n",
       "      <td>0.001899</td>\n",
       "      <td>(V, VI)</td>\n",
       "    </tr>\n",
       "    <tr>\n",
       "      <th>28</th>\n",
       "      <td>0.001311</td>\n",
       "      <td>(V, VIII)</td>\n",
       "    </tr>\n",
       "    <tr>\n",
       "      <th>29</th>\n",
       "      <td>0.004191</td>\n",
       "      <td>(X, V)</td>\n",
       "    </tr>\n",
       "    <tr>\n",
       "      <th>30</th>\n",
       "      <td>0.001579</td>\n",
       "      <td>(V, XII)</td>\n",
       "    </tr>\n",
       "    <tr>\n",
       "      <th>31</th>\n",
       "      <td>0.001951</td>\n",
       "      <td>(VII, VI)</td>\n",
       "    </tr>\n",
       "    <tr>\n",
       "      <th>32</th>\n",
       "      <td>0.001084</td>\n",
       "      <td>(VIII, VI)</td>\n",
       "    </tr>\n",
       "    <tr>\n",
       "      <th>33</th>\n",
       "      <td>0.001259</td>\n",
       "      <td>(X, VI)</td>\n",
       "    </tr>\n",
       "    <tr>\n",
       "      <th>34</th>\n",
       "      <td>0.001063</td>\n",
       "      <td>(X, VII)</td>\n",
       "    </tr>\n",
       "    <tr>\n",
       "      <th>35</th>\n",
       "      <td>0.001817</td>\n",
       "      <td>(X, VIII)</td>\n",
       "    </tr>\n",
       "    <tr>\n",
       "      <th>36</th>\n",
       "      <td>0.002364</td>\n",
       "      <td>(X, pharmacie)</td>\n",
       "    </tr>\n",
       "  </tbody>\n",
       "</table>\n",
       "</div>"
      ],
      "text/plain": [
       "     support        itemsets\n",
       "0   0.005905             (I)\n",
       "1   0.012687     (I - Droit)\n",
       "2   0.038277            (II)\n",
       "3   0.027324           (III)\n",
       "4   0.090108            (IV)\n",
       "5   0.281038            (IX)\n",
       "6   0.202678             (V)\n",
       "7   0.091078            (VI)\n",
       "8   0.048342           (VII)\n",
       "9   0.089468          (VIII)\n",
       "10  0.164958             (X)\n",
       "11  0.023133           (XII)\n",
       "12  0.005801     (pharmacie)\n",
       "13  0.001745         (I, IV)\n",
       "14  0.002416        (II, IV)\n",
       "15  0.001228         (V, II)\n",
       "16  0.002281       (IV, III)\n",
       "17  0.001332      (III, XII)\n",
       "18  0.001435         (V, IV)\n",
       "19  0.001321      (IV, VIII)\n",
       "20  0.001972         (X, IV)\n",
       "21  0.003458       (IV, XII)\n",
       "22  0.011469         (V, IX)\n",
       "23  0.013502        (IX, VI)\n",
       "24  0.004088       (VII, IX)\n",
       "25  0.006782      (IX, VIII)\n",
       "26  0.005430         (X, IX)\n",
       "27  0.001899         (V, VI)\n",
       "28  0.001311       (V, VIII)\n",
       "29  0.004191          (X, V)\n",
       "30  0.001579        (V, XII)\n",
       "31  0.001951       (VII, VI)\n",
       "32  0.001084      (VIII, VI)\n",
       "33  0.001259         (X, VI)\n",
       "34  0.001063        (X, VII)\n",
       "35  0.001817       (X, VIII)\n",
       "36  0.002364  (X, pharmacie)"
      ]
     },
     "execution_count": 10,
     "metadata": {},
     "output_type": "execute_result"
    }
   ],
   "source": [
    "frequents = apriori(onehot_thesis,min_support=0.001, max_len=10, use_colnames=True )\n",
    "frequents"
   ]
  },
  {
   "cell_type": "code",
   "execution_count": 11,
   "metadata": {},
   "outputs": [
    {
     "data": {
      "text/html": [
       "<div>\n",
       "<style scoped>\n",
       "    .dataframe tbody tr th:only-of-type {\n",
       "        vertical-align: middle;\n",
       "    }\n",
       "\n",
       "    .dataframe tbody tr th {\n",
       "        vertical-align: top;\n",
       "    }\n",
       "\n",
       "    .dataframe thead th {\n",
       "        text-align: right;\n",
       "    }\n",
       "</style>\n",
       "<table border=\"1\" class=\"dataframe\">\n",
       "  <thead>\n",
       "    <tr style=\"text-align: right;\">\n",
       "      <th></th>\n",
       "      <th>antecedents</th>\n",
       "      <th>consequents</th>\n",
       "      <th>antecedent support</th>\n",
       "      <th>consequent support</th>\n",
       "      <th>support</th>\n",
       "      <th>confidence</th>\n",
       "      <th>lift</th>\n",
       "      <th>leverage</th>\n",
       "      <th>conviction</th>\n",
       "      <th>zhangs_metric</th>\n",
       "    </tr>\n",
       "  </thead>\n",
       "  <tbody>\n",
       "    <tr>\n",
       "      <th>0</th>\n",
       "      <td>(I)</td>\n",
       "      <td>(IV)</td>\n",
       "      <td>0.005905</td>\n",
       "      <td>0.090108</td>\n",
       "      <td>0.001745</td>\n",
       "      <td>0.295455</td>\n",
       "      <td>3.278906</td>\n",
       "      <td>0.001212</td>\n",
       "      <td>1.291460</td>\n",
       "      <td>0.699148</td>\n",
       "    </tr>\n",
       "    <tr>\n",
       "      <th>1</th>\n",
       "      <td>(IV)</td>\n",
       "      <td>(I)</td>\n",
       "      <td>0.090108</td>\n",
       "      <td>0.005905</td>\n",
       "      <td>0.001745</td>\n",
       "      <td>0.019361</td>\n",
       "      <td>3.278906</td>\n",
       "      <td>0.001212</td>\n",
       "      <td>1.013722</td>\n",
       "      <td>0.763849</td>\n",
       "    </tr>\n",
       "    <tr>\n",
       "      <th>2</th>\n",
       "      <td>(II)</td>\n",
       "      <td>(IV)</td>\n",
       "      <td>0.038277</td>\n",
       "      <td>0.090108</td>\n",
       "      <td>0.002416</td>\n",
       "      <td>0.063107</td>\n",
       "      <td>0.700349</td>\n",
       "      <td>-0.001034</td>\n",
       "      <td>0.971180</td>\n",
       "      <td>-0.307905</td>\n",
       "    </tr>\n",
       "    <tr>\n",
       "      <th>3</th>\n",
       "      <td>(IV)</td>\n",
       "      <td>(II)</td>\n",
       "      <td>0.090108</td>\n",
       "      <td>0.038277</td>\n",
       "      <td>0.002416</td>\n",
       "      <td>0.026807</td>\n",
       "      <td>0.700349</td>\n",
       "      <td>-0.001034</td>\n",
       "      <td>0.988214</td>\n",
       "      <td>-0.319835</td>\n",
       "    </tr>\n",
       "    <tr>\n",
       "      <th>4</th>\n",
       "      <td>(V)</td>\n",
       "      <td>(II)</td>\n",
       "      <td>0.202678</td>\n",
       "      <td>0.038277</td>\n",
       "      <td>0.001228</td>\n",
       "      <td>0.006061</td>\n",
       "      <td>0.158344</td>\n",
       "      <td>-0.006529</td>\n",
       "      <td>0.967588</td>\n",
       "      <td>-0.869563</td>\n",
       "    </tr>\n",
       "    <tr>\n",
       "      <th>5</th>\n",
       "      <td>(II)</td>\n",
       "      <td>(V)</td>\n",
       "      <td>0.038277</td>\n",
       "      <td>0.202678</td>\n",
       "      <td>0.001228</td>\n",
       "      <td>0.032093</td>\n",
       "      <td>0.158344</td>\n",
       "      <td>-0.006529</td>\n",
       "      <td>0.823759</td>\n",
       "      <td>-0.846788</td>\n",
       "    </tr>\n",
       "    <tr>\n",
       "      <th>6</th>\n",
       "      <td>(IV)</td>\n",
       "      <td>(III)</td>\n",
       "      <td>0.090108</td>\n",
       "      <td>0.027324</td>\n",
       "      <td>0.002281</td>\n",
       "      <td>0.025318</td>\n",
       "      <td>0.926566</td>\n",
       "      <td>-0.000181</td>\n",
       "      <td>0.997941</td>\n",
       "      <td>-0.080123</td>\n",
       "    </tr>\n",
       "    <tr>\n",
       "      <th>7</th>\n",
       "      <td>(III)</td>\n",
       "      <td>(IV)</td>\n",
       "      <td>0.027324</td>\n",
       "      <td>0.090108</td>\n",
       "      <td>0.002281</td>\n",
       "      <td>0.083491</td>\n",
       "      <td>0.926566</td>\n",
       "      <td>-0.000181</td>\n",
       "      <td>0.992780</td>\n",
       "      <td>-0.075341</td>\n",
       "    </tr>\n",
       "    <tr>\n",
       "      <th>8</th>\n",
       "      <td>(III)</td>\n",
       "      <td>(XII)</td>\n",
       "      <td>0.027324</td>\n",
       "      <td>0.023133</td>\n",
       "      <td>0.001332</td>\n",
       "      <td>0.048734</td>\n",
       "      <td>2.106671</td>\n",
       "      <td>0.000700</td>\n",
       "      <td>1.026913</td>\n",
       "      <td>0.540075</td>\n",
       "    </tr>\n",
       "    <tr>\n",
       "      <th>9</th>\n",
       "      <td>(XII)</td>\n",
       "      <td>(III)</td>\n",
       "      <td>0.023133</td>\n",
       "      <td>0.027324</td>\n",
       "      <td>0.001332</td>\n",
       "      <td>0.057564</td>\n",
       "      <td>2.106671</td>\n",
       "      <td>0.000700</td>\n",
       "      <td>1.032086</td>\n",
       "      <td>0.537758</td>\n",
       "    </tr>\n",
       "    <tr>\n",
       "      <th>10</th>\n",
       "      <td>(V)</td>\n",
       "      <td>(IV)</td>\n",
       "      <td>0.202678</td>\n",
       "      <td>0.090108</td>\n",
       "      <td>0.001435</td>\n",
       "      <td>0.007080</td>\n",
       "      <td>0.078568</td>\n",
       "      <td>-0.016828</td>\n",
       "      <td>0.916380</td>\n",
       "      <td>-0.936343</td>\n",
       "    </tr>\n",
       "    <tr>\n",
       "      <th>11</th>\n",
       "      <td>(IV)</td>\n",
       "      <td>(V)</td>\n",
       "      <td>0.090108</td>\n",
       "      <td>0.202678</td>\n",
       "      <td>0.001435</td>\n",
       "      <td>0.015924</td>\n",
       "      <td>0.078568</td>\n",
       "      <td>-0.016828</td>\n",
       "      <td>0.810224</td>\n",
       "      <td>-0.928002</td>\n",
       "    </tr>\n",
       "    <tr>\n",
       "      <th>12</th>\n",
       "      <td>(IV)</td>\n",
       "      <td>(VIII)</td>\n",
       "      <td>0.090108</td>\n",
       "      <td>0.089468</td>\n",
       "      <td>0.001321</td>\n",
       "      <td>0.014664</td>\n",
       "      <td>0.163900</td>\n",
       "      <td>-0.006740</td>\n",
       "      <td>0.924083</td>\n",
       "      <td>-0.848633</td>\n",
       "    </tr>\n",
       "    <tr>\n",
       "      <th>13</th>\n",
       "      <td>(VIII)</td>\n",
       "      <td>(IV)</td>\n",
       "      <td>0.089468</td>\n",
       "      <td>0.090108</td>\n",
       "      <td>0.001321</td>\n",
       "      <td>0.014769</td>\n",
       "      <td>0.163900</td>\n",
       "      <td>-0.006740</td>\n",
       "      <td>0.923532</td>\n",
       "      <td>-0.848543</td>\n",
       "    </tr>\n",
       "    <tr>\n",
       "      <th>14</th>\n",
       "      <td>(X)</td>\n",
       "      <td>(IV)</td>\n",
       "      <td>0.164958</td>\n",
       "      <td>0.090108</td>\n",
       "      <td>0.001972</td>\n",
       "      <td>0.011952</td>\n",
       "      <td>0.132646</td>\n",
       "      <td>-0.012892</td>\n",
       "      <td>0.920899</td>\n",
       "      <td>-0.886757</td>\n",
       "    </tr>\n",
       "    <tr>\n",
       "      <th>15</th>\n",
       "      <td>(IV)</td>\n",
       "      <td>(X)</td>\n",
       "      <td>0.090108</td>\n",
       "      <td>0.164958</td>\n",
       "      <td>0.001972</td>\n",
       "      <td>0.021881</td>\n",
       "      <td>0.132646</td>\n",
       "      <td>-0.012892</td>\n",
       "      <td>0.853722</td>\n",
       "      <td>-0.877846</td>\n",
       "    </tr>\n",
       "    <tr>\n",
       "      <th>16</th>\n",
       "      <td>(IV)</td>\n",
       "      <td>(XII)</td>\n",
       "      <td>0.090108</td>\n",
       "      <td>0.023133</td>\n",
       "      <td>0.003458</td>\n",
       "      <td>0.038378</td>\n",
       "      <td>1.658980</td>\n",
       "      <td>0.001374</td>\n",
       "      <td>1.015853</td>\n",
       "      <td>0.436557</td>\n",
       "    </tr>\n",
       "    <tr>\n",
       "      <th>17</th>\n",
       "      <td>(XII)</td>\n",
       "      <td>(IV)</td>\n",
       "      <td>0.023133</td>\n",
       "      <td>0.090108</td>\n",
       "      <td>0.003458</td>\n",
       "      <td>0.149487</td>\n",
       "      <td>1.658980</td>\n",
       "      <td>0.001374</td>\n",
       "      <td>1.069816</td>\n",
       "      <td>0.406627</td>\n",
       "    </tr>\n",
       "    <tr>\n",
       "      <th>18</th>\n",
       "      <td>(V)</td>\n",
       "      <td>(IX)</td>\n",
       "      <td>0.202678</td>\n",
       "      <td>0.281038</td>\n",
       "      <td>0.011469</td>\n",
       "      <td>0.056586</td>\n",
       "      <td>0.201345</td>\n",
       "      <td>-0.045492</td>\n",
       "      <td>0.762085</td>\n",
       "      <td>-0.832634</td>\n",
       "    </tr>\n",
       "    <tr>\n",
       "      <th>19</th>\n",
       "      <td>(IX)</td>\n",
       "      <td>(V)</td>\n",
       "      <td>0.281038</td>\n",
       "      <td>0.202678</td>\n",
       "      <td>0.011469</td>\n",
       "      <td>0.040808</td>\n",
       "      <td>0.201345</td>\n",
       "      <td>-0.045492</td>\n",
       "      <td>0.831244</td>\n",
       "      <td>-0.846558</td>\n",
       "    </tr>\n",
       "    <tr>\n",
       "      <th>20</th>\n",
       "      <td>(IX)</td>\n",
       "      <td>(VI)</td>\n",
       "      <td>0.281038</td>\n",
       "      <td>0.091078</td>\n",
       "      <td>0.013502</td>\n",
       "      <td>0.048044</td>\n",
       "      <td>0.527505</td>\n",
       "      <td>-0.012094</td>\n",
       "      <td>0.954794</td>\n",
       "      <td>-0.554734</td>\n",
       "    </tr>\n",
       "    <tr>\n",
       "      <th>21</th>\n",
       "      <td>(VI)</td>\n",
       "      <td>(IX)</td>\n",
       "      <td>0.091078</td>\n",
       "      <td>0.281038</td>\n",
       "      <td>0.013502</td>\n",
       "      <td>0.148249</td>\n",
       "      <td>0.527505</td>\n",
       "      <td>-0.012094</td>\n",
       "      <td>0.844099</td>\n",
       "      <td>-0.496342</td>\n",
       "    </tr>\n",
       "    <tr>\n",
       "      <th>22</th>\n",
       "      <td>(VII)</td>\n",
       "      <td>(IX)</td>\n",
       "      <td>0.048342</td>\n",
       "      <td>0.281038</td>\n",
       "      <td>0.004088</td>\n",
       "      <td>0.084561</td>\n",
       "      <td>0.300889</td>\n",
       "      <td>-0.009498</td>\n",
       "      <td>0.785374</td>\n",
       "      <td>-0.709430</td>\n",
       "    </tr>\n",
       "    <tr>\n",
       "      <th>23</th>\n",
       "      <td>(IX)</td>\n",
       "      <td>(VII)</td>\n",
       "      <td>0.281038</td>\n",
       "      <td>0.048342</td>\n",
       "      <td>0.004088</td>\n",
       "      <td>0.014545</td>\n",
       "      <td>0.300889</td>\n",
       "      <td>-0.009498</td>\n",
       "      <td>0.965705</td>\n",
       "      <td>-0.763690</td>\n",
       "    </tr>\n",
       "    <tr>\n",
       "      <th>24</th>\n",
       "      <td>(IX)</td>\n",
       "      <td>(VIII)</td>\n",
       "      <td>0.281038</td>\n",
       "      <td>0.089468</td>\n",
       "      <td>0.006782</td>\n",
       "      <td>0.024132</td>\n",
       "      <td>0.269731</td>\n",
       "      <td>-0.018362</td>\n",
       "      <td>0.933049</td>\n",
       "      <td>-0.790167</td>\n",
       "    </tr>\n",
       "    <tr>\n",
       "      <th>25</th>\n",
       "      <td>(VIII)</td>\n",
       "      <td>(IX)</td>\n",
       "      <td>0.089468</td>\n",
       "      <td>0.281038</td>\n",
       "      <td>0.006782</td>\n",
       "      <td>0.075805</td>\n",
       "      <td>0.269731</td>\n",
       "      <td>-0.018362</td>\n",
       "      <td>0.777933</td>\n",
       "      <td>-0.748327</td>\n",
       "    </tr>\n",
       "    <tr>\n",
       "      <th>26</th>\n",
       "      <td>(X)</td>\n",
       "      <td>(IX)</td>\n",
       "      <td>0.164958</td>\n",
       "      <td>0.281038</td>\n",
       "      <td>0.005430</td>\n",
       "      <td>0.032916</td>\n",
       "      <td>0.117123</td>\n",
       "      <td>-0.040930</td>\n",
       "      <td>0.743433</td>\n",
       "      <td>-0.900270</td>\n",
       "    </tr>\n",
       "    <tr>\n",
       "      <th>27</th>\n",
       "      <td>(IX)</td>\n",
       "      <td>(X)</td>\n",
       "      <td>0.281038</td>\n",
       "      <td>0.164958</td>\n",
       "      <td>0.005430</td>\n",
       "      <td>0.019320</td>\n",
       "      <td>0.117123</td>\n",
       "      <td>-0.040930</td>\n",
       "      <td>0.851493</td>\n",
       "      <td>-0.912927</td>\n",
       "    </tr>\n",
       "    <tr>\n",
       "      <th>28</th>\n",
       "      <td>(V)</td>\n",
       "      <td>(VI)</td>\n",
       "      <td>0.202678</td>\n",
       "      <td>0.091078</td>\n",
       "      <td>0.001899</td>\n",
       "      <td>0.009371</td>\n",
       "      <td>0.102895</td>\n",
       "      <td>-0.016560</td>\n",
       "      <td>0.917521</td>\n",
       "      <td>-0.916212</td>\n",
       "    </tr>\n",
       "    <tr>\n",
       "      <th>29</th>\n",
       "      <td>(VI)</td>\n",
       "      <td>(V)</td>\n",
       "      <td>0.091078</td>\n",
       "      <td>0.202678</td>\n",
       "      <td>0.001899</td>\n",
       "      <td>0.020855</td>\n",
       "      <td>0.102895</td>\n",
       "      <td>-0.016560</td>\n",
       "      <td>0.814304</td>\n",
       "      <td>-0.905591</td>\n",
       "    </tr>\n",
       "    <tr>\n",
       "      <th>30</th>\n",
       "      <td>(V)</td>\n",
       "      <td>(VIII)</td>\n",
       "      <td>0.202678</td>\n",
       "      <td>0.089468</td>\n",
       "      <td>0.001311</td>\n",
       "      <td>0.006468</td>\n",
       "      <td>0.072298</td>\n",
       "      <td>-0.016822</td>\n",
       "      <td>0.916460</td>\n",
       "      <td>-0.941498</td>\n",
       "    </tr>\n",
       "    <tr>\n",
       "      <th>31</th>\n",
       "      <td>(VIII)</td>\n",
       "      <td>(V)</td>\n",
       "      <td>0.089468</td>\n",
       "      <td>0.202678</td>\n",
       "      <td>0.001311</td>\n",
       "      <td>0.014653</td>\n",
       "      <td>0.072298</td>\n",
       "      <td>-0.016822</td>\n",
       "      <td>0.809179</td>\n",
       "      <td>-0.933741</td>\n",
       "    </tr>\n",
       "    <tr>\n",
       "      <th>32</th>\n",
       "      <td>(X)</td>\n",
       "      <td>(V)</td>\n",
       "      <td>0.164958</td>\n",
       "      <td>0.202678</td>\n",
       "      <td>0.004191</td>\n",
       "      <td>0.025407</td>\n",
       "      <td>0.125355</td>\n",
       "      <td>-0.029242</td>\n",
       "      <td>0.818108</td>\n",
       "      <td>-0.893113</td>\n",
       "    </tr>\n",
       "    <tr>\n",
       "      <th>33</th>\n",
       "      <td>(V)</td>\n",
       "      <td>(X)</td>\n",
       "      <td>0.202678</td>\n",
       "      <td>0.164958</td>\n",
       "      <td>0.004191</td>\n",
       "      <td>0.020678</td>\n",
       "      <td>0.125355</td>\n",
       "      <td>-0.029242</td>\n",
       "      <td>0.852674</td>\n",
       "      <td>-0.897446</td>\n",
       "    </tr>\n",
       "    <tr>\n",
       "      <th>34</th>\n",
       "      <td>(V)</td>\n",
       "      <td>(XII)</td>\n",
       "      <td>0.202678</td>\n",
       "      <td>0.023133</td>\n",
       "      <td>0.001579</td>\n",
       "      <td>0.007793</td>\n",
       "      <td>0.336855</td>\n",
       "      <td>-0.003109</td>\n",
       "      <td>0.984539</td>\n",
       "      <td>-0.711737</td>\n",
       "    </tr>\n",
       "    <tr>\n",
       "      <th>35</th>\n",
       "      <td>(XII)</td>\n",
       "      <td>(V)</td>\n",
       "      <td>0.023133</td>\n",
       "      <td>0.202678</td>\n",
       "      <td>0.001579</td>\n",
       "      <td>0.068273</td>\n",
       "      <td>0.336855</td>\n",
       "      <td>-0.003109</td>\n",
       "      <td>0.855747</td>\n",
       "      <td>-0.668353</td>\n",
       "    </tr>\n",
       "    <tr>\n",
       "      <th>36</th>\n",
       "      <td>(VII)</td>\n",
       "      <td>(VI)</td>\n",
       "      <td>0.048342</td>\n",
       "      <td>0.091078</td>\n",
       "      <td>0.001951</td>\n",
       "      <td>0.040359</td>\n",
       "      <td>0.443123</td>\n",
       "      <td>-0.002452</td>\n",
       "      <td>0.947148</td>\n",
       "      <td>-0.569067</td>\n",
       "    </tr>\n",
       "    <tr>\n",
       "      <th>37</th>\n",
       "      <td>(VI)</td>\n",
       "      <td>(VII)</td>\n",
       "      <td>0.091078</td>\n",
       "      <td>0.048342</td>\n",
       "      <td>0.001951</td>\n",
       "      <td>0.021421</td>\n",
       "      <td>0.443123</td>\n",
       "      <td>-0.002452</td>\n",
       "      <td>0.972490</td>\n",
       "      <td>-0.580297</td>\n",
       "    </tr>\n",
       "    <tr>\n",
       "      <th>38</th>\n",
       "      <td>(VIII)</td>\n",
       "      <td>(VI)</td>\n",
       "      <td>0.089468</td>\n",
       "      <td>0.091078</td>\n",
       "      <td>0.001084</td>\n",
       "      <td>0.012115</td>\n",
       "      <td>0.133017</td>\n",
       "      <td>-0.007065</td>\n",
       "      <td>0.920069</td>\n",
       "      <td>-0.877425</td>\n",
       "    </tr>\n",
       "    <tr>\n",
       "      <th>39</th>\n",
       "      <td>(VI)</td>\n",
       "      <td>(VIII)</td>\n",
       "      <td>0.091078</td>\n",
       "      <td>0.089468</td>\n",
       "      <td>0.001084</td>\n",
       "      <td>0.011901</td>\n",
       "      <td>0.133017</td>\n",
       "      <td>-0.007065</td>\n",
       "      <td>0.921499</td>\n",
       "      <td>-0.877615</td>\n",
       "    </tr>\n",
       "    <tr>\n",
       "      <th>40</th>\n",
       "      <td>(X)</td>\n",
       "      <td>(VI)</td>\n",
       "      <td>0.164958</td>\n",
       "      <td>0.091078</td>\n",
       "      <td>0.001259</td>\n",
       "      <td>0.007635</td>\n",
       "      <td>0.083824</td>\n",
       "      <td>-0.013765</td>\n",
       "      <td>0.915915</td>\n",
       "      <td>-0.929022</td>\n",
       "    </tr>\n",
       "    <tr>\n",
       "      <th>41</th>\n",
       "      <td>(VI)</td>\n",
       "      <td>(X)</td>\n",
       "      <td>0.091078</td>\n",
       "      <td>0.164958</td>\n",
       "      <td>0.001259</td>\n",
       "      <td>0.013827</td>\n",
       "      <td>0.083824</td>\n",
       "      <td>-0.013765</td>\n",
       "      <td>0.846750</td>\n",
       "      <td>-0.923224</td>\n",
       "    </tr>\n",
       "    <tr>\n",
       "      <th>42</th>\n",
       "      <td>(X)</td>\n",
       "      <td>(VII)</td>\n",
       "      <td>0.164958</td>\n",
       "      <td>0.048342</td>\n",
       "      <td>0.001063</td>\n",
       "      <td>0.006446</td>\n",
       "      <td>0.133333</td>\n",
       "      <td>-0.006911</td>\n",
       "      <td>0.957832</td>\n",
       "      <td>-0.886157</td>\n",
       "    </tr>\n",
       "    <tr>\n",
       "      <th>43</th>\n",
       "      <td>(VII)</td>\n",
       "      <td>(X)</td>\n",
       "      <td>0.048342</td>\n",
       "      <td>0.164958</td>\n",
       "      <td>0.001063</td>\n",
       "      <td>0.021994</td>\n",
       "      <td>0.133333</td>\n",
       "      <td>-0.006911</td>\n",
       "      <td>0.853821</td>\n",
       "      <td>-0.872289</td>\n",
       "    </tr>\n",
       "    <tr>\n",
       "      <th>44</th>\n",
       "      <td>(X)</td>\n",
       "      <td>(VIII)</td>\n",
       "      <td>0.164958</td>\n",
       "      <td>0.089468</td>\n",
       "      <td>0.001817</td>\n",
       "      <td>0.011014</td>\n",
       "      <td>0.123103</td>\n",
       "      <td>-0.012942</td>\n",
       "      <td>0.920672</td>\n",
       "      <td>-0.895073</td>\n",
       "    </tr>\n",
       "    <tr>\n",
       "      <th>45</th>\n",
       "      <td>(VIII)</td>\n",
       "      <td>(X)</td>\n",
       "      <td>0.089468</td>\n",
       "      <td>0.164958</td>\n",
       "      <td>0.001817</td>\n",
       "      <td>0.020307</td>\n",
       "      <td>0.123103</td>\n",
       "      <td>-0.012942</td>\n",
       "      <td>0.852350</td>\n",
       "      <td>-0.886662</td>\n",
       "    </tr>\n",
       "    <tr>\n",
       "      <th>46</th>\n",
       "      <td>(X)</td>\n",
       "      <td>(pharmacie)</td>\n",
       "      <td>0.164958</td>\n",
       "      <td>0.005801</td>\n",
       "      <td>0.002364</td>\n",
       "      <td>0.014330</td>\n",
       "      <td>2.470160</td>\n",
       "      <td>0.001407</td>\n",
       "      <td>1.008653</td>\n",
       "      <td>0.712740</td>\n",
       "    </tr>\n",
       "    <tr>\n",
       "      <th>47</th>\n",
       "      <td>(pharmacie)</td>\n",
       "      <td>(X)</td>\n",
       "      <td>0.005801</td>\n",
       "      <td>0.164958</td>\n",
       "      <td>0.002364</td>\n",
       "      <td>0.407473</td>\n",
       "      <td>2.470160</td>\n",
       "      <td>0.001407</td>\n",
       "      <td>1.409290</td>\n",
       "      <td>0.598641</td>\n",
       "    </tr>\n",
       "  </tbody>\n",
       "</table>\n",
       "</div>"
      ],
      "text/plain": [
       "    antecedents  consequents  antecedent support  consequent support  \\\n",
       "0           (I)         (IV)            0.005905            0.090108   \n",
       "1          (IV)          (I)            0.090108            0.005905   \n",
       "2          (II)         (IV)            0.038277            0.090108   \n",
       "3          (IV)         (II)            0.090108            0.038277   \n",
       "4           (V)         (II)            0.202678            0.038277   \n",
       "5          (II)          (V)            0.038277            0.202678   \n",
       "6          (IV)        (III)            0.090108            0.027324   \n",
       "7         (III)         (IV)            0.027324            0.090108   \n",
       "8         (III)        (XII)            0.027324            0.023133   \n",
       "9         (XII)        (III)            0.023133            0.027324   \n",
       "10          (V)         (IV)            0.202678            0.090108   \n",
       "11         (IV)          (V)            0.090108            0.202678   \n",
       "12         (IV)       (VIII)            0.090108            0.089468   \n",
       "13       (VIII)         (IV)            0.089468            0.090108   \n",
       "14          (X)         (IV)            0.164958            0.090108   \n",
       "15         (IV)          (X)            0.090108            0.164958   \n",
       "16         (IV)        (XII)            0.090108            0.023133   \n",
       "17        (XII)         (IV)            0.023133            0.090108   \n",
       "18          (V)         (IX)            0.202678            0.281038   \n",
       "19         (IX)          (V)            0.281038            0.202678   \n",
       "20         (IX)         (VI)            0.281038            0.091078   \n",
       "21         (VI)         (IX)            0.091078            0.281038   \n",
       "22        (VII)         (IX)            0.048342            0.281038   \n",
       "23         (IX)        (VII)            0.281038            0.048342   \n",
       "24         (IX)       (VIII)            0.281038            0.089468   \n",
       "25       (VIII)         (IX)            0.089468            0.281038   \n",
       "26          (X)         (IX)            0.164958            0.281038   \n",
       "27         (IX)          (X)            0.281038            0.164958   \n",
       "28          (V)         (VI)            0.202678            0.091078   \n",
       "29         (VI)          (V)            0.091078            0.202678   \n",
       "30          (V)       (VIII)            0.202678            0.089468   \n",
       "31       (VIII)          (V)            0.089468            0.202678   \n",
       "32          (X)          (V)            0.164958            0.202678   \n",
       "33          (V)          (X)            0.202678            0.164958   \n",
       "34          (V)        (XII)            0.202678            0.023133   \n",
       "35        (XII)          (V)            0.023133            0.202678   \n",
       "36        (VII)         (VI)            0.048342            0.091078   \n",
       "37         (VI)        (VII)            0.091078            0.048342   \n",
       "38       (VIII)         (VI)            0.089468            0.091078   \n",
       "39         (VI)       (VIII)            0.091078            0.089468   \n",
       "40          (X)         (VI)            0.164958            0.091078   \n",
       "41         (VI)          (X)            0.091078            0.164958   \n",
       "42          (X)        (VII)            0.164958            0.048342   \n",
       "43        (VII)          (X)            0.048342            0.164958   \n",
       "44          (X)       (VIII)            0.164958            0.089468   \n",
       "45       (VIII)          (X)            0.089468            0.164958   \n",
       "46          (X)  (pharmacie)            0.164958            0.005801   \n",
       "47  (pharmacie)          (X)            0.005801            0.164958   \n",
       "\n",
       "     support  confidence      lift  leverage  conviction  zhangs_metric  \n",
       "0   0.001745    0.295455  3.278906  0.001212    1.291460       0.699148  \n",
       "1   0.001745    0.019361  3.278906  0.001212    1.013722       0.763849  \n",
       "2   0.002416    0.063107  0.700349 -0.001034    0.971180      -0.307905  \n",
       "3   0.002416    0.026807  0.700349 -0.001034    0.988214      -0.319835  \n",
       "4   0.001228    0.006061  0.158344 -0.006529    0.967588      -0.869563  \n",
       "5   0.001228    0.032093  0.158344 -0.006529    0.823759      -0.846788  \n",
       "6   0.002281    0.025318  0.926566 -0.000181    0.997941      -0.080123  \n",
       "7   0.002281    0.083491  0.926566 -0.000181    0.992780      -0.075341  \n",
       "8   0.001332    0.048734  2.106671  0.000700    1.026913       0.540075  \n",
       "9   0.001332    0.057564  2.106671  0.000700    1.032086       0.537758  \n",
       "10  0.001435    0.007080  0.078568 -0.016828    0.916380      -0.936343  \n",
       "11  0.001435    0.015924  0.078568 -0.016828    0.810224      -0.928002  \n",
       "12  0.001321    0.014664  0.163900 -0.006740    0.924083      -0.848633  \n",
       "13  0.001321    0.014769  0.163900 -0.006740    0.923532      -0.848543  \n",
       "14  0.001972    0.011952  0.132646 -0.012892    0.920899      -0.886757  \n",
       "15  0.001972    0.021881  0.132646 -0.012892    0.853722      -0.877846  \n",
       "16  0.003458    0.038378  1.658980  0.001374    1.015853       0.436557  \n",
       "17  0.003458    0.149487  1.658980  0.001374    1.069816       0.406627  \n",
       "18  0.011469    0.056586  0.201345 -0.045492    0.762085      -0.832634  \n",
       "19  0.011469    0.040808  0.201345 -0.045492    0.831244      -0.846558  \n",
       "20  0.013502    0.048044  0.527505 -0.012094    0.954794      -0.554734  \n",
       "21  0.013502    0.148249  0.527505 -0.012094    0.844099      -0.496342  \n",
       "22  0.004088    0.084561  0.300889 -0.009498    0.785374      -0.709430  \n",
       "23  0.004088    0.014545  0.300889 -0.009498    0.965705      -0.763690  \n",
       "24  0.006782    0.024132  0.269731 -0.018362    0.933049      -0.790167  \n",
       "25  0.006782    0.075805  0.269731 -0.018362    0.777933      -0.748327  \n",
       "26  0.005430    0.032916  0.117123 -0.040930    0.743433      -0.900270  \n",
       "27  0.005430    0.019320  0.117123 -0.040930    0.851493      -0.912927  \n",
       "28  0.001899    0.009371  0.102895 -0.016560    0.917521      -0.916212  \n",
       "29  0.001899    0.020855  0.102895 -0.016560    0.814304      -0.905591  \n",
       "30  0.001311    0.006468  0.072298 -0.016822    0.916460      -0.941498  \n",
       "31  0.001311    0.014653  0.072298 -0.016822    0.809179      -0.933741  \n",
       "32  0.004191    0.025407  0.125355 -0.029242    0.818108      -0.893113  \n",
       "33  0.004191    0.020678  0.125355 -0.029242    0.852674      -0.897446  \n",
       "34  0.001579    0.007793  0.336855 -0.003109    0.984539      -0.711737  \n",
       "35  0.001579    0.068273  0.336855 -0.003109    0.855747      -0.668353  \n",
       "36  0.001951    0.040359  0.443123 -0.002452    0.947148      -0.569067  \n",
       "37  0.001951    0.021421  0.443123 -0.002452    0.972490      -0.580297  \n",
       "38  0.001084    0.012115  0.133017 -0.007065    0.920069      -0.877425  \n",
       "39  0.001084    0.011901  0.133017 -0.007065    0.921499      -0.877615  \n",
       "40  0.001259    0.007635  0.083824 -0.013765    0.915915      -0.929022  \n",
       "41  0.001259    0.013827  0.083824 -0.013765    0.846750      -0.923224  \n",
       "42  0.001063    0.006446  0.133333 -0.006911    0.957832      -0.886157  \n",
       "43  0.001063    0.021994  0.133333 -0.006911    0.853821      -0.872289  \n",
       "44  0.001817    0.011014  0.123103 -0.012942    0.920672      -0.895073  \n",
       "45  0.001817    0.020307  0.123103 -0.012942    0.852350      -0.886662  \n",
       "46  0.002364    0.014330  2.470160  0.001407    1.008653       0.712740  \n",
       "47  0.002364    0.407473  2.470160  0.001407    1.409290       0.598641  "
      ]
     },
     "execution_count": 11,
     "metadata": {},
     "output_type": "execute_result"
    }
   ],
   "source": [
    "rules = association_rules(frequents, metric='support', min_threshold=0.001)\n",
    "rules"
   ]
  },
  {
   "cell_type": "code",
   "execution_count": 12,
   "metadata": {},
   "outputs": [
    {
     "data": {
      "text/html": [
       "<div>\n",
       "<style scoped>\n",
       "    .dataframe tbody tr th:only-of-type {\n",
       "        vertical-align: middle;\n",
       "    }\n",
       "\n",
       "    .dataframe tbody tr th {\n",
       "        vertical-align: top;\n",
       "    }\n",
       "\n",
       "    .dataframe thead th {\n",
       "        text-align: right;\n",
       "    }\n",
       "</style>\n",
       "<table border=\"1\" class=\"dataframe\">\n",
       "  <thead>\n",
       "    <tr style=\"text-align: right;\">\n",
       "      <th></th>\n",
       "      <th>antecedents</th>\n",
       "      <th>consequents</th>\n",
       "      <th>antecedent support</th>\n",
       "      <th>consequent support</th>\n",
       "      <th>support</th>\n",
       "      <th>confidence</th>\n",
       "      <th>lift</th>\n",
       "      <th>leverage</th>\n",
       "      <th>conviction</th>\n",
       "      <th>zhangs_metric</th>\n",
       "    </tr>\n",
       "  </thead>\n",
       "  <tbody>\n",
       "    <tr>\n",
       "      <th>0</th>\n",
       "      <td>(II)</td>\n",
       "      <td>(IV)</td>\n",
       "      <td>0.038277</td>\n",
       "      <td>0.090108</td>\n",
       "      <td>0.002416</td>\n",
       "      <td>0.063107</td>\n",
       "      <td>0.700349</td>\n",
       "      <td>-0.001034</td>\n",
       "      <td>0.971180</td>\n",
       "      <td>-0.307905</td>\n",
       "    </tr>\n",
       "    <tr>\n",
       "      <th>1</th>\n",
       "      <td>(IV)</td>\n",
       "      <td>(II)</td>\n",
       "      <td>0.090108</td>\n",
       "      <td>0.038277</td>\n",
       "      <td>0.002416</td>\n",
       "      <td>0.026807</td>\n",
       "      <td>0.700349</td>\n",
       "      <td>-0.001034</td>\n",
       "      <td>0.988214</td>\n",
       "      <td>-0.319835</td>\n",
       "    </tr>\n",
       "    <tr>\n",
       "      <th>2</th>\n",
       "      <td>(IV)</td>\n",
       "      <td>(III)</td>\n",
       "      <td>0.090108</td>\n",
       "      <td>0.027324</td>\n",
       "      <td>0.002281</td>\n",
       "      <td>0.025318</td>\n",
       "      <td>0.926566</td>\n",
       "      <td>-0.000181</td>\n",
       "      <td>0.997941</td>\n",
       "      <td>-0.080123</td>\n",
       "    </tr>\n",
       "    <tr>\n",
       "      <th>3</th>\n",
       "      <td>(III)</td>\n",
       "      <td>(IV)</td>\n",
       "      <td>0.027324</td>\n",
       "      <td>0.090108</td>\n",
       "      <td>0.002281</td>\n",
       "      <td>0.083491</td>\n",
       "      <td>0.926566</td>\n",
       "      <td>-0.000181</td>\n",
       "      <td>0.992780</td>\n",
       "      <td>-0.075341</td>\n",
       "    </tr>\n",
       "    <tr>\n",
       "      <th>4</th>\n",
       "      <td>(IV)</td>\n",
       "      <td>(XII)</td>\n",
       "      <td>0.090108</td>\n",
       "      <td>0.023133</td>\n",
       "      <td>0.003458</td>\n",
       "      <td>0.038378</td>\n",
       "      <td>1.658980</td>\n",
       "      <td>0.001374</td>\n",
       "      <td>1.015853</td>\n",
       "      <td>0.436557</td>\n",
       "    </tr>\n",
       "    <tr>\n",
       "      <th>5</th>\n",
       "      <td>(XII)</td>\n",
       "      <td>(IV)</td>\n",
       "      <td>0.023133</td>\n",
       "      <td>0.090108</td>\n",
       "      <td>0.003458</td>\n",
       "      <td>0.149487</td>\n",
       "      <td>1.658980</td>\n",
       "      <td>0.001374</td>\n",
       "      <td>1.069816</td>\n",
       "      <td>0.406627</td>\n",
       "    </tr>\n",
       "    <tr>\n",
       "      <th>6</th>\n",
       "      <td>(V)</td>\n",
       "      <td>(IX)</td>\n",
       "      <td>0.202678</td>\n",
       "      <td>0.281038</td>\n",
       "      <td>0.011469</td>\n",
       "      <td>0.056586</td>\n",
       "      <td>0.201345</td>\n",
       "      <td>-0.045492</td>\n",
       "      <td>0.762085</td>\n",
       "      <td>-0.832634</td>\n",
       "    </tr>\n",
       "    <tr>\n",
       "      <th>7</th>\n",
       "      <td>(IX)</td>\n",
       "      <td>(V)</td>\n",
       "      <td>0.281038</td>\n",
       "      <td>0.202678</td>\n",
       "      <td>0.011469</td>\n",
       "      <td>0.040808</td>\n",
       "      <td>0.201345</td>\n",
       "      <td>-0.045492</td>\n",
       "      <td>0.831244</td>\n",
       "      <td>-0.846558</td>\n",
       "    </tr>\n",
       "    <tr>\n",
       "      <th>8</th>\n",
       "      <td>(IX)</td>\n",
       "      <td>(VI)</td>\n",
       "      <td>0.281038</td>\n",
       "      <td>0.091078</td>\n",
       "      <td>0.013502</td>\n",
       "      <td>0.048044</td>\n",
       "      <td>0.527505</td>\n",
       "      <td>-0.012094</td>\n",
       "      <td>0.954794</td>\n",
       "      <td>-0.554734</td>\n",
       "    </tr>\n",
       "    <tr>\n",
       "      <th>9</th>\n",
       "      <td>(VI)</td>\n",
       "      <td>(IX)</td>\n",
       "      <td>0.091078</td>\n",
       "      <td>0.281038</td>\n",
       "      <td>0.013502</td>\n",
       "      <td>0.148249</td>\n",
       "      <td>0.527505</td>\n",
       "      <td>-0.012094</td>\n",
       "      <td>0.844099</td>\n",
       "      <td>-0.496342</td>\n",
       "    </tr>\n",
       "    <tr>\n",
       "      <th>10</th>\n",
       "      <td>(VII)</td>\n",
       "      <td>(IX)</td>\n",
       "      <td>0.048342</td>\n",
       "      <td>0.281038</td>\n",
       "      <td>0.004088</td>\n",
       "      <td>0.084561</td>\n",
       "      <td>0.300889</td>\n",
       "      <td>-0.009498</td>\n",
       "      <td>0.785374</td>\n",
       "      <td>-0.709430</td>\n",
       "    </tr>\n",
       "    <tr>\n",
       "      <th>11</th>\n",
       "      <td>(IX)</td>\n",
       "      <td>(VII)</td>\n",
       "      <td>0.281038</td>\n",
       "      <td>0.048342</td>\n",
       "      <td>0.004088</td>\n",
       "      <td>0.014545</td>\n",
       "      <td>0.300889</td>\n",
       "      <td>-0.009498</td>\n",
       "      <td>0.965705</td>\n",
       "      <td>-0.763690</td>\n",
       "    </tr>\n",
       "    <tr>\n",
       "      <th>12</th>\n",
       "      <td>(IX)</td>\n",
       "      <td>(VIII)</td>\n",
       "      <td>0.281038</td>\n",
       "      <td>0.089468</td>\n",
       "      <td>0.006782</td>\n",
       "      <td>0.024132</td>\n",
       "      <td>0.269731</td>\n",
       "      <td>-0.018362</td>\n",
       "      <td>0.933049</td>\n",
       "      <td>-0.790167</td>\n",
       "    </tr>\n",
       "    <tr>\n",
       "      <th>13</th>\n",
       "      <td>(VIII)</td>\n",
       "      <td>(IX)</td>\n",
       "      <td>0.089468</td>\n",
       "      <td>0.281038</td>\n",
       "      <td>0.006782</td>\n",
       "      <td>0.075805</td>\n",
       "      <td>0.269731</td>\n",
       "      <td>-0.018362</td>\n",
       "      <td>0.777933</td>\n",
       "      <td>-0.748327</td>\n",
       "    </tr>\n",
       "    <tr>\n",
       "      <th>14</th>\n",
       "      <td>(X)</td>\n",
       "      <td>(IX)</td>\n",
       "      <td>0.164958</td>\n",
       "      <td>0.281038</td>\n",
       "      <td>0.005430</td>\n",
       "      <td>0.032916</td>\n",
       "      <td>0.117123</td>\n",
       "      <td>-0.040930</td>\n",
       "      <td>0.743433</td>\n",
       "      <td>-0.900270</td>\n",
       "    </tr>\n",
       "    <tr>\n",
       "      <th>15</th>\n",
       "      <td>(IX)</td>\n",
       "      <td>(X)</td>\n",
       "      <td>0.281038</td>\n",
       "      <td>0.164958</td>\n",
       "      <td>0.005430</td>\n",
       "      <td>0.019320</td>\n",
       "      <td>0.117123</td>\n",
       "      <td>-0.040930</td>\n",
       "      <td>0.851493</td>\n",
       "      <td>-0.912927</td>\n",
       "    </tr>\n",
       "    <tr>\n",
       "      <th>16</th>\n",
       "      <td>(X)</td>\n",
       "      <td>(V)</td>\n",
       "      <td>0.164958</td>\n",
       "      <td>0.202678</td>\n",
       "      <td>0.004191</td>\n",
       "      <td>0.025407</td>\n",
       "      <td>0.125355</td>\n",
       "      <td>-0.029242</td>\n",
       "      <td>0.818108</td>\n",
       "      <td>-0.893113</td>\n",
       "    </tr>\n",
       "    <tr>\n",
       "      <th>17</th>\n",
       "      <td>(V)</td>\n",
       "      <td>(X)</td>\n",
       "      <td>0.202678</td>\n",
       "      <td>0.164958</td>\n",
       "      <td>0.004191</td>\n",
       "      <td>0.020678</td>\n",
       "      <td>0.125355</td>\n",
       "      <td>-0.029242</td>\n",
       "      <td>0.852674</td>\n",
       "      <td>-0.897446</td>\n",
       "    </tr>\n",
       "    <tr>\n",
       "      <th>18</th>\n",
       "      <td>(X)</td>\n",
       "      <td>(pharmacie)</td>\n",
       "      <td>0.164958</td>\n",
       "      <td>0.005801</td>\n",
       "      <td>0.002364</td>\n",
       "      <td>0.014330</td>\n",
       "      <td>2.470160</td>\n",
       "      <td>0.001407</td>\n",
       "      <td>1.008653</td>\n",
       "      <td>0.712740</td>\n",
       "    </tr>\n",
       "    <tr>\n",
       "      <th>19</th>\n",
       "      <td>(pharmacie)</td>\n",
       "      <td>(X)</td>\n",
       "      <td>0.005801</td>\n",
       "      <td>0.164958</td>\n",
       "      <td>0.002364</td>\n",
       "      <td>0.407473</td>\n",
       "      <td>2.470160</td>\n",
       "      <td>0.001407</td>\n",
       "      <td>1.409290</td>\n",
       "      <td>0.598641</td>\n",
       "    </tr>\n",
       "  </tbody>\n",
       "</table>\n",
       "</div>"
      ],
      "text/plain": [
       "    antecedents  consequents  antecedent support  consequent support  \\\n",
       "0          (II)         (IV)            0.038277            0.090108   \n",
       "1          (IV)         (II)            0.090108            0.038277   \n",
       "2          (IV)        (III)            0.090108            0.027324   \n",
       "3         (III)         (IV)            0.027324            0.090108   \n",
       "4          (IV)        (XII)            0.090108            0.023133   \n",
       "5         (XII)         (IV)            0.023133            0.090108   \n",
       "6           (V)         (IX)            0.202678            0.281038   \n",
       "7          (IX)          (V)            0.281038            0.202678   \n",
       "8          (IX)         (VI)            0.281038            0.091078   \n",
       "9          (VI)         (IX)            0.091078            0.281038   \n",
       "10        (VII)         (IX)            0.048342            0.281038   \n",
       "11         (IX)        (VII)            0.281038            0.048342   \n",
       "12         (IX)       (VIII)            0.281038            0.089468   \n",
       "13       (VIII)         (IX)            0.089468            0.281038   \n",
       "14          (X)         (IX)            0.164958            0.281038   \n",
       "15         (IX)          (X)            0.281038            0.164958   \n",
       "16          (X)          (V)            0.164958            0.202678   \n",
       "17          (V)          (X)            0.202678            0.164958   \n",
       "18          (X)  (pharmacie)            0.164958            0.005801   \n",
       "19  (pharmacie)          (X)            0.005801            0.164958   \n",
       "\n",
       "     support  confidence      lift  leverage  conviction  zhangs_metric  \n",
       "0   0.002416    0.063107  0.700349 -0.001034    0.971180      -0.307905  \n",
       "1   0.002416    0.026807  0.700349 -0.001034    0.988214      -0.319835  \n",
       "2   0.002281    0.025318  0.926566 -0.000181    0.997941      -0.080123  \n",
       "3   0.002281    0.083491  0.926566 -0.000181    0.992780      -0.075341  \n",
       "4   0.003458    0.038378  1.658980  0.001374    1.015853       0.436557  \n",
       "5   0.003458    0.149487  1.658980  0.001374    1.069816       0.406627  \n",
       "6   0.011469    0.056586  0.201345 -0.045492    0.762085      -0.832634  \n",
       "7   0.011469    0.040808  0.201345 -0.045492    0.831244      -0.846558  \n",
       "8   0.013502    0.048044  0.527505 -0.012094    0.954794      -0.554734  \n",
       "9   0.013502    0.148249  0.527505 -0.012094    0.844099      -0.496342  \n",
       "10  0.004088    0.084561  0.300889 -0.009498    0.785374      -0.709430  \n",
       "11  0.004088    0.014545  0.300889 -0.009498    0.965705      -0.763690  \n",
       "12  0.006782    0.024132  0.269731 -0.018362    0.933049      -0.790167  \n",
       "13  0.006782    0.075805  0.269731 -0.018362    0.777933      -0.748327  \n",
       "14  0.005430    0.032916  0.117123 -0.040930    0.743433      -0.900270  \n",
       "15  0.005430    0.019320  0.117123 -0.040930    0.851493      -0.912927  \n",
       "16  0.004191    0.025407  0.125355 -0.029242    0.818108      -0.893113  \n",
       "17  0.004191    0.020678  0.125355 -0.029242    0.852674      -0.897446  \n",
       "18  0.002364    0.014330  2.470160  0.001407    1.008653       0.712740  \n",
       "19  0.002364    0.407473  2.470160  0.001407    1.409290       0.598641  "
      ]
     },
     "execution_count": 12,
     "metadata": {},
     "output_type": "execute_result"
    }
   ],
   "source": [
    "rules_pruned_support = association_rules(frequents, metric='support', min_threshold=0.002)\n",
    "rules_pruned_support"
   ]
  },
  {
   "cell_type": "code",
   "execution_count": 13,
   "metadata": {},
   "outputs": [
    {
     "name": "stderr",
     "output_type": "stream",
     "text": [
      "c:\\Users\\alexi\\anaconda3\\lib\\site-packages\\plotly\\io\\_renderers.py:396: DeprecationWarning:\n",
      "\n",
      "distutils Version classes are deprecated. Use packaging.version instead.\n",
      "\n",
      "c:\\Users\\alexi\\anaconda3\\lib\\site-packages\\plotly\\io\\_renderers.py:396: DeprecationWarning:\n",
      "\n",
      "distutils Version classes are deprecated. Use packaging.version instead.\n",
      "\n"
     ]
    },
    {
     "data": {
      "application/vnd.plotly.v1+json": {
       "config": {
        "plotlyServerURL": "https://plot.ly"
       },
       "data": [
        {
         "customdata": [
          [
           3.2789057374061383,
           0.005904638031236774,
           0.09010766673892623
          ],
          [
           3.278905737406138,
           0.09010766673892623,
           0.005904638031236774
          ],
          [
           0.7003487982809227,
           0.03827691926543,
           0.09010766673892623
          ],
          [
           0.7003487982809227,
           0.09010766673892623,
           0.03827691926543
          ],
          [
           0.15834384940198512,
           0.20267773270157835,
           0.03827691926543
          ],
          [
           0.15834384940198512,
           0.03827691926543,
           0.20267773270157835
          ],
          [
           0.9265664871854143,
           0.09010766673892623,
           0.027324435085111433
          ],
          [
           0.9265664871854142,
           0.027324435085111433,
           0.09010766673892623
          ],
          [
           2.1066707327989707,
           0.027324435085111433,
           0.023133380818184633
          ],
          [
           2.106670732798971,
           0.023133380818184633,
           0.027324435085111433
          ],
          [
           0.07856774155497896,
           0.20267773270157835,
           0.09010766673892623
          ],
          [
           0.07856774155497896,
           0.09010766673892623,
           0.20267773270157835
          ],
          [
           0.16390017939905893,
           0.09010766673892623,
           0.08946765352575022
          ],
          [
           0.1639001793990589,
           0.08946765352575022,
           0.09010766673892623
          ],
          [
           0.13264621073053426,
           0.16495824429923714,
           0.09010766673892623
          ],
          [
           0.13264621073053426,
           0.09010766673892623,
           0.16495824429923714
          ],
          [
           1.6589802138250944,
           0.09010766673892623,
           0.023133380818184633
          ],
          [
           1.6589802138250946,
           0.023133380818184633,
           0.09010766673892623
          ],
          [
           0.20134466803102843,
           0.20267773270157835,
           0.28103806014059646
          ],
          [
           0.20134466803102843,
           0.28103806014059646,
           0.20267773270157835
          ],
          [
           0.5275046905018157,
           0.28103806014059646,
           0.09107800935245115
          ],
          [
           0.5275046905018157,
           0.09107800935245115,
           0.28103806014059646
          ],
          [
           0.3008887077048512,
           0.04834164318231086,
           0.28103806014059646
          ],
          [
           0.3008887077048512,
           0.28103806014059646,
           0.04834164318231086
          ],
          [
           0.2697313548970303,
           0.28103806014059646,
           0.08946765352575022
          ],
          [
           0.26973135489703026,
           0.08946765352575022,
           0.28103806014059646
          ],
          [
           0.11712344287108196,
           0.16495824429923714,
           0.28103806014059646
          ],
          [
           0.11712344287108196,
           0.28103806014059646,
           0.16495824429923714
          ],
          [
           0.10289529259297577,
           0.20267773270157835,
           0.09107800935245115
          ],
          [
           0.10289529259297578,
           0.09107800935245115,
           0.20267773270157835
          ],
          [
           0.072298433432895,
           0.20267773270157835,
           0.08946765352575022
          ],
          [
           0.072298433432895,
           0.08946765352575022,
           0.20267773270157835
          ],
          [
           0.12535545029738843,
           0.16495824429923714,
           0.20267773270157835
          ],
          [
           0.12535545029738843,
           0.20267773270157835,
           0.16495824429923714
          ],
          [
           0.33685541800491153,
           0.20267773270157835,
           0.023133380818184633
          ],
          [
           0.3368554180049116,
           0.023133380818184633,
           0.20267773270157835
          ],
          [
           0.44312282055308966,
           0.04834164318231086,
           0.09107800935245115
          ],
          [
           0.4431228205530897,
           0.09107800935245115,
           0.04834164318231086
          ],
          [
           0.13301694605656952,
           0.08946765352575022,
           0.09107800935245115
          ],
          [
           0.13301694605656952,
           0.09107800935245115,
           0.08946765352575022
          ],
          [
           0.08382422094261825,
           0.16495824429923714,
           0.09107800935245115
          ],
          [
           0.08382422094261825,
           0.09107800935245115,
           0.16495824429923714
          ],
          [
           0.1333334268732777,
           0.16495824429923714,
           0.04834164318231086
          ],
          [
           0.1333334268732777,
           0.04834164318231086,
           0.16495824429923714
          ],
          [
           0.12310334266049938,
           0.16495824429923714,
           0.08946765352575022
          ],
          [
           0.12310334266049937,
           0.08946765352575022,
           0.16495824429923714
          ],
          [
           2.470160320507396,
           0.16495824429923714,
           0.005801410093627739
          ],
          [
           2.4701603205073956,
           0.005801410093627739,
           0.16495824429923714
          ]
         ],
         "hovertemplate": "<b>%{hovertext}</b><br><br>support=%{x}<br>confidence=%{marker.size}<br>lift=%{marker.color}<br>antecedent support=%{customdata[1]}<br>consequent support=%{customdata[2]}<extra></extra>",
         "hovertext": [
          "I -> IV0.0060.090",
          "IV -> I0.0900.006",
          "II -> IV0.0380.090",
          "IV -> II0.0900.038",
          "V -> II0.2030.038",
          "II -> V0.0380.203",
          "IV -> III0.0900.027",
          "III -> IV0.0270.090",
          "III -> XII0.0270.023",
          "XII -> III0.0230.027",
          "V -> IV0.2030.090",
          "IV -> V0.0900.203",
          "IV -> VIII0.0900.089",
          "VIII -> IV0.0890.090",
          "X -> IV0.1650.090",
          "IV -> X0.0900.165",
          "IV -> XII0.0900.023",
          "XII -> IV0.0230.090",
          "V -> IX0.2030.281",
          "IX -> V0.2810.203",
          "IX -> VI0.2810.091",
          "VI -> IX0.0910.281",
          "VII -> IX0.0480.281",
          "IX -> VII0.2810.048",
          "IX -> VIII0.2810.089",
          "VIII -> IX0.0890.281",
          "X -> IX0.1650.281",
          "IX -> X0.2810.165",
          "V -> VI0.2030.091",
          "VI -> V0.0910.203",
          "V -> VIII0.2030.089",
          "VIII -> V0.0890.203",
          "X -> V0.1650.203",
          "V -> X0.2030.165",
          "V -> XII0.2030.023",
          "XII -> V0.0230.203",
          "VII -> VI0.0480.091",
          "VI -> VII0.0910.048",
          "VIII -> VI0.0890.091",
          "VI -> VIII0.0910.089",
          "X -> VI0.1650.091",
          "VI -> X0.0910.165",
          "X -> VII0.1650.048",
          "VII -> X0.0480.165",
          "X -> VIII0.1650.089",
          "VIII -> X0.0890.165",
          "X -> pharmacie0.1650.006",
          "pharmacie -> X0.0060.165"
         ],
         "legendgroup": "",
         "marker": {
          "color": [
           3.2789057374061383,
           3.278905737406138,
           0.7003487982809227,
           0.7003487982809227,
           0.15834384940198512,
           0.15834384940198512,
           0.9265664871854143,
           0.9265664871854142,
           2.1066707327989707,
           2.106670732798971,
           0.07856774155497896,
           0.07856774155497896,
           0.16390017939905893,
           0.1639001793990589,
           0.13264621073053426,
           0.13264621073053426,
           1.6589802138250944,
           1.6589802138250946,
           0.20134466803102843,
           0.20134466803102843,
           0.5275046905018157,
           0.5275046905018157,
           0.3008887077048512,
           0.3008887077048512,
           0.2697313548970303,
           0.26973135489703026,
           0.11712344287108196,
           0.11712344287108196,
           0.10289529259297577,
           0.10289529259297578,
           0.072298433432895,
           0.072298433432895,
           0.12535545029738843,
           0.12535545029738843,
           0.33685541800491153,
           0.3368554180049116,
           0.44312282055308966,
           0.4431228205530897,
           0.13301694605656952,
           0.13301694605656952,
           0.08382422094261825,
           0.08382422094261825,
           0.1333334268732777,
           0.1333334268732777,
           0.12310334266049938,
           0.12310334266049937,
           2.470160320507396,
           2.4701603205073956
          ],
          "coloraxis": "coloraxis",
          "size": [
           0.29545454545454547,
           0.01936075151792874,
           0.06310679611650485,
           0.026807194409439794,
           0.0060609147397371905,
           0.03209277238403452,
           0.025317905831137587,
           0.08349074423876086,
           0.048734416320362677,
           0.05756358768406961,
           0.00707955587246613,
           0.015923931721846717,
           0.014663764463283307,
           0.014768662743740623,
           0.011952440550688361,
           0.02188108603505556,
           0.03837782105624928,
           0.1494868362338242,
           0.0565855149230926,
           0.04080808080808081,
           0.04804407713498622,
           0.148248894933696,
           0.08456117873158232,
           0.014545454545454545,
           0.024132231404958675,
           0.07580477673935616,
           0.03291614518147685,
           0.019320477502295683,
           0.009371498421106244,
           0.02085458460840984,
           0.0064683711928287665,
           0.014653282566055149,
           0.02540675844806008,
           0.020678414994397477,
           0.0077926046653763875,
           0.06827309236947791,
           0.04035874439461883,
           0.021421285277116626,
           0.01211491865697473,
           0.01190071404284257,
           0.0076345431789737175,
           0.013827496316445653,
           0.006445556946182728,
           0.021994448003416614,
           0.011013767209011264,
           0.020306911272643356,
           0.014330413016270338,
           0.4074733096085409
          ],
          "sizemode": "area",
          "sizeref": 0.0010186832740213523,
          "symbol": "circle"
         },
         "mode": "markers",
         "name": "",
         "orientation": "v",
         "showlegend": false,
         "type": "scatter",
         "x": [
          0.0017445521455926832,
          0.0017445521455926832,
          0.0024155337400514074,
          0.0024155337400514074,
          0.0012284124575475106,
          0.0012284124575475106,
          0.0022813374211596627,
          0.0022813374211596627,
          0.0013316403951565451,
          0.0013316403951565451,
          0.0014348683327655796,
          0.0014348683327655796,
          0.0013213176013956416,
          0.0013213176013956416,
          0.001971653608332559,
          0.001971653608332559,
          0.003458135909902656,
          0.003458135909902656,
          0.011468623868363734,
          0.011468623868363734,
          0.013502214239261713,
          0.013502214239261713,
          0.004087826329317767,
          0.004087826329317767,
          0.006782075500913567,
          0.006782075500913567,
          0.005429789518235215,
          0.005429789518235215,
          0.001899394052006235,
          0.001899394052006235,
          0.0013109948076347382,
          0.0013109948076347382,
          0.0041910542669268015,
          0.0041910542669268015,
          0.001579387445418228,
          0.001579387445418228,
          0.0019510080208107522,
          0.0019510080208107522,
          0.0010838933448948623,
          0.0010838933448948623,
          0.001259380838830221,
          0.001259380838830221,
          0.0010632477573730554,
          0.0010632477573730554,
          0.0018168117019190073,
          0.0018168117019190073,
          0.00236391977124689,
          0.00236391977124689
         ],
         "xaxis": "x",
         "y": [
          0.29545454545454547,
          0.01936075151792874,
          0.06310679611650485,
          0.026807194409439794,
          0.0060609147397371905,
          0.03209277238403452,
          0.025317905831137587,
          0.08349074423876086,
          0.048734416320362677,
          0.05756358768406961,
          0.00707955587246613,
          0.015923931721846717,
          0.014663764463283307,
          0.014768662743740623,
          0.011952440550688361,
          0.02188108603505556,
          0.03837782105624928,
          0.1494868362338242,
          0.0565855149230926,
          0.04080808080808081,
          0.04804407713498622,
          0.148248894933696,
          0.08456117873158232,
          0.014545454545454545,
          0.024132231404958675,
          0.07580477673935616,
          0.03291614518147685,
          0.019320477502295683,
          0.009371498421106244,
          0.02085458460840984,
          0.0064683711928287665,
          0.014653282566055149,
          0.02540675844806008,
          0.020678414994397477,
          0.0077926046653763875,
          0.06827309236947791,
          0.04035874439461883,
          0.021421285277116626,
          0.01211491865697473,
          0.01190071404284257,
          0.0076345431789737175,
          0.013827496316445653,
          0.006445556946182728,
          0.021994448003416614,
          0.011013767209011264,
          0.020306911272643356,
          0.014330413016270338,
          0.4074733096085409
         ],
         "yaxis": "y"
        }
       ],
       "layout": {
        "coloraxis": {
         "colorbar": {
          "title": {
           "text": "lift"
          }
         },
         "colorscale": [
          [
           0,
           "#0d0887"
          ],
          [
           0.1111111111111111,
           "#46039f"
          ],
          [
           0.2222222222222222,
           "#7201a8"
          ],
          [
           0.3333333333333333,
           "#9c179e"
          ],
          [
           0.4444444444444444,
           "#bd3786"
          ],
          [
           0.5555555555555556,
           "#d8576b"
          ],
          [
           0.6666666666666666,
           "#ed7953"
          ],
          [
           0.7777777777777778,
           "#fb9f3a"
          ],
          [
           0.8888888888888888,
           "#fdca26"
          ],
          [
           1,
           "#f0f921"
          ]
         ]
        },
        "legend": {
         "itemsizing": "constant",
         "tracegroupgap": 0
        },
        "margin": {
         "t": 60
        },
        "template": {
         "data": {
          "bar": [
           {
            "error_x": {
             "color": "#2a3f5f"
            },
            "error_y": {
             "color": "#2a3f5f"
            },
            "marker": {
             "line": {
              "color": "#E5ECF6",
              "width": 0.5
             },
             "pattern": {
              "fillmode": "overlay",
              "size": 10,
              "solidity": 0.2
             }
            },
            "type": "bar"
           }
          ],
          "barpolar": [
           {
            "marker": {
             "line": {
              "color": "#E5ECF6",
              "width": 0.5
             },
             "pattern": {
              "fillmode": "overlay",
              "size": 10,
              "solidity": 0.2
             }
            },
            "type": "barpolar"
           }
          ],
          "carpet": [
           {
            "aaxis": {
             "endlinecolor": "#2a3f5f",
             "gridcolor": "white",
             "linecolor": "white",
             "minorgridcolor": "white",
             "startlinecolor": "#2a3f5f"
            },
            "baxis": {
             "endlinecolor": "#2a3f5f",
             "gridcolor": "white",
             "linecolor": "white",
             "minorgridcolor": "white",
             "startlinecolor": "#2a3f5f"
            },
            "type": "carpet"
           }
          ],
          "choropleth": [
           {
            "colorbar": {
             "outlinewidth": 0,
             "ticks": ""
            },
            "type": "choropleth"
           }
          ],
          "contour": [
           {
            "colorbar": {
             "outlinewidth": 0,
             "ticks": ""
            },
            "colorscale": [
             [
              0,
              "#0d0887"
             ],
             [
              0.1111111111111111,
              "#46039f"
             ],
             [
              0.2222222222222222,
              "#7201a8"
             ],
             [
              0.3333333333333333,
              "#9c179e"
             ],
             [
              0.4444444444444444,
              "#bd3786"
             ],
             [
              0.5555555555555556,
              "#d8576b"
             ],
             [
              0.6666666666666666,
              "#ed7953"
             ],
             [
              0.7777777777777778,
              "#fb9f3a"
             ],
             [
              0.8888888888888888,
              "#fdca26"
             ],
             [
              1,
              "#f0f921"
             ]
            ],
            "type": "contour"
           }
          ],
          "contourcarpet": [
           {
            "colorbar": {
             "outlinewidth": 0,
             "ticks": ""
            },
            "type": "contourcarpet"
           }
          ],
          "heatmap": [
           {
            "colorbar": {
             "outlinewidth": 0,
             "ticks": ""
            },
            "colorscale": [
             [
              0,
              "#0d0887"
             ],
             [
              0.1111111111111111,
              "#46039f"
             ],
             [
              0.2222222222222222,
              "#7201a8"
             ],
             [
              0.3333333333333333,
              "#9c179e"
             ],
             [
              0.4444444444444444,
              "#bd3786"
             ],
             [
              0.5555555555555556,
              "#d8576b"
             ],
             [
              0.6666666666666666,
              "#ed7953"
             ],
             [
              0.7777777777777778,
              "#fb9f3a"
             ],
             [
              0.8888888888888888,
              "#fdca26"
             ],
             [
              1,
              "#f0f921"
             ]
            ],
            "type": "heatmap"
           }
          ],
          "heatmapgl": [
           {
            "colorbar": {
             "outlinewidth": 0,
             "ticks": ""
            },
            "colorscale": [
             [
              0,
              "#0d0887"
             ],
             [
              0.1111111111111111,
              "#46039f"
             ],
             [
              0.2222222222222222,
              "#7201a8"
             ],
             [
              0.3333333333333333,
              "#9c179e"
             ],
             [
              0.4444444444444444,
              "#bd3786"
             ],
             [
              0.5555555555555556,
              "#d8576b"
             ],
             [
              0.6666666666666666,
              "#ed7953"
             ],
             [
              0.7777777777777778,
              "#fb9f3a"
             ],
             [
              0.8888888888888888,
              "#fdca26"
             ],
             [
              1,
              "#f0f921"
             ]
            ],
            "type": "heatmapgl"
           }
          ],
          "histogram": [
           {
            "marker": {
             "pattern": {
              "fillmode": "overlay",
              "size": 10,
              "solidity": 0.2
             }
            },
            "type": "histogram"
           }
          ],
          "histogram2d": [
           {
            "colorbar": {
             "outlinewidth": 0,
             "ticks": ""
            },
            "colorscale": [
             [
              0,
              "#0d0887"
             ],
             [
              0.1111111111111111,
              "#46039f"
             ],
             [
              0.2222222222222222,
              "#7201a8"
             ],
             [
              0.3333333333333333,
              "#9c179e"
             ],
             [
              0.4444444444444444,
              "#bd3786"
             ],
             [
              0.5555555555555556,
              "#d8576b"
             ],
             [
              0.6666666666666666,
              "#ed7953"
             ],
             [
              0.7777777777777778,
              "#fb9f3a"
             ],
             [
              0.8888888888888888,
              "#fdca26"
             ],
             [
              1,
              "#f0f921"
             ]
            ],
            "type": "histogram2d"
           }
          ],
          "histogram2dcontour": [
           {
            "colorbar": {
             "outlinewidth": 0,
             "ticks": ""
            },
            "colorscale": [
             [
              0,
              "#0d0887"
             ],
             [
              0.1111111111111111,
              "#46039f"
             ],
             [
              0.2222222222222222,
              "#7201a8"
             ],
             [
              0.3333333333333333,
              "#9c179e"
             ],
             [
              0.4444444444444444,
              "#bd3786"
             ],
             [
              0.5555555555555556,
              "#d8576b"
             ],
             [
              0.6666666666666666,
              "#ed7953"
             ],
             [
              0.7777777777777778,
              "#fb9f3a"
             ],
             [
              0.8888888888888888,
              "#fdca26"
             ],
             [
              1,
              "#f0f921"
             ]
            ],
            "type": "histogram2dcontour"
           }
          ],
          "mesh3d": [
           {
            "colorbar": {
             "outlinewidth": 0,
             "ticks": ""
            },
            "type": "mesh3d"
           }
          ],
          "parcoords": [
           {
            "line": {
             "colorbar": {
              "outlinewidth": 0,
              "ticks": ""
             }
            },
            "type": "parcoords"
           }
          ],
          "pie": [
           {
            "automargin": true,
            "type": "pie"
           }
          ],
          "scatter": [
           {
            "marker": {
             "colorbar": {
              "outlinewidth": 0,
              "ticks": ""
             }
            },
            "type": "scatter"
           }
          ],
          "scatter3d": [
           {
            "line": {
             "colorbar": {
              "outlinewidth": 0,
              "ticks": ""
             }
            },
            "marker": {
             "colorbar": {
              "outlinewidth": 0,
              "ticks": ""
             }
            },
            "type": "scatter3d"
           }
          ],
          "scattercarpet": [
           {
            "marker": {
             "colorbar": {
              "outlinewidth": 0,
              "ticks": ""
             }
            },
            "type": "scattercarpet"
           }
          ],
          "scattergeo": [
           {
            "marker": {
             "colorbar": {
              "outlinewidth": 0,
              "ticks": ""
             }
            },
            "type": "scattergeo"
           }
          ],
          "scattergl": [
           {
            "marker": {
             "colorbar": {
              "outlinewidth": 0,
              "ticks": ""
             }
            },
            "type": "scattergl"
           }
          ],
          "scattermapbox": [
           {
            "marker": {
             "colorbar": {
              "outlinewidth": 0,
              "ticks": ""
             }
            },
            "type": "scattermapbox"
           }
          ],
          "scatterpolar": [
           {
            "marker": {
             "colorbar": {
              "outlinewidth": 0,
              "ticks": ""
             }
            },
            "type": "scatterpolar"
           }
          ],
          "scatterpolargl": [
           {
            "marker": {
             "colorbar": {
              "outlinewidth": 0,
              "ticks": ""
             }
            },
            "type": "scatterpolargl"
           }
          ],
          "scatterternary": [
           {
            "marker": {
             "colorbar": {
              "outlinewidth": 0,
              "ticks": ""
             }
            },
            "type": "scatterternary"
           }
          ],
          "surface": [
           {
            "colorbar": {
             "outlinewidth": 0,
             "ticks": ""
            },
            "colorscale": [
             [
              0,
              "#0d0887"
             ],
             [
              0.1111111111111111,
              "#46039f"
             ],
             [
              0.2222222222222222,
              "#7201a8"
             ],
             [
              0.3333333333333333,
              "#9c179e"
             ],
             [
              0.4444444444444444,
              "#bd3786"
             ],
             [
              0.5555555555555556,
              "#d8576b"
             ],
             [
              0.6666666666666666,
              "#ed7953"
             ],
             [
              0.7777777777777778,
              "#fb9f3a"
             ],
             [
              0.8888888888888888,
              "#fdca26"
             ],
             [
              1,
              "#f0f921"
             ]
            ],
            "type": "surface"
           }
          ],
          "table": [
           {
            "cells": {
             "fill": {
              "color": "#EBF0F8"
             },
             "line": {
              "color": "white"
             }
            },
            "header": {
             "fill": {
              "color": "#C8D4E3"
             },
             "line": {
              "color": "white"
             }
            },
            "type": "table"
           }
          ]
         },
         "layout": {
          "annotationdefaults": {
           "arrowcolor": "#2a3f5f",
           "arrowhead": 0,
           "arrowwidth": 1
          },
          "autotypenumbers": "strict",
          "coloraxis": {
           "colorbar": {
            "outlinewidth": 0,
            "ticks": ""
           }
          },
          "colorscale": {
           "diverging": [
            [
             0,
             "#8e0152"
            ],
            [
             0.1,
             "#c51b7d"
            ],
            [
             0.2,
             "#de77ae"
            ],
            [
             0.3,
             "#f1b6da"
            ],
            [
             0.4,
             "#fde0ef"
            ],
            [
             0.5,
             "#f7f7f7"
            ],
            [
             0.6,
             "#e6f5d0"
            ],
            [
             0.7,
             "#b8e186"
            ],
            [
             0.8,
             "#7fbc41"
            ],
            [
             0.9,
             "#4d9221"
            ],
            [
             1,
             "#276419"
            ]
           ],
           "sequential": [
            [
             0,
             "#0d0887"
            ],
            [
             0.1111111111111111,
             "#46039f"
            ],
            [
             0.2222222222222222,
             "#7201a8"
            ],
            [
             0.3333333333333333,
             "#9c179e"
            ],
            [
             0.4444444444444444,
             "#bd3786"
            ],
            [
             0.5555555555555556,
             "#d8576b"
            ],
            [
             0.6666666666666666,
             "#ed7953"
            ],
            [
             0.7777777777777778,
             "#fb9f3a"
            ],
            [
             0.8888888888888888,
             "#fdca26"
            ],
            [
             1,
             "#f0f921"
            ]
           ],
           "sequentialminus": [
            [
             0,
             "#0d0887"
            ],
            [
             0.1111111111111111,
             "#46039f"
            ],
            [
             0.2222222222222222,
             "#7201a8"
            ],
            [
             0.3333333333333333,
             "#9c179e"
            ],
            [
             0.4444444444444444,
             "#bd3786"
            ],
            [
             0.5555555555555556,
             "#d8576b"
            ],
            [
             0.6666666666666666,
             "#ed7953"
            ],
            [
             0.7777777777777778,
             "#fb9f3a"
            ],
            [
             0.8888888888888888,
             "#fdca26"
            ],
            [
             1,
             "#f0f921"
            ]
           ]
          },
          "colorway": [
           "#636efa",
           "#EF553B",
           "#00cc96",
           "#ab63fa",
           "#FFA15A",
           "#19d3f3",
           "#FF6692",
           "#B6E880",
           "#FF97FF",
           "#FECB52"
          ],
          "font": {
           "color": "#2a3f5f"
          },
          "geo": {
           "bgcolor": "white",
           "lakecolor": "white",
           "landcolor": "#E5ECF6",
           "showlakes": true,
           "showland": true,
           "subunitcolor": "white"
          },
          "hoverlabel": {
           "align": "left"
          },
          "hovermode": "closest",
          "mapbox": {
           "style": "light"
          },
          "paper_bgcolor": "white",
          "plot_bgcolor": "#E5ECF6",
          "polar": {
           "angularaxis": {
            "gridcolor": "white",
            "linecolor": "white",
            "ticks": ""
           },
           "bgcolor": "#E5ECF6",
           "radialaxis": {
            "gridcolor": "white",
            "linecolor": "white",
            "ticks": ""
           }
          },
          "scene": {
           "xaxis": {
            "backgroundcolor": "#E5ECF6",
            "gridcolor": "white",
            "gridwidth": 2,
            "linecolor": "white",
            "showbackground": true,
            "ticks": "",
            "zerolinecolor": "white"
           },
           "yaxis": {
            "backgroundcolor": "#E5ECF6",
            "gridcolor": "white",
            "gridwidth": 2,
            "linecolor": "white",
            "showbackground": true,
            "ticks": "",
            "zerolinecolor": "white"
           },
           "zaxis": {
            "backgroundcolor": "#E5ECF6",
            "gridcolor": "white",
            "gridwidth": 2,
            "linecolor": "white",
            "showbackground": true,
            "ticks": "",
            "zerolinecolor": "white"
           }
          },
          "shapedefaults": {
           "line": {
            "color": "#2a3f5f"
           }
          },
          "ternary": {
           "aaxis": {
            "gridcolor": "white",
            "linecolor": "white",
            "ticks": ""
           },
           "baxis": {
            "gridcolor": "white",
            "linecolor": "white",
            "ticks": ""
           },
           "bgcolor": "#E5ECF6",
           "caxis": {
            "gridcolor": "white",
            "linecolor": "white",
            "ticks": ""
           }
          },
          "title": {
           "x": 0.05
          },
          "xaxis": {
           "automargin": true,
           "gridcolor": "white",
           "linecolor": "white",
           "ticks": "",
           "title": {
            "standoff": 15
           },
           "zerolinecolor": "white",
           "zerolinewidth": 2
          },
          "yaxis": {
           "automargin": true,
           "gridcolor": "white",
           "linecolor": "white",
           "ticks": "",
           "title": {
            "standoff": 15
           },
           "zerolinecolor": "white",
           "zerolinewidth": 2
          }
         }
        },
        "xaxis": {
         "anchor": "y",
         "domain": [
          0,
          1
         ],
         "title": {
          "text": "support"
         }
        },
        "yaxis": {
         "anchor": "x",
         "domain": [
          0,
          1
         ],
         "title": {
          "text": "confidence"
         }
        }
       }
      }
     },
     "metadata": {},
     "output_type": "display_data"
    }
   ],
   "source": [
    "fig = px.scatter(rules, x=\"support\", y=\"confidence\", color=\"lift\", size=\"confidence\",\n",
    "                 hover_data=[\"support\", \"confidence\", \"lift\", \"antecedent support\", \"consequent support\"],\n",
    "                 hover_name=rules[\"antecedents\"].apply(lambda x: \", \".join(list(x))) + \n",
    "                            \" -> \" + \n",
    "                            rules[\"consequents\"].apply(lambda x: \", \".join(list(x))) + \n",
    "                            rules[\"antecedent support\"].apply(lambda x: \"{:.3f}\".format(x)) + \n",
    "                            rules[\"consequent support\"].apply(lambda x: \"{:.3f}\".format(x)))\n",
    "fig.show()"
   ]
  },
  {
   "cell_type": "code",
   "execution_count": 14,
   "metadata": {},
   "outputs": [
    {
     "name": "stderr",
     "output_type": "stream",
     "text": [
      "c:\\Users\\alexi\\anaconda3\\lib\\site-packages\\plotly\\io\\_renderers.py:396: DeprecationWarning:\n",
      "\n",
      "distutils Version classes are deprecated. Use packaging.version instead.\n",
      "\n",
      "c:\\Users\\alexi\\anaconda3\\lib\\site-packages\\plotly\\io\\_renderers.py:396: DeprecationWarning:\n",
      "\n",
      "distutils Version classes are deprecated. Use packaging.version instead.\n",
      "\n"
     ]
    },
    {
     "data": {
      "application/vnd.plotly.v1+json": {
       "config": {
        "plotlyServerURL": "https://plot.ly"
       },
       "data": [
        {
         "customdata": [
          [
           0.7003487982809227,
           0.03827691926543,
           0.09010766673892623
          ],
          [
           0.7003487982809227,
           0.09010766673892623,
           0.03827691926543
          ],
          [
           0.9265664871854143,
           0.09010766673892623,
           0.027324435085111433
          ],
          [
           0.9265664871854142,
           0.027324435085111433,
           0.09010766673892623
          ],
          [
           1.6589802138250944,
           0.09010766673892623,
           0.023133380818184633
          ],
          [
           1.6589802138250946,
           0.023133380818184633,
           0.09010766673892623
          ],
          [
           0.20134466803102843,
           0.20267773270157835,
           0.28103806014059646
          ],
          [
           0.20134466803102843,
           0.28103806014059646,
           0.20267773270157835
          ],
          [
           0.5275046905018157,
           0.28103806014059646,
           0.09107800935245115
          ],
          [
           0.5275046905018157,
           0.09107800935245115,
           0.28103806014059646
          ],
          [
           0.3008887077048512,
           0.04834164318231086,
           0.28103806014059646
          ],
          [
           0.3008887077048512,
           0.28103806014059646,
           0.04834164318231086
          ],
          [
           0.2697313548970303,
           0.28103806014059646,
           0.08946765352575022
          ],
          [
           0.26973135489703026,
           0.08946765352575022,
           0.28103806014059646
          ],
          [
           0.11712344287108196,
           0.16495824429923714,
           0.28103806014059646
          ],
          [
           0.11712344287108196,
           0.28103806014059646,
           0.16495824429923714
          ],
          [
           0.12535545029738843,
           0.16495824429923714,
           0.20267773270157835
          ],
          [
           0.12535545029738843,
           0.20267773270157835,
           0.16495824429923714
          ],
          [
           2.470160320507396,
           0.16495824429923714,
           0.005801410093627739
          ],
          [
           2.4701603205073956,
           0.005801410093627739,
           0.16495824429923714
          ]
         ],
         "hovertemplate": "<b>%{hovertext}</b><br><br>support=%{x}<br>confidence=%{marker.size}<br>lift=%{marker.color}<br>antecedent support=%{customdata[1]}<br>consequent support=%{customdata[2]}<extra></extra>",
         "hovertext": [
          "II -> IV0.0380.090",
          "IV -> II0.0900.038",
          "IV -> III0.0900.027",
          "III -> IV0.0270.090",
          "IV -> XII0.0900.023",
          "XII -> IV0.0230.090",
          "V -> IX0.2030.281",
          "IX -> V0.2810.203",
          "IX -> VI0.2810.091",
          "VI -> IX0.0910.281",
          "VII -> IX0.0480.281",
          "IX -> VII0.2810.048",
          "IX -> VIII0.2810.089",
          "VIII -> IX0.0890.281",
          "X -> IX0.1650.281",
          "IX -> X0.2810.165",
          "X -> V0.1650.203",
          "V -> X0.2030.165",
          "X -> pharmacie0.1650.006",
          "pharmacie -> X0.0060.165"
         ],
         "legendgroup": "",
         "marker": {
          "color": [
           0.7003487982809227,
           0.7003487982809227,
           0.9265664871854143,
           0.9265664871854142,
           1.6589802138250944,
           1.6589802138250946,
           0.20134466803102843,
           0.20134466803102843,
           0.5275046905018157,
           0.5275046905018157,
           0.3008887077048512,
           0.3008887077048512,
           0.2697313548970303,
           0.26973135489703026,
           0.11712344287108196,
           0.11712344287108196,
           0.12535545029738843,
           0.12535545029738843,
           2.470160320507396,
           2.4701603205073956
          ],
          "coloraxis": "coloraxis",
          "size": [
           0.06310679611650485,
           0.026807194409439794,
           0.025317905831137587,
           0.08349074423876086,
           0.03837782105624928,
           0.1494868362338242,
           0.0565855149230926,
           0.04080808080808081,
           0.04804407713498622,
           0.148248894933696,
           0.08456117873158232,
           0.014545454545454545,
           0.024132231404958675,
           0.07580477673935616,
           0.03291614518147685,
           0.019320477502295683,
           0.02540675844806008,
           0.020678414994397477,
           0.014330413016270338,
           0.4074733096085409
          ],
          "sizemode": "area",
          "sizeref": 0.0010186832740213523,
          "symbol": "circle"
         },
         "mode": "markers",
         "name": "",
         "orientation": "v",
         "showlegend": false,
         "type": "scatter",
         "x": [
          0.0024155337400514074,
          0.0024155337400514074,
          0.0022813374211596627,
          0.0022813374211596627,
          0.003458135909902656,
          0.003458135909902656,
          0.011468623868363734,
          0.011468623868363734,
          0.013502214239261713,
          0.013502214239261713,
          0.004087826329317767,
          0.004087826329317767,
          0.006782075500913567,
          0.006782075500913567,
          0.005429789518235215,
          0.005429789518235215,
          0.0041910542669268015,
          0.0041910542669268015,
          0.00236391977124689,
          0.00236391977124689
         ],
         "xaxis": "x",
         "y": [
          0.06310679611650485,
          0.026807194409439794,
          0.025317905831137587,
          0.08349074423876086,
          0.03837782105624928,
          0.1494868362338242,
          0.0565855149230926,
          0.04080808080808081,
          0.04804407713498622,
          0.148248894933696,
          0.08456117873158232,
          0.014545454545454545,
          0.024132231404958675,
          0.07580477673935616,
          0.03291614518147685,
          0.019320477502295683,
          0.02540675844806008,
          0.020678414994397477,
          0.014330413016270338,
          0.4074733096085409
         ],
         "yaxis": "y"
        }
       ],
       "layout": {
        "coloraxis": {
         "colorbar": {
          "title": {
           "text": "lift"
          }
         },
         "colorscale": [
          [
           0,
           "#0d0887"
          ],
          [
           0.1111111111111111,
           "#46039f"
          ],
          [
           0.2222222222222222,
           "#7201a8"
          ],
          [
           0.3333333333333333,
           "#9c179e"
          ],
          [
           0.4444444444444444,
           "#bd3786"
          ],
          [
           0.5555555555555556,
           "#d8576b"
          ],
          [
           0.6666666666666666,
           "#ed7953"
          ],
          [
           0.7777777777777778,
           "#fb9f3a"
          ],
          [
           0.8888888888888888,
           "#fdca26"
          ],
          [
           1,
           "#f0f921"
          ]
         ]
        },
        "legend": {
         "itemsizing": "constant",
         "tracegroupgap": 0
        },
        "margin": {
         "t": 60
        },
        "template": {
         "data": {
          "bar": [
           {
            "error_x": {
             "color": "#2a3f5f"
            },
            "error_y": {
             "color": "#2a3f5f"
            },
            "marker": {
             "line": {
              "color": "#E5ECF6",
              "width": 0.5
             },
             "pattern": {
              "fillmode": "overlay",
              "size": 10,
              "solidity": 0.2
             }
            },
            "type": "bar"
           }
          ],
          "barpolar": [
           {
            "marker": {
             "line": {
              "color": "#E5ECF6",
              "width": 0.5
             },
             "pattern": {
              "fillmode": "overlay",
              "size": 10,
              "solidity": 0.2
             }
            },
            "type": "barpolar"
           }
          ],
          "carpet": [
           {
            "aaxis": {
             "endlinecolor": "#2a3f5f",
             "gridcolor": "white",
             "linecolor": "white",
             "minorgridcolor": "white",
             "startlinecolor": "#2a3f5f"
            },
            "baxis": {
             "endlinecolor": "#2a3f5f",
             "gridcolor": "white",
             "linecolor": "white",
             "minorgridcolor": "white",
             "startlinecolor": "#2a3f5f"
            },
            "type": "carpet"
           }
          ],
          "choropleth": [
           {
            "colorbar": {
             "outlinewidth": 0,
             "ticks": ""
            },
            "type": "choropleth"
           }
          ],
          "contour": [
           {
            "colorbar": {
             "outlinewidth": 0,
             "ticks": ""
            },
            "colorscale": [
             [
              0,
              "#0d0887"
             ],
             [
              0.1111111111111111,
              "#46039f"
             ],
             [
              0.2222222222222222,
              "#7201a8"
             ],
             [
              0.3333333333333333,
              "#9c179e"
             ],
             [
              0.4444444444444444,
              "#bd3786"
             ],
             [
              0.5555555555555556,
              "#d8576b"
             ],
             [
              0.6666666666666666,
              "#ed7953"
             ],
             [
              0.7777777777777778,
              "#fb9f3a"
             ],
             [
              0.8888888888888888,
              "#fdca26"
             ],
             [
              1,
              "#f0f921"
             ]
            ],
            "type": "contour"
           }
          ],
          "contourcarpet": [
           {
            "colorbar": {
             "outlinewidth": 0,
             "ticks": ""
            },
            "type": "contourcarpet"
           }
          ],
          "heatmap": [
           {
            "colorbar": {
             "outlinewidth": 0,
             "ticks": ""
            },
            "colorscale": [
             [
              0,
              "#0d0887"
             ],
             [
              0.1111111111111111,
              "#46039f"
             ],
             [
              0.2222222222222222,
              "#7201a8"
             ],
             [
              0.3333333333333333,
              "#9c179e"
             ],
             [
              0.4444444444444444,
              "#bd3786"
             ],
             [
              0.5555555555555556,
              "#d8576b"
             ],
             [
              0.6666666666666666,
              "#ed7953"
             ],
             [
              0.7777777777777778,
              "#fb9f3a"
             ],
             [
              0.8888888888888888,
              "#fdca26"
             ],
             [
              1,
              "#f0f921"
             ]
            ],
            "type": "heatmap"
           }
          ],
          "heatmapgl": [
           {
            "colorbar": {
             "outlinewidth": 0,
             "ticks": ""
            },
            "colorscale": [
             [
              0,
              "#0d0887"
             ],
             [
              0.1111111111111111,
              "#46039f"
             ],
             [
              0.2222222222222222,
              "#7201a8"
             ],
             [
              0.3333333333333333,
              "#9c179e"
             ],
             [
              0.4444444444444444,
              "#bd3786"
             ],
             [
              0.5555555555555556,
              "#d8576b"
             ],
             [
              0.6666666666666666,
              "#ed7953"
             ],
             [
              0.7777777777777778,
              "#fb9f3a"
             ],
             [
              0.8888888888888888,
              "#fdca26"
             ],
             [
              1,
              "#f0f921"
             ]
            ],
            "type": "heatmapgl"
           }
          ],
          "histogram": [
           {
            "marker": {
             "pattern": {
              "fillmode": "overlay",
              "size": 10,
              "solidity": 0.2
             }
            },
            "type": "histogram"
           }
          ],
          "histogram2d": [
           {
            "colorbar": {
             "outlinewidth": 0,
             "ticks": ""
            },
            "colorscale": [
             [
              0,
              "#0d0887"
             ],
             [
              0.1111111111111111,
              "#46039f"
             ],
             [
              0.2222222222222222,
              "#7201a8"
             ],
             [
              0.3333333333333333,
              "#9c179e"
             ],
             [
              0.4444444444444444,
              "#bd3786"
             ],
             [
              0.5555555555555556,
              "#d8576b"
             ],
             [
              0.6666666666666666,
              "#ed7953"
             ],
             [
              0.7777777777777778,
              "#fb9f3a"
             ],
             [
              0.8888888888888888,
              "#fdca26"
             ],
             [
              1,
              "#f0f921"
             ]
            ],
            "type": "histogram2d"
           }
          ],
          "histogram2dcontour": [
           {
            "colorbar": {
             "outlinewidth": 0,
             "ticks": ""
            },
            "colorscale": [
             [
              0,
              "#0d0887"
             ],
             [
              0.1111111111111111,
              "#46039f"
             ],
             [
              0.2222222222222222,
              "#7201a8"
             ],
             [
              0.3333333333333333,
              "#9c179e"
             ],
             [
              0.4444444444444444,
              "#bd3786"
             ],
             [
              0.5555555555555556,
              "#d8576b"
             ],
             [
              0.6666666666666666,
              "#ed7953"
             ],
             [
              0.7777777777777778,
              "#fb9f3a"
             ],
             [
              0.8888888888888888,
              "#fdca26"
             ],
             [
              1,
              "#f0f921"
             ]
            ],
            "type": "histogram2dcontour"
           }
          ],
          "mesh3d": [
           {
            "colorbar": {
             "outlinewidth": 0,
             "ticks": ""
            },
            "type": "mesh3d"
           }
          ],
          "parcoords": [
           {
            "line": {
             "colorbar": {
              "outlinewidth": 0,
              "ticks": ""
             }
            },
            "type": "parcoords"
           }
          ],
          "pie": [
           {
            "automargin": true,
            "type": "pie"
           }
          ],
          "scatter": [
           {
            "marker": {
             "colorbar": {
              "outlinewidth": 0,
              "ticks": ""
             }
            },
            "type": "scatter"
           }
          ],
          "scatter3d": [
           {
            "line": {
             "colorbar": {
              "outlinewidth": 0,
              "ticks": ""
             }
            },
            "marker": {
             "colorbar": {
              "outlinewidth": 0,
              "ticks": ""
             }
            },
            "type": "scatter3d"
           }
          ],
          "scattercarpet": [
           {
            "marker": {
             "colorbar": {
              "outlinewidth": 0,
              "ticks": ""
             }
            },
            "type": "scattercarpet"
           }
          ],
          "scattergeo": [
           {
            "marker": {
             "colorbar": {
              "outlinewidth": 0,
              "ticks": ""
             }
            },
            "type": "scattergeo"
           }
          ],
          "scattergl": [
           {
            "marker": {
             "colorbar": {
              "outlinewidth": 0,
              "ticks": ""
             }
            },
            "type": "scattergl"
           }
          ],
          "scattermapbox": [
           {
            "marker": {
             "colorbar": {
              "outlinewidth": 0,
              "ticks": ""
             }
            },
            "type": "scattermapbox"
           }
          ],
          "scatterpolar": [
           {
            "marker": {
             "colorbar": {
              "outlinewidth": 0,
              "ticks": ""
             }
            },
            "type": "scatterpolar"
           }
          ],
          "scatterpolargl": [
           {
            "marker": {
             "colorbar": {
              "outlinewidth": 0,
              "ticks": ""
             }
            },
            "type": "scatterpolargl"
           }
          ],
          "scatterternary": [
           {
            "marker": {
             "colorbar": {
              "outlinewidth": 0,
              "ticks": ""
             }
            },
            "type": "scatterternary"
           }
          ],
          "surface": [
           {
            "colorbar": {
             "outlinewidth": 0,
             "ticks": ""
            },
            "colorscale": [
             [
              0,
              "#0d0887"
             ],
             [
              0.1111111111111111,
              "#46039f"
             ],
             [
              0.2222222222222222,
              "#7201a8"
             ],
             [
              0.3333333333333333,
              "#9c179e"
             ],
             [
              0.4444444444444444,
              "#bd3786"
             ],
             [
              0.5555555555555556,
              "#d8576b"
             ],
             [
              0.6666666666666666,
              "#ed7953"
             ],
             [
              0.7777777777777778,
              "#fb9f3a"
             ],
             [
              0.8888888888888888,
              "#fdca26"
             ],
             [
              1,
              "#f0f921"
             ]
            ],
            "type": "surface"
           }
          ],
          "table": [
           {
            "cells": {
             "fill": {
              "color": "#EBF0F8"
             },
             "line": {
              "color": "white"
             }
            },
            "header": {
             "fill": {
              "color": "#C8D4E3"
             },
             "line": {
              "color": "white"
             }
            },
            "type": "table"
           }
          ]
         },
         "layout": {
          "annotationdefaults": {
           "arrowcolor": "#2a3f5f",
           "arrowhead": 0,
           "arrowwidth": 1
          },
          "autotypenumbers": "strict",
          "coloraxis": {
           "colorbar": {
            "outlinewidth": 0,
            "ticks": ""
           }
          },
          "colorscale": {
           "diverging": [
            [
             0,
             "#8e0152"
            ],
            [
             0.1,
             "#c51b7d"
            ],
            [
             0.2,
             "#de77ae"
            ],
            [
             0.3,
             "#f1b6da"
            ],
            [
             0.4,
             "#fde0ef"
            ],
            [
             0.5,
             "#f7f7f7"
            ],
            [
             0.6,
             "#e6f5d0"
            ],
            [
             0.7,
             "#b8e186"
            ],
            [
             0.8,
             "#7fbc41"
            ],
            [
             0.9,
             "#4d9221"
            ],
            [
             1,
             "#276419"
            ]
           ],
           "sequential": [
            [
             0,
             "#0d0887"
            ],
            [
             0.1111111111111111,
             "#46039f"
            ],
            [
             0.2222222222222222,
             "#7201a8"
            ],
            [
             0.3333333333333333,
             "#9c179e"
            ],
            [
             0.4444444444444444,
             "#bd3786"
            ],
            [
             0.5555555555555556,
             "#d8576b"
            ],
            [
             0.6666666666666666,
             "#ed7953"
            ],
            [
             0.7777777777777778,
             "#fb9f3a"
            ],
            [
             0.8888888888888888,
             "#fdca26"
            ],
            [
             1,
             "#f0f921"
            ]
           ],
           "sequentialminus": [
            [
             0,
             "#0d0887"
            ],
            [
             0.1111111111111111,
             "#46039f"
            ],
            [
             0.2222222222222222,
             "#7201a8"
            ],
            [
             0.3333333333333333,
             "#9c179e"
            ],
            [
             0.4444444444444444,
             "#bd3786"
            ],
            [
             0.5555555555555556,
             "#d8576b"
            ],
            [
             0.6666666666666666,
             "#ed7953"
            ],
            [
             0.7777777777777778,
             "#fb9f3a"
            ],
            [
             0.8888888888888888,
             "#fdca26"
            ],
            [
             1,
             "#f0f921"
            ]
           ]
          },
          "colorway": [
           "#636efa",
           "#EF553B",
           "#00cc96",
           "#ab63fa",
           "#FFA15A",
           "#19d3f3",
           "#FF6692",
           "#B6E880",
           "#FF97FF",
           "#FECB52"
          ],
          "font": {
           "color": "#2a3f5f"
          },
          "geo": {
           "bgcolor": "white",
           "lakecolor": "white",
           "landcolor": "#E5ECF6",
           "showlakes": true,
           "showland": true,
           "subunitcolor": "white"
          },
          "hoverlabel": {
           "align": "left"
          },
          "hovermode": "closest",
          "mapbox": {
           "style": "light"
          },
          "paper_bgcolor": "white",
          "plot_bgcolor": "#E5ECF6",
          "polar": {
           "angularaxis": {
            "gridcolor": "white",
            "linecolor": "white",
            "ticks": ""
           },
           "bgcolor": "#E5ECF6",
           "radialaxis": {
            "gridcolor": "white",
            "linecolor": "white",
            "ticks": ""
           }
          },
          "scene": {
           "xaxis": {
            "backgroundcolor": "#E5ECF6",
            "gridcolor": "white",
            "gridwidth": 2,
            "linecolor": "white",
            "showbackground": true,
            "ticks": "",
            "zerolinecolor": "white"
           },
           "yaxis": {
            "backgroundcolor": "#E5ECF6",
            "gridcolor": "white",
            "gridwidth": 2,
            "linecolor": "white",
            "showbackground": true,
            "ticks": "",
            "zerolinecolor": "white"
           },
           "zaxis": {
            "backgroundcolor": "#E5ECF6",
            "gridcolor": "white",
            "gridwidth": 2,
            "linecolor": "white",
            "showbackground": true,
            "ticks": "",
            "zerolinecolor": "white"
           }
          },
          "shapedefaults": {
           "line": {
            "color": "#2a3f5f"
           }
          },
          "ternary": {
           "aaxis": {
            "gridcolor": "white",
            "linecolor": "white",
            "ticks": ""
           },
           "baxis": {
            "gridcolor": "white",
            "linecolor": "white",
            "ticks": ""
           },
           "bgcolor": "#E5ECF6",
           "caxis": {
            "gridcolor": "white",
            "linecolor": "white",
            "ticks": ""
           }
          },
          "title": {
           "x": 0.05
          },
          "xaxis": {
           "automargin": true,
           "gridcolor": "white",
           "linecolor": "white",
           "ticks": "",
           "title": {
            "standoff": 15
           },
           "zerolinecolor": "white",
           "zerolinewidth": 2
          },
          "yaxis": {
           "automargin": true,
           "gridcolor": "white",
           "linecolor": "white",
           "ticks": "",
           "title": {
            "standoff": 15
           },
           "zerolinecolor": "white",
           "zerolinewidth": 2
          }
         }
        },
        "xaxis": {
         "anchor": "y",
         "domain": [
          0,
          1
         ],
         "title": {
          "text": "support"
         }
        },
        "yaxis": {
         "anchor": "x",
         "domain": [
          0,
          1
         ],
         "title": {
          "text": "confidence"
         }
        }
       }
      }
     },
     "metadata": {},
     "output_type": "display_data"
    }
   ],
   "source": [
    "fig = px.scatter(rules_pruned_support, x=\"support\", y=\"confidence\", color=\"lift\", size=\"confidence\",\n",
    "                 hover_data=[\"support\", \"confidence\", \"lift\", \"antecedent support\", \"consequent support\"],\n",
    "                 hover_name=rules_pruned_support[\"antecedents\"].apply(lambda x: \", \".join(list(x))) + \n",
    "                            \" -> \" + \n",
    "                            rules_pruned_support[\"consequents\"].apply(lambda x: \", \".join(list(x))) + \n",
    "                            rules_pruned_support[\"antecedent support\"].apply(lambda x: \"{:.3f}\".format(x)) + \n",
    "                            rules_pruned_support[\"consequent support\"].apply(lambda x: \"{:.3f}\".format(x)))\n",
    "fig.show()"
   ]
  },
  {
   "cell_type": "code",
   "execution_count": 15,
   "metadata": {},
   "outputs": [
    {
     "name": "stderr",
     "output_type": "stream",
     "text": [
      "c:\\Users\\alexi\\anaconda3\\lib\\site-packages\\plotly\\io\\_renderers.py:396: DeprecationWarning:\n",
      "\n",
      "distutils Version classes are deprecated. Use packaging.version instead.\n",
      "\n",
      "c:\\Users\\alexi\\anaconda3\\lib\\site-packages\\plotly\\io\\_renderers.py:396: DeprecationWarning:\n",
      "\n",
      "distutils Version classes are deprecated. Use packaging.version instead.\n",
      "\n"
     ]
    },
    {
     "data": {
      "application/vnd.plotly.v1+json": {
       "config": {
        "plotlyServerURL": "https://plot.ly"
       },
       "data": [
        {
         "dimensions": [
          {
           "label": "antecedent support",
           "values": [
            0.005904638031236774,
            0.09010766673892623,
            0.03827691926543,
            0.09010766673892623,
            0.20267773270157835,
            0.03827691926543,
            0.09010766673892623,
            0.027324435085111433,
            0.027324435085111433,
            0.023133380818184633,
            0.20267773270157835,
            0.09010766673892623,
            0.09010766673892623,
            0.08946765352575022,
            0.16495824429923714,
            0.09010766673892623,
            0.09010766673892623,
            0.023133380818184633,
            0.20267773270157835,
            0.28103806014059646,
            0.28103806014059646,
            0.09107800935245115,
            0.04834164318231086,
            0.28103806014059646,
            0.28103806014059646,
            0.08946765352575022,
            0.16495824429923714,
            0.28103806014059646,
            0.20267773270157835,
            0.09107800935245115,
            0.20267773270157835,
            0.08946765352575022,
            0.16495824429923714,
            0.20267773270157835,
            0.20267773270157835,
            0.023133380818184633,
            0.04834164318231086,
            0.09107800935245115,
            0.08946765352575022,
            0.09107800935245115,
            0.16495824429923714,
            0.09107800935245115,
            0.16495824429923714,
            0.04834164318231086,
            0.16495824429923714,
            0.08946765352575022,
            0.16495824429923714,
            0.005801410093627739
           ]
          },
          {
           "label": "consequent support",
           "values": [
            0.09010766673892623,
            0.005904638031236774,
            0.09010766673892623,
            0.03827691926543,
            0.03827691926543,
            0.20267773270157835,
            0.027324435085111433,
            0.09010766673892623,
            0.023133380818184633,
            0.027324435085111433,
            0.09010766673892623,
            0.20267773270157835,
            0.08946765352575022,
            0.09010766673892623,
            0.09010766673892623,
            0.16495824429923714,
            0.023133380818184633,
            0.09010766673892623,
            0.28103806014059646,
            0.20267773270157835,
            0.09107800935245115,
            0.28103806014059646,
            0.28103806014059646,
            0.04834164318231086,
            0.08946765352575022,
            0.28103806014059646,
            0.28103806014059646,
            0.16495824429923714,
            0.09107800935245115,
            0.20267773270157835,
            0.08946765352575022,
            0.20267773270157835,
            0.20267773270157835,
            0.16495824429923714,
            0.023133380818184633,
            0.20267773270157835,
            0.09107800935245115,
            0.04834164318231086,
            0.09107800935245115,
            0.08946765352575022,
            0.09107800935245115,
            0.16495824429923714,
            0.04834164318231086,
            0.16495824429923714,
            0.08946765352575022,
            0.16495824429923714,
            0.005801410093627739,
            0.16495824429923714
           ]
          },
          {
           "label": "support",
           "values": [
            0.0017445521455926832,
            0.0017445521455926832,
            0.0024155337400514074,
            0.0024155337400514074,
            0.0012284124575475106,
            0.0012284124575475106,
            0.0022813374211596627,
            0.0022813374211596627,
            0.0013316403951565451,
            0.0013316403951565451,
            0.0014348683327655796,
            0.0014348683327655796,
            0.0013213176013956416,
            0.0013213176013956416,
            0.001971653608332559,
            0.001971653608332559,
            0.003458135909902656,
            0.003458135909902656,
            0.011468623868363734,
            0.011468623868363734,
            0.013502214239261713,
            0.013502214239261713,
            0.004087826329317767,
            0.004087826329317767,
            0.006782075500913567,
            0.006782075500913567,
            0.005429789518235215,
            0.005429789518235215,
            0.001899394052006235,
            0.001899394052006235,
            0.0013109948076347382,
            0.0013109948076347382,
            0.0041910542669268015,
            0.0041910542669268015,
            0.001579387445418228,
            0.001579387445418228,
            0.0019510080208107522,
            0.0019510080208107522,
            0.0010838933448948623,
            0.0010838933448948623,
            0.001259380838830221,
            0.001259380838830221,
            0.0010632477573730554,
            0.0010632477573730554,
            0.0018168117019190073,
            0.0018168117019190073,
            0.00236391977124689,
            0.00236391977124689
           ]
          },
          {
           "label": "confidence",
           "values": [
            0.29545454545454547,
            0.01936075151792874,
            0.06310679611650485,
            0.026807194409439794,
            0.0060609147397371905,
            0.03209277238403452,
            0.025317905831137587,
            0.08349074423876086,
            0.048734416320362677,
            0.05756358768406961,
            0.00707955587246613,
            0.015923931721846717,
            0.014663764463283307,
            0.014768662743740623,
            0.011952440550688361,
            0.02188108603505556,
            0.03837782105624928,
            0.1494868362338242,
            0.0565855149230926,
            0.04080808080808081,
            0.04804407713498622,
            0.148248894933696,
            0.08456117873158232,
            0.014545454545454545,
            0.024132231404958675,
            0.07580477673935616,
            0.03291614518147685,
            0.019320477502295683,
            0.009371498421106244,
            0.02085458460840984,
            0.0064683711928287665,
            0.014653282566055149,
            0.02540675844806008,
            0.020678414994397477,
            0.0077926046653763875,
            0.06827309236947791,
            0.04035874439461883,
            0.021421285277116626,
            0.01211491865697473,
            0.01190071404284257,
            0.0076345431789737175,
            0.013827496316445653,
            0.006445556946182728,
            0.021994448003416614,
            0.011013767209011264,
            0.020306911272643356,
            0.014330413016270338,
            0.4074733096085409
           ]
          },
          {
           "label": "lift",
           "values": [
            3.2789057374061383,
            3.278905737406138,
            0.7003487982809227,
            0.7003487982809227,
            0.15834384940198512,
            0.15834384940198512,
            0.9265664871854143,
            0.9265664871854142,
            2.1066707327989707,
            2.106670732798971,
            0.07856774155497896,
            0.07856774155497896,
            0.16390017939905893,
            0.1639001793990589,
            0.13264621073053426,
            0.13264621073053426,
            1.6589802138250944,
            1.6589802138250946,
            0.20134466803102843,
            0.20134466803102843,
            0.5275046905018157,
            0.5275046905018157,
            0.3008887077048512,
            0.3008887077048512,
            0.2697313548970303,
            0.26973135489703026,
            0.11712344287108196,
            0.11712344287108196,
            0.10289529259297577,
            0.10289529259297578,
            0.072298433432895,
            0.072298433432895,
            0.12535545029738843,
            0.12535545029738843,
            0.33685541800491153,
            0.3368554180049116,
            0.44312282055308966,
            0.4431228205530897,
            0.13301694605656952,
            0.13301694605656952,
            0.08382422094261825,
            0.08382422094261825,
            0.1333334268732777,
            0.1333334268732777,
            0.12310334266049938,
            0.12310334266049937,
            2.470160320507396,
            2.4701603205073956
           ]
          }
         ],
         "domain": {
          "x": [
           0,
           1
          ],
          "y": [
           0,
           1
          ]
         },
         "line": {
          "color": [
           3.2789057374061383,
           3.278905737406138,
           0.7003487982809227,
           0.7003487982809227,
           0.15834384940198512,
           0.15834384940198512,
           0.9265664871854143,
           0.9265664871854142,
           2.1066707327989707,
           2.106670732798971,
           0.07856774155497896,
           0.07856774155497896,
           0.16390017939905893,
           0.1639001793990589,
           0.13264621073053426,
           0.13264621073053426,
           1.6589802138250944,
           1.6589802138250946,
           0.20134466803102843,
           0.20134466803102843,
           0.5275046905018157,
           0.5275046905018157,
           0.3008887077048512,
           0.3008887077048512,
           0.2697313548970303,
           0.26973135489703026,
           0.11712344287108196,
           0.11712344287108196,
           0.10289529259297577,
           0.10289529259297578,
           0.072298433432895,
           0.072298433432895,
           0.12535545029738843,
           0.12535545029738843,
           0.33685541800491153,
           0.3368554180049116,
           0.44312282055308966,
           0.4431228205530897,
           0.13301694605656952,
           0.13301694605656952,
           0.08382422094261825,
           0.08382422094261825,
           0.1333334268732777,
           0.1333334268732777,
           0.12310334266049938,
           0.12310334266049937,
           2.470160320507396,
           2.4701603205073956
          ],
          "coloraxis": "coloraxis"
         },
         "name": "",
         "type": "parcoords"
        }
       ],
       "layout": {
        "coloraxis": {
         "colorbar": {
          "title": {
           "text": "lift"
          }
         },
         "colorscale": [
          [
           0,
           "rgb(247, 254, 174)"
          ],
          [
           0.16666666666666666,
           "rgb(183, 230, 165)"
          ],
          [
           0.3333333333333333,
           "rgb(124, 203, 162)"
          ],
          [
           0.5,
           "rgb(70, 174, 160)"
          ],
          [
           0.6666666666666666,
           "rgb(8, 144, 153)"
          ],
          [
           0.8333333333333334,
           "rgb(0, 113, 139)"
          ],
          [
           1,
           "rgb(4, 82, 117)"
          ]
         ]
        },
        "legend": {
         "tracegroupgap": 0
        },
        "margin": {
         "t": 60
        },
        "template": {
         "data": {
          "bar": [
           {
            "error_x": {
             "color": "#2a3f5f"
            },
            "error_y": {
             "color": "#2a3f5f"
            },
            "marker": {
             "line": {
              "color": "#E5ECF6",
              "width": 0.5
             },
             "pattern": {
              "fillmode": "overlay",
              "size": 10,
              "solidity": 0.2
             }
            },
            "type": "bar"
           }
          ],
          "barpolar": [
           {
            "marker": {
             "line": {
              "color": "#E5ECF6",
              "width": 0.5
             },
             "pattern": {
              "fillmode": "overlay",
              "size": 10,
              "solidity": 0.2
             }
            },
            "type": "barpolar"
           }
          ],
          "carpet": [
           {
            "aaxis": {
             "endlinecolor": "#2a3f5f",
             "gridcolor": "white",
             "linecolor": "white",
             "minorgridcolor": "white",
             "startlinecolor": "#2a3f5f"
            },
            "baxis": {
             "endlinecolor": "#2a3f5f",
             "gridcolor": "white",
             "linecolor": "white",
             "minorgridcolor": "white",
             "startlinecolor": "#2a3f5f"
            },
            "type": "carpet"
           }
          ],
          "choropleth": [
           {
            "colorbar": {
             "outlinewidth": 0,
             "ticks": ""
            },
            "type": "choropleth"
           }
          ],
          "contour": [
           {
            "colorbar": {
             "outlinewidth": 0,
             "ticks": ""
            },
            "colorscale": [
             [
              0,
              "#0d0887"
             ],
             [
              0.1111111111111111,
              "#46039f"
             ],
             [
              0.2222222222222222,
              "#7201a8"
             ],
             [
              0.3333333333333333,
              "#9c179e"
             ],
             [
              0.4444444444444444,
              "#bd3786"
             ],
             [
              0.5555555555555556,
              "#d8576b"
             ],
             [
              0.6666666666666666,
              "#ed7953"
             ],
             [
              0.7777777777777778,
              "#fb9f3a"
             ],
             [
              0.8888888888888888,
              "#fdca26"
             ],
             [
              1,
              "#f0f921"
             ]
            ],
            "type": "contour"
           }
          ],
          "contourcarpet": [
           {
            "colorbar": {
             "outlinewidth": 0,
             "ticks": ""
            },
            "type": "contourcarpet"
           }
          ],
          "heatmap": [
           {
            "colorbar": {
             "outlinewidth": 0,
             "ticks": ""
            },
            "colorscale": [
             [
              0,
              "#0d0887"
             ],
             [
              0.1111111111111111,
              "#46039f"
             ],
             [
              0.2222222222222222,
              "#7201a8"
             ],
             [
              0.3333333333333333,
              "#9c179e"
             ],
             [
              0.4444444444444444,
              "#bd3786"
             ],
             [
              0.5555555555555556,
              "#d8576b"
             ],
             [
              0.6666666666666666,
              "#ed7953"
             ],
             [
              0.7777777777777778,
              "#fb9f3a"
             ],
             [
              0.8888888888888888,
              "#fdca26"
             ],
             [
              1,
              "#f0f921"
             ]
            ],
            "type": "heatmap"
           }
          ],
          "heatmapgl": [
           {
            "colorbar": {
             "outlinewidth": 0,
             "ticks": ""
            },
            "colorscale": [
             [
              0,
              "#0d0887"
             ],
             [
              0.1111111111111111,
              "#46039f"
             ],
             [
              0.2222222222222222,
              "#7201a8"
             ],
             [
              0.3333333333333333,
              "#9c179e"
             ],
             [
              0.4444444444444444,
              "#bd3786"
             ],
             [
              0.5555555555555556,
              "#d8576b"
             ],
             [
              0.6666666666666666,
              "#ed7953"
             ],
             [
              0.7777777777777778,
              "#fb9f3a"
             ],
             [
              0.8888888888888888,
              "#fdca26"
             ],
             [
              1,
              "#f0f921"
             ]
            ],
            "type": "heatmapgl"
           }
          ],
          "histogram": [
           {
            "marker": {
             "pattern": {
              "fillmode": "overlay",
              "size": 10,
              "solidity": 0.2
             }
            },
            "type": "histogram"
           }
          ],
          "histogram2d": [
           {
            "colorbar": {
             "outlinewidth": 0,
             "ticks": ""
            },
            "colorscale": [
             [
              0,
              "#0d0887"
             ],
             [
              0.1111111111111111,
              "#46039f"
             ],
             [
              0.2222222222222222,
              "#7201a8"
             ],
             [
              0.3333333333333333,
              "#9c179e"
             ],
             [
              0.4444444444444444,
              "#bd3786"
             ],
             [
              0.5555555555555556,
              "#d8576b"
             ],
             [
              0.6666666666666666,
              "#ed7953"
             ],
             [
              0.7777777777777778,
              "#fb9f3a"
             ],
             [
              0.8888888888888888,
              "#fdca26"
             ],
             [
              1,
              "#f0f921"
             ]
            ],
            "type": "histogram2d"
           }
          ],
          "histogram2dcontour": [
           {
            "colorbar": {
             "outlinewidth": 0,
             "ticks": ""
            },
            "colorscale": [
             [
              0,
              "#0d0887"
             ],
             [
              0.1111111111111111,
              "#46039f"
             ],
             [
              0.2222222222222222,
              "#7201a8"
             ],
             [
              0.3333333333333333,
              "#9c179e"
             ],
             [
              0.4444444444444444,
              "#bd3786"
             ],
             [
              0.5555555555555556,
              "#d8576b"
             ],
             [
              0.6666666666666666,
              "#ed7953"
             ],
             [
              0.7777777777777778,
              "#fb9f3a"
             ],
             [
              0.8888888888888888,
              "#fdca26"
             ],
             [
              1,
              "#f0f921"
             ]
            ],
            "type": "histogram2dcontour"
           }
          ],
          "mesh3d": [
           {
            "colorbar": {
             "outlinewidth": 0,
             "ticks": ""
            },
            "type": "mesh3d"
           }
          ],
          "parcoords": [
           {
            "line": {
             "colorbar": {
              "outlinewidth": 0,
              "ticks": ""
             }
            },
            "type": "parcoords"
           }
          ],
          "pie": [
           {
            "automargin": true,
            "type": "pie"
           }
          ],
          "scatter": [
           {
            "marker": {
             "colorbar": {
              "outlinewidth": 0,
              "ticks": ""
             }
            },
            "type": "scatter"
           }
          ],
          "scatter3d": [
           {
            "line": {
             "colorbar": {
              "outlinewidth": 0,
              "ticks": ""
             }
            },
            "marker": {
             "colorbar": {
              "outlinewidth": 0,
              "ticks": ""
             }
            },
            "type": "scatter3d"
           }
          ],
          "scattercarpet": [
           {
            "marker": {
             "colorbar": {
              "outlinewidth": 0,
              "ticks": ""
             }
            },
            "type": "scattercarpet"
           }
          ],
          "scattergeo": [
           {
            "marker": {
             "colorbar": {
              "outlinewidth": 0,
              "ticks": ""
             }
            },
            "type": "scattergeo"
           }
          ],
          "scattergl": [
           {
            "marker": {
             "colorbar": {
              "outlinewidth": 0,
              "ticks": ""
             }
            },
            "type": "scattergl"
           }
          ],
          "scattermapbox": [
           {
            "marker": {
             "colorbar": {
              "outlinewidth": 0,
              "ticks": ""
             }
            },
            "type": "scattermapbox"
           }
          ],
          "scatterpolar": [
           {
            "marker": {
             "colorbar": {
              "outlinewidth": 0,
              "ticks": ""
             }
            },
            "type": "scatterpolar"
           }
          ],
          "scatterpolargl": [
           {
            "marker": {
             "colorbar": {
              "outlinewidth": 0,
              "ticks": ""
             }
            },
            "type": "scatterpolargl"
           }
          ],
          "scatterternary": [
           {
            "marker": {
             "colorbar": {
              "outlinewidth": 0,
              "ticks": ""
             }
            },
            "type": "scatterternary"
           }
          ],
          "surface": [
           {
            "colorbar": {
             "outlinewidth": 0,
             "ticks": ""
            },
            "colorscale": [
             [
              0,
              "#0d0887"
             ],
             [
              0.1111111111111111,
              "#46039f"
             ],
             [
              0.2222222222222222,
              "#7201a8"
             ],
             [
              0.3333333333333333,
              "#9c179e"
             ],
             [
              0.4444444444444444,
              "#bd3786"
             ],
             [
              0.5555555555555556,
              "#d8576b"
             ],
             [
              0.6666666666666666,
              "#ed7953"
             ],
             [
              0.7777777777777778,
              "#fb9f3a"
             ],
             [
              0.8888888888888888,
              "#fdca26"
             ],
             [
              1,
              "#f0f921"
             ]
            ],
            "type": "surface"
           }
          ],
          "table": [
           {
            "cells": {
             "fill": {
              "color": "#EBF0F8"
             },
             "line": {
              "color": "white"
             }
            },
            "header": {
             "fill": {
              "color": "#C8D4E3"
             },
             "line": {
              "color": "white"
             }
            },
            "type": "table"
           }
          ]
         },
         "layout": {
          "annotationdefaults": {
           "arrowcolor": "#2a3f5f",
           "arrowhead": 0,
           "arrowwidth": 1
          },
          "autotypenumbers": "strict",
          "coloraxis": {
           "colorbar": {
            "outlinewidth": 0,
            "ticks": ""
           }
          },
          "colorscale": {
           "diverging": [
            [
             0,
             "#8e0152"
            ],
            [
             0.1,
             "#c51b7d"
            ],
            [
             0.2,
             "#de77ae"
            ],
            [
             0.3,
             "#f1b6da"
            ],
            [
             0.4,
             "#fde0ef"
            ],
            [
             0.5,
             "#f7f7f7"
            ],
            [
             0.6,
             "#e6f5d0"
            ],
            [
             0.7,
             "#b8e186"
            ],
            [
             0.8,
             "#7fbc41"
            ],
            [
             0.9,
             "#4d9221"
            ],
            [
             1,
             "#276419"
            ]
           ],
           "sequential": [
            [
             0,
             "#0d0887"
            ],
            [
             0.1111111111111111,
             "#46039f"
            ],
            [
             0.2222222222222222,
             "#7201a8"
            ],
            [
             0.3333333333333333,
             "#9c179e"
            ],
            [
             0.4444444444444444,
             "#bd3786"
            ],
            [
             0.5555555555555556,
             "#d8576b"
            ],
            [
             0.6666666666666666,
             "#ed7953"
            ],
            [
             0.7777777777777778,
             "#fb9f3a"
            ],
            [
             0.8888888888888888,
             "#fdca26"
            ],
            [
             1,
             "#f0f921"
            ]
           ],
           "sequentialminus": [
            [
             0,
             "#0d0887"
            ],
            [
             0.1111111111111111,
             "#46039f"
            ],
            [
             0.2222222222222222,
             "#7201a8"
            ],
            [
             0.3333333333333333,
             "#9c179e"
            ],
            [
             0.4444444444444444,
             "#bd3786"
            ],
            [
             0.5555555555555556,
             "#d8576b"
            ],
            [
             0.6666666666666666,
             "#ed7953"
            ],
            [
             0.7777777777777778,
             "#fb9f3a"
            ],
            [
             0.8888888888888888,
             "#fdca26"
            ],
            [
             1,
             "#f0f921"
            ]
           ]
          },
          "colorway": [
           "#636efa",
           "#EF553B",
           "#00cc96",
           "#ab63fa",
           "#FFA15A",
           "#19d3f3",
           "#FF6692",
           "#B6E880",
           "#FF97FF",
           "#FECB52"
          ],
          "font": {
           "color": "#2a3f5f"
          },
          "geo": {
           "bgcolor": "white",
           "lakecolor": "white",
           "landcolor": "#E5ECF6",
           "showlakes": true,
           "showland": true,
           "subunitcolor": "white"
          },
          "hoverlabel": {
           "align": "left"
          },
          "hovermode": "closest",
          "mapbox": {
           "style": "light"
          },
          "paper_bgcolor": "white",
          "plot_bgcolor": "#E5ECF6",
          "polar": {
           "angularaxis": {
            "gridcolor": "white",
            "linecolor": "white",
            "ticks": ""
           },
           "bgcolor": "#E5ECF6",
           "radialaxis": {
            "gridcolor": "white",
            "linecolor": "white",
            "ticks": ""
           }
          },
          "scene": {
           "xaxis": {
            "backgroundcolor": "#E5ECF6",
            "gridcolor": "white",
            "gridwidth": 2,
            "linecolor": "white",
            "showbackground": true,
            "ticks": "",
            "zerolinecolor": "white"
           },
           "yaxis": {
            "backgroundcolor": "#E5ECF6",
            "gridcolor": "white",
            "gridwidth": 2,
            "linecolor": "white",
            "showbackground": true,
            "ticks": "",
            "zerolinecolor": "white"
           },
           "zaxis": {
            "backgroundcolor": "#E5ECF6",
            "gridcolor": "white",
            "gridwidth": 2,
            "linecolor": "white",
            "showbackground": true,
            "ticks": "",
            "zerolinecolor": "white"
           }
          },
          "shapedefaults": {
           "line": {
            "color": "#2a3f5f"
           }
          },
          "ternary": {
           "aaxis": {
            "gridcolor": "white",
            "linecolor": "white",
            "ticks": ""
           },
           "baxis": {
            "gridcolor": "white",
            "linecolor": "white",
            "ticks": ""
           },
           "bgcolor": "#E5ECF6",
           "caxis": {
            "gridcolor": "white",
            "linecolor": "white",
            "ticks": ""
           }
          },
          "title": {
           "x": 0.05
          },
          "xaxis": {
           "automargin": true,
           "gridcolor": "white",
           "linecolor": "white",
           "ticks": "",
           "title": {
            "standoff": 15
           },
           "zerolinecolor": "white",
           "zerolinewidth": 2
          },
          "yaxis": {
           "automargin": true,
           "gridcolor": "white",
           "linecolor": "white",
           "ticks": "",
           "title": {
            "standoff": 15
           },
           "zerolinecolor": "white",
           "zerolinewidth": 2
          }
         }
        }
       }
      }
     },
     "metadata": {},
     "output_type": "display_data"
    }
   ],
   "source": [
    "fig = px.parallel_coordinates(rules, dimensions=[\"antecedent support\", \"consequent support\", \"support\", \"confidence\", \"lift\"],\n",
    "                            color=\"lift\", color_continuous_scale=px.colors.sequential.Bluyl,\n",
    "                            title='',\n",
    ")\n",
    "fig.show()"
   ]
  },
  {
   "cell_type": "code",
   "execution_count": 16,
   "metadata": {},
   "outputs": [
    {
     "name": "stderr",
     "output_type": "stream",
     "text": [
      "c:\\Users\\alexi\\anaconda3\\lib\\site-packages\\plotly\\io\\_renderers.py:396: DeprecationWarning:\n",
      "\n",
      "distutils Version classes are deprecated. Use packaging.version instead.\n",
      "\n",
      "c:\\Users\\alexi\\anaconda3\\lib\\site-packages\\plotly\\io\\_renderers.py:396: DeprecationWarning:\n",
      "\n",
      "distutils Version classes are deprecated. Use packaging.version instead.\n",
      "\n"
     ]
    },
    {
     "data": {
      "application/vnd.plotly.v1+json": {
       "config": {
        "plotlyServerURL": "https://plot.ly"
       },
       "data": [
        {
         "dimensions": [
          {
           "label": "antecedent support",
           "values": [
            0.03827691926543,
            0.09010766673892623,
            0.09010766673892623,
            0.027324435085111433,
            0.09010766673892623,
            0.023133380818184633,
            0.20267773270157835,
            0.28103806014059646,
            0.28103806014059646,
            0.09107800935245115,
            0.04834164318231086,
            0.28103806014059646,
            0.28103806014059646,
            0.08946765352575022,
            0.16495824429923714,
            0.28103806014059646,
            0.16495824429923714,
            0.20267773270157835,
            0.16495824429923714,
            0.005801410093627739
           ]
          },
          {
           "label": "consequent support",
           "values": [
            0.09010766673892623,
            0.03827691926543,
            0.027324435085111433,
            0.09010766673892623,
            0.023133380818184633,
            0.09010766673892623,
            0.28103806014059646,
            0.20267773270157835,
            0.09107800935245115,
            0.28103806014059646,
            0.28103806014059646,
            0.04834164318231086,
            0.08946765352575022,
            0.28103806014059646,
            0.28103806014059646,
            0.16495824429923714,
            0.20267773270157835,
            0.16495824429923714,
            0.005801410093627739,
            0.16495824429923714
           ]
          },
          {
           "label": "support",
           "values": [
            0.0024155337400514074,
            0.0024155337400514074,
            0.0022813374211596627,
            0.0022813374211596627,
            0.003458135909902656,
            0.003458135909902656,
            0.011468623868363734,
            0.011468623868363734,
            0.013502214239261713,
            0.013502214239261713,
            0.004087826329317767,
            0.004087826329317767,
            0.006782075500913567,
            0.006782075500913567,
            0.005429789518235215,
            0.005429789518235215,
            0.0041910542669268015,
            0.0041910542669268015,
            0.00236391977124689,
            0.00236391977124689
           ]
          },
          {
           "label": "confidence",
           "values": [
            0.06310679611650485,
            0.026807194409439794,
            0.025317905831137587,
            0.08349074423876086,
            0.03837782105624928,
            0.1494868362338242,
            0.0565855149230926,
            0.04080808080808081,
            0.04804407713498622,
            0.148248894933696,
            0.08456117873158232,
            0.014545454545454545,
            0.024132231404958675,
            0.07580477673935616,
            0.03291614518147685,
            0.019320477502295683,
            0.02540675844806008,
            0.020678414994397477,
            0.014330413016270338,
            0.4074733096085409
           ]
          },
          {
           "label": "lift",
           "values": [
            0.7003487982809227,
            0.7003487982809227,
            0.9265664871854143,
            0.9265664871854142,
            1.6589802138250944,
            1.6589802138250946,
            0.20134466803102843,
            0.20134466803102843,
            0.5275046905018157,
            0.5275046905018157,
            0.3008887077048512,
            0.3008887077048512,
            0.2697313548970303,
            0.26973135489703026,
            0.11712344287108196,
            0.11712344287108196,
            0.12535545029738843,
            0.12535545029738843,
            2.470160320507396,
            2.4701603205073956
           ]
          }
         ],
         "domain": {
          "x": [
           0,
           1
          ],
          "y": [
           0,
           1
          ]
         },
         "line": {
          "color": [
           0.7003487982809227,
           0.7003487982809227,
           0.9265664871854143,
           0.9265664871854142,
           1.6589802138250944,
           1.6589802138250946,
           0.20134466803102843,
           0.20134466803102843,
           0.5275046905018157,
           0.5275046905018157,
           0.3008887077048512,
           0.3008887077048512,
           0.2697313548970303,
           0.26973135489703026,
           0.11712344287108196,
           0.11712344287108196,
           0.12535545029738843,
           0.12535545029738843,
           2.470160320507396,
           2.4701603205073956
          ],
          "coloraxis": "coloraxis"
         },
         "name": "",
         "type": "parcoords"
        }
       ],
       "layout": {
        "coloraxis": {
         "colorbar": {
          "title": {
           "text": "lift"
          }
         },
         "colorscale": [
          [
           0,
           "rgb(247, 254, 174)"
          ],
          [
           0.16666666666666666,
           "rgb(183, 230, 165)"
          ],
          [
           0.3333333333333333,
           "rgb(124, 203, 162)"
          ],
          [
           0.5,
           "rgb(70, 174, 160)"
          ],
          [
           0.6666666666666666,
           "rgb(8, 144, 153)"
          ],
          [
           0.8333333333333334,
           "rgb(0, 113, 139)"
          ],
          [
           1,
           "rgb(4, 82, 117)"
          ]
         ]
        },
        "legend": {
         "tracegroupgap": 0
        },
        "margin": {
         "t": 60
        },
        "template": {
         "data": {
          "bar": [
           {
            "error_x": {
             "color": "#2a3f5f"
            },
            "error_y": {
             "color": "#2a3f5f"
            },
            "marker": {
             "line": {
              "color": "#E5ECF6",
              "width": 0.5
             },
             "pattern": {
              "fillmode": "overlay",
              "size": 10,
              "solidity": 0.2
             }
            },
            "type": "bar"
           }
          ],
          "barpolar": [
           {
            "marker": {
             "line": {
              "color": "#E5ECF6",
              "width": 0.5
             },
             "pattern": {
              "fillmode": "overlay",
              "size": 10,
              "solidity": 0.2
             }
            },
            "type": "barpolar"
           }
          ],
          "carpet": [
           {
            "aaxis": {
             "endlinecolor": "#2a3f5f",
             "gridcolor": "white",
             "linecolor": "white",
             "minorgridcolor": "white",
             "startlinecolor": "#2a3f5f"
            },
            "baxis": {
             "endlinecolor": "#2a3f5f",
             "gridcolor": "white",
             "linecolor": "white",
             "minorgridcolor": "white",
             "startlinecolor": "#2a3f5f"
            },
            "type": "carpet"
           }
          ],
          "choropleth": [
           {
            "colorbar": {
             "outlinewidth": 0,
             "ticks": ""
            },
            "type": "choropleth"
           }
          ],
          "contour": [
           {
            "colorbar": {
             "outlinewidth": 0,
             "ticks": ""
            },
            "colorscale": [
             [
              0,
              "#0d0887"
             ],
             [
              0.1111111111111111,
              "#46039f"
             ],
             [
              0.2222222222222222,
              "#7201a8"
             ],
             [
              0.3333333333333333,
              "#9c179e"
             ],
             [
              0.4444444444444444,
              "#bd3786"
             ],
             [
              0.5555555555555556,
              "#d8576b"
             ],
             [
              0.6666666666666666,
              "#ed7953"
             ],
             [
              0.7777777777777778,
              "#fb9f3a"
             ],
             [
              0.8888888888888888,
              "#fdca26"
             ],
             [
              1,
              "#f0f921"
             ]
            ],
            "type": "contour"
           }
          ],
          "contourcarpet": [
           {
            "colorbar": {
             "outlinewidth": 0,
             "ticks": ""
            },
            "type": "contourcarpet"
           }
          ],
          "heatmap": [
           {
            "colorbar": {
             "outlinewidth": 0,
             "ticks": ""
            },
            "colorscale": [
             [
              0,
              "#0d0887"
             ],
             [
              0.1111111111111111,
              "#46039f"
             ],
             [
              0.2222222222222222,
              "#7201a8"
             ],
             [
              0.3333333333333333,
              "#9c179e"
             ],
             [
              0.4444444444444444,
              "#bd3786"
             ],
             [
              0.5555555555555556,
              "#d8576b"
             ],
             [
              0.6666666666666666,
              "#ed7953"
             ],
             [
              0.7777777777777778,
              "#fb9f3a"
             ],
             [
              0.8888888888888888,
              "#fdca26"
             ],
             [
              1,
              "#f0f921"
             ]
            ],
            "type": "heatmap"
           }
          ],
          "heatmapgl": [
           {
            "colorbar": {
             "outlinewidth": 0,
             "ticks": ""
            },
            "colorscale": [
             [
              0,
              "#0d0887"
             ],
             [
              0.1111111111111111,
              "#46039f"
             ],
             [
              0.2222222222222222,
              "#7201a8"
             ],
             [
              0.3333333333333333,
              "#9c179e"
             ],
             [
              0.4444444444444444,
              "#bd3786"
             ],
             [
              0.5555555555555556,
              "#d8576b"
             ],
             [
              0.6666666666666666,
              "#ed7953"
             ],
             [
              0.7777777777777778,
              "#fb9f3a"
             ],
             [
              0.8888888888888888,
              "#fdca26"
             ],
             [
              1,
              "#f0f921"
             ]
            ],
            "type": "heatmapgl"
           }
          ],
          "histogram": [
           {
            "marker": {
             "pattern": {
              "fillmode": "overlay",
              "size": 10,
              "solidity": 0.2
             }
            },
            "type": "histogram"
           }
          ],
          "histogram2d": [
           {
            "colorbar": {
             "outlinewidth": 0,
             "ticks": ""
            },
            "colorscale": [
             [
              0,
              "#0d0887"
             ],
             [
              0.1111111111111111,
              "#46039f"
             ],
             [
              0.2222222222222222,
              "#7201a8"
             ],
             [
              0.3333333333333333,
              "#9c179e"
             ],
             [
              0.4444444444444444,
              "#bd3786"
             ],
             [
              0.5555555555555556,
              "#d8576b"
             ],
             [
              0.6666666666666666,
              "#ed7953"
             ],
             [
              0.7777777777777778,
              "#fb9f3a"
             ],
             [
              0.8888888888888888,
              "#fdca26"
             ],
             [
              1,
              "#f0f921"
             ]
            ],
            "type": "histogram2d"
           }
          ],
          "histogram2dcontour": [
           {
            "colorbar": {
             "outlinewidth": 0,
             "ticks": ""
            },
            "colorscale": [
             [
              0,
              "#0d0887"
             ],
             [
              0.1111111111111111,
              "#46039f"
             ],
             [
              0.2222222222222222,
              "#7201a8"
             ],
             [
              0.3333333333333333,
              "#9c179e"
             ],
             [
              0.4444444444444444,
              "#bd3786"
             ],
             [
              0.5555555555555556,
              "#d8576b"
             ],
             [
              0.6666666666666666,
              "#ed7953"
             ],
             [
              0.7777777777777778,
              "#fb9f3a"
             ],
             [
              0.8888888888888888,
              "#fdca26"
             ],
             [
              1,
              "#f0f921"
             ]
            ],
            "type": "histogram2dcontour"
           }
          ],
          "mesh3d": [
           {
            "colorbar": {
             "outlinewidth": 0,
             "ticks": ""
            },
            "type": "mesh3d"
           }
          ],
          "parcoords": [
           {
            "line": {
             "colorbar": {
              "outlinewidth": 0,
              "ticks": ""
             }
            },
            "type": "parcoords"
           }
          ],
          "pie": [
           {
            "automargin": true,
            "type": "pie"
           }
          ],
          "scatter": [
           {
            "marker": {
             "colorbar": {
              "outlinewidth": 0,
              "ticks": ""
             }
            },
            "type": "scatter"
           }
          ],
          "scatter3d": [
           {
            "line": {
             "colorbar": {
              "outlinewidth": 0,
              "ticks": ""
             }
            },
            "marker": {
             "colorbar": {
              "outlinewidth": 0,
              "ticks": ""
             }
            },
            "type": "scatter3d"
           }
          ],
          "scattercarpet": [
           {
            "marker": {
             "colorbar": {
              "outlinewidth": 0,
              "ticks": ""
             }
            },
            "type": "scattercarpet"
           }
          ],
          "scattergeo": [
           {
            "marker": {
             "colorbar": {
              "outlinewidth": 0,
              "ticks": ""
             }
            },
            "type": "scattergeo"
           }
          ],
          "scattergl": [
           {
            "marker": {
             "colorbar": {
              "outlinewidth": 0,
              "ticks": ""
             }
            },
            "type": "scattergl"
           }
          ],
          "scattermapbox": [
           {
            "marker": {
             "colorbar": {
              "outlinewidth": 0,
              "ticks": ""
             }
            },
            "type": "scattermapbox"
           }
          ],
          "scatterpolar": [
           {
            "marker": {
             "colorbar": {
              "outlinewidth": 0,
              "ticks": ""
             }
            },
            "type": "scatterpolar"
           }
          ],
          "scatterpolargl": [
           {
            "marker": {
             "colorbar": {
              "outlinewidth": 0,
              "ticks": ""
             }
            },
            "type": "scatterpolargl"
           }
          ],
          "scatterternary": [
           {
            "marker": {
             "colorbar": {
              "outlinewidth": 0,
              "ticks": ""
             }
            },
            "type": "scatterternary"
           }
          ],
          "surface": [
           {
            "colorbar": {
             "outlinewidth": 0,
             "ticks": ""
            },
            "colorscale": [
             [
              0,
              "#0d0887"
             ],
             [
              0.1111111111111111,
              "#46039f"
             ],
             [
              0.2222222222222222,
              "#7201a8"
             ],
             [
              0.3333333333333333,
              "#9c179e"
             ],
             [
              0.4444444444444444,
              "#bd3786"
             ],
             [
              0.5555555555555556,
              "#d8576b"
             ],
             [
              0.6666666666666666,
              "#ed7953"
             ],
             [
              0.7777777777777778,
              "#fb9f3a"
             ],
             [
              0.8888888888888888,
              "#fdca26"
             ],
             [
              1,
              "#f0f921"
             ]
            ],
            "type": "surface"
           }
          ],
          "table": [
           {
            "cells": {
             "fill": {
              "color": "#EBF0F8"
             },
             "line": {
              "color": "white"
             }
            },
            "header": {
             "fill": {
              "color": "#C8D4E3"
             },
             "line": {
              "color": "white"
             }
            },
            "type": "table"
           }
          ]
         },
         "layout": {
          "annotationdefaults": {
           "arrowcolor": "#2a3f5f",
           "arrowhead": 0,
           "arrowwidth": 1
          },
          "autotypenumbers": "strict",
          "coloraxis": {
           "colorbar": {
            "outlinewidth": 0,
            "ticks": ""
           }
          },
          "colorscale": {
           "diverging": [
            [
             0,
             "#8e0152"
            ],
            [
             0.1,
             "#c51b7d"
            ],
            [
             0.2,
             "#de77ae"
            ],
            [
             0.3,
             "#f1b6da"
            ],
            [
             0.4,
             "#fde0ef"
            ],
            [
             0.5,
             "#f7f7f7"
            ],
            [
             0.6,
             "#e6f5d0"
            ],
            [
             0.7,
             "#b8e186"
            ],
            [
             0.8,
             "#7fbc41"
            ],
            [
             0.9,
             "#4d9221"
            ],
            [
             1,
             "#276419"
            ]
           ],
           "sequential": [
            [
             0,
             "#0d0887"
            ],
            [
             0.1111111111111111,
             "#46039f"
            ],
            [
             0.2222222222222222,
             "#7201a8"
            ],
            [
             0.3333333333333333,
             "#9c179e"
            ],
            [
             0.4444444444444444,
             "#bd3786"
            ],
            [
             0.5555555555555556,
             "#d8576b"
            ],
            [
             0.6666666666666666,
             "#ed7953"
            ],
            [
             0.7777777777777778,
             "#fb9f3a"
            ],
            [
             0.8888888888888888,
             "#fdca26"
            ],
            [
             1,
             "#f0f921"
            ]
           ],
           "sequentialminus": [
            [
             0,
             "#0d0887"
            ],
            [
             0.1111111111111111,
             "#46039f"
            ],
            [
             0.2222222222222222,
             "#7201a8"
            ],
            [
             0.3333333333333333,
             "#9c179e"
            ],
            [
             0.4444444444444444,
             "#bd3786"
            ],
            [
             0.5555555555555556,
             "#d8576b"
            ],
            [
             0.6666666666666666,
             "#ed7953"
            ],
            [
             0.7777777777777778,
             "#fb9f3a"
            ],
            [
             0.8888888888888888,
             "#fdca26"
            ],
            [
             1,
             "#f0f921"
            ]
           ]
          },
          "colorway": [
           "#636efa",
           "#EF553B",
           "#00cc96",
           "#ab63fa",
           "#FFA15A",
           "#19d3f3",
           "#FF6692",
           "#B6E880",
           "#FF97FF",
           "#FECB52"
          ],
          "font": {
           "color": "#2a3f5f"
          },
          "geo": {
           "bgcolor": "white",
           "lakecolor": "white",
           "landcolor": "#E5ECF6",
           "showlakes": true,
           "showland": true,
           "subunitcolor": "white"
          },
          "hoverlabel": {
           "align": "left"
          },
          "hovermode": "closest",
          "mapbox": {
           "style": "light"
          },
          "paper_bgcolor": "white",
          "plot_bgcolor": "#E5ECF6",
          "polar": {
           "angularaxis": {
            "gridcolor": "white",
            "linecolor": "white",
            "ticks": ""
           },
           "bgcolor": "#E5ECF6",
           "radialaxis": {
            "gridcolor": "white",
            "linecolor": "white",
            "ticks": ""
           }
          },
          "scene": {
           "xaxis": {
            "backgroundcolor": "#E5ECF6",
            "gridcolor": "white",
            "gridwidth": 2,
            "linecolor": "white",
            "showbackground": true,
            "ticks": "",
            "zerolinecolor": "white"
           },
           "yaxis": {
            "backgroundcolor": "#E5ECF6",
            "gridcolor": "white",
            "gridwidth": 2,
            "linecolor": "white",
            "showbackground": true,
            "ticks": "",
            "zerolinecolor": "white"
           },
           "zaxis": {
            "backgroundcolor": "#E5ECF6",
            "gridcolor": "white",
            "gridwidth": 2,
            "linecolor": "white",
            "showbackground": true,
            "ticks": "",
            "zerolinecolor": "white"
           }
          },
          "shapedefaults": {
           "line": {
            "color": "#2a3f5f"
           }
          },
          "ternary": {
           "aaxis": {
            "gridcolor": "white",
            "linecolor": "white",
            "ticks": ""
           },
           "baxis": {
            "gridcolor": "white",
            "linecolor": "white",
            "ticks": ""
           },
           "bgcolor": "#E5ECF6",
           "caxis": {
            "gridcolor": "white",
            "linecolor": "white",
            "ticks": ""
           }
          },
          "title": {
           "x": 0.05
          },
          "xaxis": {
           "automargin": true,
           "gridcolor": "white",
           "linecolor": "white",
           "ticks": "",
           "title": {
            "standoff": 15
           },
           "zerolinecolor": "white",
           "zerolinewidth": 2
          },
          "yaxis": {
           "automargin": true,
           "gridcolor": "white",
           "linecolor": "white",
           "ticks": "",
           "title": {
            "standoff": 15
           },
           "zerolinecolor": "white",
           "zerolinewidth": 2
          }
         }
        }
       }
      }
     },
     "metadata": {},
     "output_type": "display_data"
    }
   ],
   "source": [
    "fig = px.parallel_coordinates(rules_pruned_support, dimensions=[\"antecedent support\", \"consequent support\", \"support\", \"confidence\", \"lift\"],\n",
    "                            color=\"lift\", color_continuous_scale=px.colors.sequential.Bluyl,\n",
    "                            title='',\n",
    ")\n",
    "fig.show()"
   ]
  },
  {
   "cell_type": "code",
   "execution_count": 17,
   "metadata": {},
   "outputs": [
    {
     "name": "stderr",
     "output_type": "stream",
     "text": [
      "c:\\Users\\alexi\\anaconda3\\lib\\site-packages\\plotly\\io\\_renderers.py:396: DeprecationWarning:\n",
      "\n",
      "distutils Version classes are deprecated. Use packaging.version instead.\n",
      "\n",
      "c:\\Users\\alexi\\anaconda3\\lib\\site-packages\\plotly\\io\\_renderers.py:396: DeprecationWarning:\n",
      "\n",
      "distutils Version classes are deprecated. Use packaging.version instead.\n",
      "\n"
     ]
    },
    {
     "data": {
      "application/vnd.plotly.v1+json": {
       "config": {
        "plotlyServerURL": "https://plot.ly"
       },
       "data": [
        {
         "hoverinfo": "none",
         "line": {
          "color": "#888",
          "width": 0.5
         },
         "mode": "lines",
         "type": "scatter",
         "x": [
          0.5077343124486553,
          0.10996178277884942,
          null,
          0.10996178277884942,
          0.5077343124486553,
          null,
          0.10996178277884942,
          -0.39445338754862014,
          null,
          0.10996178277884942,
          0.5670646165197719,
          null,
          0.10996178277884942,
          -0.5921460874068637,
          null,
          0.10996178277884942,
          0.3077473631453239,
          null,
          0.10996178277884942,
          -0.27032502054283436,
          null,
          0.10996178277884942,
          0.013435481451119379,
          null,
          -0.39445338754862014,
          0.10996178277884942,
          null,
          -0.39445338754862014,
          -0.5921460874068637,
          null,
          -0.5921460874068637,
          -0.39445338754862014,
          null,
          -0.5921460874068637,
          0.10996178277884942,
          null,
          -0.5921460874068637,
          -0.22412667451976565,
          null,
          -0.5921460874068637,
          -0.023566866743338664,
          null,
          -0.5921460874068637,
          0.3077473631453239,
          null,
          -0.5921460874068637,
          -0.27032502054283436,
          null,
          -0.5921460874068637,
          0.013435481451119379,
          null,
          0.5670646165197719,
          0.10996178277884942,
          null,
          0.5670646165197719,
          0.013435481451119379,
          null,
          0.013435481451119379,
          0.5670646165197719,
          null,
          0.013435481451119379,
          0.10996178277884942,
          null,
          0.013435481451119379,
          -0.5921460874068637,
          null,
          0.3077473631453239,
          0.10996178277884942,
          null,
          0.3077473631453239,
          -0.22412667451976565,
          null,
          0.3077473631453239,
          -0.5921460874068637,
          null,
          0.3077473631453239,
          -0.023566866743338664,
          null,
          0.3077473631453239,
          -0.27032502054283436,
          null,
          -0.27032502054283436,
          0.10996178277884942,
          null,
          -0.27032502054283436,
          -0.22412667451976565,
          null,
          -0.27032502054283436,
          -0.5921460874068637,
          null,
          -0.27032502054283436,
          -0.023566866743338664,
          null,
          -0.27032502054283436,
          0.26435883088190315,
          null,
          -0.27032502054283436,
          0.3077473631453239,
          null,
          -0.27032502054283436,
          -0.265684350464201,
          null,
          -0.22412667451976565,
          -0.5921460874068637,
          null,
          -0.22412667451976565,
          -0.023566866743338664,
          null,
          -0.22412667451976565,
          0.26435883088190315,
          null,
          -0.22412667451976565,
          0.3077473631453239,
          null,
          -0.22412667451976565,
          -0.27032502054283436,
          null,
          -0.023566866743338664,
          -0.22412667451976565,
          null,
          -0.023566866743338664,
          -0.5921460874068637,
          null,
          -0.023566866743338664,
          0.26435883088190315,
          null,
          -0.023566866743338664,
          0.3077473631453239,
          null,
          -0.023566866743338664,
          -0.27032502054283436,
          null,
          0.26435883088190315,
          -0.22412667451976565,
          null,
          0.26435883088190315,
          -0.023566866743338664,
          null,
          0.26435883088190315,
          -0.27032502054283436,
          null,
          -0.265684350464201,
          -0.27032502054283436,
          null
         ],
         "y": [
          0.49792192913541,
          0.33173744808681116,
          null,
          0.33173744808681116,
          0.49792192913541,
          null,
          0.33173744808681116,
          0.8600266879859123,
          null,
          0.33173744808681116,
          1,
          null,
          0.33173744808681116,
          0.016402584077233558,
          null,
          0.33173744808681116,
          -0.27559274750774665,
          null,
          0.33173744808681116,
          -0.9423624851215621,
          null,
          0.33173744808681116,
          0.6906177907106421,
          null,
          0.8600266879859123,
          0.33173744808681116,
          null,
          0.8600266879859123,
          0.016402584077233558,
          null,
          0.016402584077233558,
          0.8600266879859123,
          null,
          0.016402584077233558,
          0.33173744808681116,
          null,
          0.016402584077233558,
          -0.19630538763598415,
          null,
          0.016402584077233558,
          -0.424482971538194,
          null,
          0.016402584077233558,
          -0.27559274750774665,
          null,
          0.016402584077233558,
          -0.9423624851215621,
          null,
          0.016402584077233558,
          0.6906177907106421,
          null,
          1,
          0.33173744808681116,
          null,
          1,
          0.6906177907106421,
          null,
          0.6906177907106421,
          1,
          null,
          0.6906177907106421,
          0.33173744808681116,
          null,
          0.6906177907106421,
          0.016402584077233558,
          null,
          -0.27559274750774665,
          0.33173744808681116,
          null,
          -0.27559274750774665,
          -0.19630538763598415,
          null,
          -0.27559274750774665,
          0.016402584077233558,
          null,
          -0.27559274750774665,
          -0.424482971538194,
          null,
          -0.27559274750774665,
          -0.9423624851215621,
          null,
          -0.9423624851215621,
          0.33173744808681116,
          null,
          -0.9423624851215621,
          -0.19630538763598415,
          null,
          -0.9423624851215621,
          0.016402584077233558,
          null,
          -0.9423624851215621,
          -0.424482971538194,
          null,
          -0.9423624851215621,
          -0.755621833834698,
          null,
          -0.9423624851215621,
          -0.27559274750774665,
          null,
          -0.9423624851215621,
          -0.8023410143578241,
          null,
          -0.19630538763598415,
          0.016402584077233558,
          null,
          -0.19630538763598415,
          -0.424482971538194,
          null,
          -0.19630538763598415,
          -0.755621833834698,
          null,
          -0.19630538763598415,
          -0.27559274750774665,
          null,
          -0.19630538763598415,
          -0.9423624851215621,
          null,
          -0.424482971538194,
          -0.19630538763598415,
          null,
          -0.424482971538194,
          0.016402584077233558,
          null,
          -0.424482971538194,
          -0.755621833834698,
          null,
          -0.424482971538194,
          -0.27559274750774665,
          null,
          -0.424482971538194,
          -0.9423624851215621,
          null,
          -0.755621833834698,
          -0.19630538763598415,
          null,
          -0.755621833834698,
          -0.424482971538194,
          null,
          -0.755621833834698,
          -0.9423624851215621,
          null,
          -0.8023410143578241,
          -0.9423624851215621,
          null
         ]
        },
        {
         "hoverinfo": "text",
         "marker": {
          "color": [
           3.278905737406138,
           1.6589802138250946,
           0.15834384940198512,
           0.3368554180049116,
           2.106670732798971,
           0.3368554180049116,
           0.12310334266049937,
           2.4701603205073956,
           0.11712344287108196,
           0.08382422094261825,
           0.1333334268732777,
           2.4701603205073956
          ],
          "colorbar": {
           "thickness": 15,
           "title": {
            "side": "right",
            "text": "Lift"
           },
           "xanchor": "left"
          },
          "colorscale": [
           [
            0,
            "red"
           ],
           [
            1,
            "blue"
           ]
          ],
          "line": {
           "width": 2
          },
          "reversescale": true,
          "showscale": true,
          "size": [
           13.956417164741465,
           27.665087279221247,
           9.827299660380085,
           12.635099563345824,
           10.653123161252362,
           12.635099563345824,
           14.534493615352059,
           18.91135816997512,
           43.43831614588172,
           10.075046710641768,
           8.505982058984443,
           18.91135816997512
          ]
         },
         "mode": "markers",
         "text": [
          "I<br>Support: 0.0017<br> Lift: 3.2789",
          "IV<br>Support: 0.0035<br> Lift: 1.6590",
          "II<br>Support: 0.0012<br> Lift: 0.1583",
          "V<br>Support: 0.0016<br> Lift: 0.3369",
          "III<br>Support: 0.0013<br> Lift: 2.1067",
          "XII<br>Support: 0.0016<br> Lift: 0.3369",
          "VIII<br>Support: 0.0018<br> Lift: 0.1231",
          "X<br>Support: 0.0024<br> Lift: 2.4702",
          "IX<br>Support: 0.0054<br> Lift: 0.1171",
          "VI<br>Support: 0.0013<br> Lift: 0.0838",
          "VII<br>Support: 0.0011<br> Lift: 0.1333",
          "pharmacie<br>Support: 0.0024<br> Lift: 2.4702"
         ],
         "type": "scatter",
         "x": [
          0.5077343124486553,
          0.10996178277884942,
          -0.39445338754862014,
          -0.5921460874068637,
          0.5670646165197719,
          0.013435481451119379,
          0.3077473631453239,
          -0.27032502054283436,
          -0.22412667451976565,
          -0.023566866743338664,
          0.26435883088190315,
          -0.265684350464201
         ],
         "y": [
          0.49792192913541,
          0.33173744808681116,
          0.8600266879859123,
          0.016402584077233558,
          1,
          0.6906177907106421,
          -0.27559274750774665,
          -0.9423624851215621,
          -0.19630538763598415,
          -0.424482971538194,
          -0.755621833834698,
          -0.8023410143578241
         ]
        }
       ],
       "layout": {
        "annotations": [
         {
          "showarrow": false,
          "text": "Market Basket Analysis Retail Data",
          "x": 0.005,
          "xref": "paper",
          "y": -0.002,
          "yref": "paper"
         }
        ],
        "coloraxis": {
         "colorbar": {
          "thickness": 15,
          "title": {
           "side": "right",
           "text": "Lift"
          },
          "xanchor": "left"
         }
        },
        "hovermode": "closest",
        "margin": {
         "b": 20,
         "l": 5,
         "r": 5,
         "t": 40
        },
        "plot_bgcolor": "white",
        "showlegend": false,
        "template": {
         "data": {
          "bar": [
           {
            "error_x": {
             "color": "#2a3f5f"
            },
            "error_y": {
             "color": "#2a3f5f"
            },
            "marker": {
             "line": {
              "color": "#E5ECF6",
              "width": 0.5
             },
             "pattern": {
              "fillmode": "overlay",
              "size": 10,
              "solidity": 0.2
             }
            },
            "type": "bar"
           }
          ],
          "barpolar": [
           {
            "marker": {
             "line": {
              "color": "#E5ECF6",
              "width": 0.5
             },
             "pattern": {
              "fillmode": "overlay",
              "size": 10,
              "solidity": 0.2
             }
            },
            "type": "barpolar"
           }
          ],
          "carpet": [
           {
            "aaxis": {
             "endlinecolor": "#2a3f5f",
             "gridcolor": "white",
             "linecolor": "white",
             "minorgridcolor": "white",
             "startlinecolor": "#2a3f5f"
            },
            "baxis": {
             "endlinecolor": "#2a3f5f",
             "gridcolor": "white",
             "linecolor": "white",
             "minorgridcolor": "white",
             "startlinecolor": "#2a3f5f"
            },
            "type": "carpet"
           }
          ],
          "choropleth": [
           {
            "colorbar": {
             "outlinewidth": 0,
             "ticks": ""
            },
            "type": "choropleth"
           }
          ],
          "contour": [
           {
            "colorbar": {
             "outlinewidth": 0,
             "ticks": ""
            },
            "colorscale": [
             [
              0,
              "#0d0887"
             ],
             [
              0.1111111111111111,
              "#46039f"
             ],
             [
              0.2222222222222222,
              "#7201a8"
             ],
             [
              0.3333333333333333,
              "#9c179e"
             ],
             [
              0.4444444444444444,
              "#bd3786"
             ],
             [
              0.5555555555555556,
              "#d8576b"
             ],
             [
              0.6666666666666666,
              "#ed7953"
             ],
             [
              0.7777777777777778,
              "#fb9f3a"
             ],
             [
              0.8888888888888888,
              "#fdca26"
             ],
             [
              1,
              "#f0f921"
             ]
            ],
            "type": "contour"
           }
          ],
          "contourcarpet": [
           {
            "colorbar": {
             "outlinewidth": 0,
             "ticks": ""
            },
            "type": "contourcarpet"
           }
          ],
          "heatmap": [
           {
            "colorbar": {
             "outlinewidth": 0,
             "ticks": ""
            },
            "colorscale": [
             [
              0,
              "#0d0887"
             ],
             [
              0.1111111111111111,
              "#46039f"
             ],
             [
              0.2222222222222222,
              "#7201a8"
             ],
             [
              0.3333333333333333,
              "#9c179e"
             ],
             [
              0.4444444444444444,
              "#bd3786"
             ],
             [
              0.5555555555555556,
              "#d8576b"
             ],
             [
              0.6666666666666666,
              "#ed7953"
             ],
             [
              0.7777777777777778,
              "#fb9f3a"
             ],
             [
              0.8888888888888888,
              "#fdca26"
             ],
             [
              1,
              "#f0f921"
             ]
            ],
            "type": "heatmap"
           }
          ],
          "heatmapgl": [
           {
            "colorbar": {
             "outlinewidth": 0,
             "ticks": ""
            },
            "colorscale": [
             [
              0,
              "#0d0887"
             ],
             [
              0.1111111111111111,
              "#46039f"
             ],
             [
              0.2222222222222222,
              "#7201a8"
             ],
             [
              0.3333333333333333,
              "#9c179e"
             ],
             [
              0.4444444444444444,
              "#bd3786"
             ],
             [
              0.5555555555555556,
              "#d8576b"
             ],
             [
              0.6666666666666666,
              "#ed7953"
             ],
             [
              0.7777777777777778,
              "#fb9f3a"
             ],
             [
              0.8888888888888888,
              "#fdca26"
             ],
             [
              1,
              "#f0f921"
             ]
            ],
            "type": "heatmapgl"
           }
          ],
          "histogram": [
           {
            "marker": {
             "pattern": {
              "fillmode": "overlay",
              "size": 10,
              "solidity": 0.2
             }
            },
            "type": "histogram"
           }
          ],
          "histogram2d": [
           {
            "colorbar": {
             "outlinewidth": 0,
             "ticks": ""
            },
            "colorscale": [
             [
              0,
              "#0d0887"
             ],
             [
              0.1111111111111111,
              "#46039f"
             ],
             [
              0.2222222222222222,
              "#7201a8"
             ],
             [
              0.3333333333333333,
              "#9c179e"
             ],
             [
              0.4444444444444444,
              "#bd3786"
             ],
             [
              0.5555555555555556,
              "#d8576b"
             ],
             [
              0.6666666666666666,
              "#ed7953"
             ],
             [
              0.7777777777777778,
              "#fb9f3a"
             ],
             [
              0.8888888888888888,
              "#fdca26"
             ],
             [
              1,
              "#f0f921"
             ]
            ],
            "type": "histogram2d"
           }
          ],
          "histogram2dcontour": [
           {
            "colorbar": {
             "outlinewidth": 0,
             "ticks": ""
            },
            "colorscale": [
             [
              0,
              "#0d0887"
             ],
             [
              0.1111111111111111,
              "#46039f"
             ],
             [
              0.2222222222222222,
              "#7201a8"
             ],
             [
              0.3333333333333333,
              "#9c179e"
             ],
             [
              0.4444444444444444,
              "#bd3786"
             ],
             [
              0.5555555555555556,
              "#d8576b"
             ],
             [
              0.6666666666666666,
              "#ed7953"
             ],
             [
              0.7777777777777778,
              "#fb9f3a"
             ],
             [
              0.8888888888888888,
              "#fdca26"
             ],
             [
              1,
              "#f0f921"
             ]
            ],
            "type": "histogram2dcontour"
           }
          ],
          "mesh3d": [
           {
            "colorbar": {
             "outlinewidth": 0,
             "ticks": ""
            },
            "type": "mesh3d"
           }
          ],
          "parcoords": [
           {
            "line": {
             "colorbar": {
              "outlinewidth": 0,
              "ticks": ""
             }
            },
            "type": "parcoords"
           }
          ],
          "pie": [
           {
            "automargin": true,
            "type": "pie"
           }
          ],
          "scatter": [
           {
            "marker": {
             "colorbar": {
              "outlinewidth": 0,
              "ticks": ""
             }
            },
            "type": "scatter"
           }
          ],
          "scatter3d": [
           {
            "line": {
             "colorbar": {
              "outlinewidth": 0,
              "ticks": ""
             }
            },
            "marker": {
             "colorbar": {
              "outlinewidth": 0,
              "ticks": ""
             }
            },
            "type": "scatter3d"
           }
          ],
          "scattercarpet": [
           {
            "marker": {
             "colorbar": {
              "outlinewidth": 0,
              "ticks": ""
             }
            },
            "type": "scattercarpet"
           }
          ],
          "scattergeo": [
           {
            "marker": {
             "colorbar": {
              "outlinewidth": 0,
              "ticks": ""
             }
            },
            "type": "scattergeo"
           }
          ],
          "scattergl": [
           {
            "marker": {
             "colorbar": {
              "outlinewidth": 0,
              "ticks": ""
             }
            },
            "type": "scattergl"
           }
          ],
          "scattermapbox": [
           {
            "marker": {
             "colorbar": {
              "outlinewidth": 0,
              "ticks": ""
             }
            },
            "type": "scattermapbox"
           }
          ],
          "scatterpolar": [
           {
            "marker": {
             "colorbar": {
              "outlinewidth": 0,
              "ticks": ""
             }
            },
            "type": "scatterpolar"
           }
          ],
          "scatterpolargl": [
           {
            "marker": {
             "colorbar": {
              "outlinewidth": 0,
              "ticks": ""
             }
            },
            "type": "scatterpolargl"
           }
          ],
          "scatterternary": [
           {
            "marker": {
             "colorbar": {
              "outlinewidth": 0,
              "ticks": ""
             }
            },
            "type": "scatterternary"
           }
          ],
          "surface": [
           {
            "colorbar": {
             "outlinewidth": 0,
             "ticks": ""
            },
            "colorscale": [
             [
              0,
              "#0d0887"
             ],
             [
              0.1111111111111111,
              "#46039f"
             ],
             [
              0.2222222222222222,
              "#7201a8"
             ],
             [
              0.3333333333333333,
              "#9c179e"
             ],
             [
              0.4444444444444444,
              "#bd3786"
             ],
             [
              0.5555555555555556,
              "#d8576b"
             ],
             [
              0.6666666666666666,
              "#ed7953"
             ],
             [
              0.7777777777777778,
              "#fb9f3a"
             ],
             [
              0.8888888888888888,
              "#fdca26"
             ],
             [
              1,
              "#f0f921"
             ]
            ],
            "type": "surface"
           }
          ],
          "table": [
           {
            "cells": {
             "fill": {
              "color": "#EBF0F8"
             },
             "line": {
              "color": "white"
             }
            },
            "header": {
             "fill": {
              "color": "#C8D4E3"
             },
             "line": {
              "color": "white"
             }
            },
            "type": "table"
           }
          ]
         },
         "layout": {
          "annotationdefaults": {
           "arrowcolor": "#2a3f5f",
           "arrowhead": 0,
           "arrowwidth": 1
          },
          "autotypenumbers": "strict",
          "coloraxis": {
           "colorbar": {
            "outlinewidth": 0,
            "ticks": ""
           }
          },
          "colorscale": {
           "diverging": [
            [
             0,
             "#8e0152"
            ],
            [
             0.1,
             "#c51b7d"
            ],
            [
             0.2,
             "#de77ae"
            ],
            [
             0.3,
             "#f1b6da"
            ],
            [
             0.4,
             "#fde0ef"
            ],
            [
             0.5,
             "#f7f7f7"
            ],
            [
             0.6,
             "#e6f5d0"
            ],
            [
             0.7,
             "#b8e186"
            ],
            [
             0.8,
             "#7fbc41"
            ],
            [
             0.9,
             "#4d9221"
            ],
            [
             1,
             "#276419"
            ]
           ],
           "sequential": [
            [
             0,
             "#0d0887"
            ],
            [
             0.1111111111111111,
             "#46039f"
            ],
            [
             0.2222222222222222,
             "#7201a8"
            ],
            [
             0.3333333333333333,
             "#9c179e"
            ],
            [
             0.4444444444444444,
             "#bd3786"
            ],
            [
             0.5555555555555556,
             "#d8576b"
            ],
            [
             0.6666666666666666,
             "#ed7953"
            ],
            [
             0.7777777777777778,
             "#fb9f3a"
            ],
            [
             0.8888888888888888,
             "#fdca26"
            ],
            [
             1,
             "#f0f921"
            ]
           ],
           "sequentialminus": [
            [
             0,
             "#0d0887"
            ],
            [
             0.1111111111111111,
             "#46039f"
            ],
            [
             0.2222222222222222,
             "#7201a8"
            ],
            [
             0.3333333333333333,
             "#9c179e"
            ],
            [
             0.4444444444444444,
             "#bd3786"
            ],
            [
             0.5555555555555556,
             "#d8576b"
            ],
            [
             0.6666666666666666,
             "#ed7953"
            ],
            [
             0.7777777777777778,
             "#fb9f3a"
            ],
            [
             0.8888888888888888,
             "#fdca26"
            ],
            [
             1,
             "#f0f921"
            ]
           ]
          },
          "colorway": [
           "#636efa",
           "#EF553B",
           "#00cc96",
           "#ab63fa",
           "#FFA15A",
           "#19d3f3",
           "#FF6692",
           "#B6E880",
           "#FF97FF",
           "#FECB52"
          ],
          "font": {
           "color": "#2a3f5f"
          },
          "geo": {
           "bgcolor": "white",
           "lakecolor": "white",
           "landcolor": "#E5ECF6",
           "showlakes": true,
           "showland": true,
           "subunitcolor": "white"
          },
          "hoverlabel": {
           "align": "left"
          },
          "hovermode": "closest",
          "mapbox": {
           "style": "light"
          },
          "paper_bgcolor": "white",
          "plot_bgcolor": "#E5ECF6",
          "polar": {
           "angularaxis": {
            "gridcolor": "white",
            "linecolor": "white",
            "ticks": ""
           },
           "bgcolor": "#E5ECF6",
           "radialaxis": {
            "gridcolor": "white",
            "linecolor": "white",
            "ticks": ""
           }
          },
          "scene": {
           "xaxis": {
            "backgroundcolor": "#E5ECF6",
            "gridcolor": "white",
            "gridwidth": 2,
            "linecolor": "white",
            "showbackground": true,
            "ticks": "",
            "zerolinecolor": "white"
           },
           "yaxis": {
            "backgroundcolor": "#E5ECF6",
            "gridcolor": "white",
            "gridwidth": 2,
            "linecolor": "white",
            "showbackground": true,
            "ticks": "",
            "zerolinecolor": "white"
           },
           "zaxis": {
            "backgroundcolor": "#E5ECF6",
            "gridcolor": "white",
            "gridwidth": 2,
            "linecolor": "white",
            "showbackground": true,
            "ticks": "",
            "zerolinecolor": "white"
           }
          },
          "shapedefaults": {
           "line": {
            "color": "#2a3f5f"
           }
          },
          "ternary": {
           "aaxis": {
            "gridcolor": "white",
            "linecolor": "white",
            "ticks": ""
           },
           "baxis": {
            "gridcolor": "white",
            "linecolor": "white",
            "ticks": ""
           },
           "bgcolor": "#E5ECF6",
           "caxis": {
            "gridcolor": "white",
            "linecolor": "white",
            "ticks": ""
           }
          },
          "title": {
           "x": 0.05
          },
          "xaxis": {
           "automargin": true,
           "gridcolor": "white",
           "linecolor": "white",
           "ticks": "",
           "title": {
            "standoff": 15
           },
           "zerolinecolor": "white",
           "zerolinewidth": 2
          },
          "yaxis": {
           "automargin": true,
           "gridcolor": "white",
           "linecolor": "white",
           "ticks": "",
           "title": {
            "standoff": 15
           },
           "zerolinecolor": "white",
           "zerolinewidth": 2
          }
         }
        },
        "title": {
         "font": {
          "size": 16
         },
         "text": "<br>Association Rules Graph"
        },
        "xaxis": {
         "showgrid": false,
         "showticklabels": false,
         "zeroline": false
        },
        "yaxis": {
         "showgrid": false,
         "showticklabels": false,
         "zeroline": false
        }
       }
      }
     },
     "metadata": {},
     "output_type": "display_data"
    }
   ],
   "source": [
    "# Create directed graph\n",
    "G = nx.DiGraph()\n",
    "for i, row in rules.iterrows():\n",
    "    G.add_edge(row['antecedents'], row['consequents'], weight=row['confidence'])\n",
    "    nx.set_node_attributes(G, {row['antecedents']: {'lift': row['lift']}})\n",
    "    nx.set_node_attributes(G, {row['consequents']: {'lift': row['lift']}})\n",
    "    nx.set_node_attributes(G, {row['antecedents']: {'support': row['support']}})\n",
    "    nx.set_node_attributes(G, {row['consequents']: {'support': row['support']}})\n",
    "# Create plotly figure\n",
    "edge_trace = go.Scatter(\n",
    "    x=[],\n",
    "    y=[],\n",
    "    line=dict(width=0.5,color='#888'),\n",
    "    hoverinfo='none',\n",
    "    mode='lines')\n",
    "\n",
    "node_trace = go.Scatter(\n",
    "    x=[],\n",
    "    y=[],\n",
    "    text=[],\n",
    "    mode='markers',\n",
    "    hoverinfo='text',\n",
    "    marker=dict(\n",
    "        showscale=True,\n",
    "        colorscale=[[0, 'red'], [1, 'blue']],\n",
    "        reversescale=True,\n",
    "        color=[],\n",
    "        size=[],\n",
    "        colorbar=dict(\n",
    "            thickness=15,\n",
    "            title='Lift',\n",
    "            xanchor='left',\n",
    "            titleside='right'\n",
    "        ),\n",
    "        line_width=2))\n",
    "pos = nx.spring_layout(G, k=0.15, seed=42) # replace with your preferred layout\n",
    "nx.set_node_attributes(G, pos, 'pos')\n",
    "\n",
    "for node in G.nodes():\n",
    "    x, y = G.nodes[node]['pos']\n",
    "    node_trace['x'] += tuple([x])\n",
    "    node_trace['y'] += tuple([y])\n",
    "    text = next(iter(node)) if isinstance(node, frozenset) else node\n",
    "    text = f\"{text}<br>Support: {G.nodes[node]['support']:.4f}<br> Lift: {G.nodes[node]['lift']:.4f}\"\n",
    "    node_trace['text'] += tuple([text])\n",
    "    node_trace['marker']['color'] += tuple([G.nodes[node]['lift']])\n",
    "    node_trace['marker']['size'] += tuple([8000*G.nodes[node]['support']])\n",
    "\n",
    "for edge in G.edges():\n",
    "    x0, y0 = G.nodes[edge[0]]['pos']\n",
    "    x1, y1 = G.nodes[edge[1]]['pos']\n",
    "    edge_trace['x'] += tuple([x0, x1, None])\n",
    "    edge_trace['y'] += tuple([y0, y1, None])\n",
    "\n",
    "fig = go.Figure(data=[edge_trace, node_trace],\n",
    "             layout=go.Layout(\n",
    "                title='<br>Association Rules Graph',\n",
    "                titlefont_size=16,\n",
    "                showlegend=False,\n",
    "                hovermode='closest',\n",
    "                margin=dict(b=20,l=5,r=5,t=40),\n",
    "                annotations=[ dict(\n",
    "                    text=\"Market Basket Analysis Retail Data\",\n",
    "                    showarrow=False,\n",
    "                    xref=\"paper\", yref=\"paper\",\n",
    "                    x=0.005, y=-0.002 ) ],\n",
    "                xaxis=dict(showgrid=False, zeroline=False, showticklabels=False),\n",
    "                yaxis=dict(showgrid=False, zeroline=False, showticklabels=False)))\n",
    "\n",
    "fig.update_layout(\n",
    "    coloraxis=dict(\n",
    "        colorbar=dict(\n",
    "            title=\"Lift\",\n",
    "            thickness=15,\n",
    "            xanchor=\"left\",\n",
    "            titleside=\"right\"\n",
    "        )\n",
    "    ),\n",
    "    plot_bgcolor='white'\n",
    ")\n",
    "\n",
    "fig.show()"
   ]
  },
  {
   "cell_type": "code",
   "execution_count": 18,
   "metadata": {},
   "outputs": [
    {
     "name": "stderr",
     "output_type": "stream",
     "text": [
      "c:\\Users\\alexi\\anaconda3\\lib\\site-packages\\plotly\\io\\_renderers.py:396: DeprecationWarning:\n",
      "\n",
      "distutils Version classes are deprecated. Use packaging.version instead.\n",
      "\n",
      "c:\\Users\\alexi\\anaconda3\\lib\\site-packages\\plotly\\io\\_renderers.py:396: DeprecationWarning:\n",
      "\n",
      "distutils Version classes are deprecated. Use packaging.version instead.\n",
      "\n"
     ]
    },
    {
     "data": {
      "application/vnd.plotly.v1+json": {
       "config": {
        "plotlyServerURL": "https://plot.ly"
       },
       "data": [
        {
         "hoverinfo": "none",
         "line": {
          "color": "#888",
          "width": 0.5
         },
         "mode": "lines",
         "type": "scatter",
         "x": [
          0.8262097620832265,
          1,
          null,
          1,
          0.8262097620832265,
          null,
          1,
          0.7828492735919401,
          null,
          1,
          0.7888920313180123,
          null,
          0.7828492735919401,
          1,
          null,
          0.7888920313180123,
          1,
          null,
          -0.27212984812893304,
          -0.5099917342906094,
          null,
          -0.27212984812893304,
          -0.44337047097526644,
          null,
          -0.5099917342906094,
          -0.27212984812893304,
          null,
          -0.5099917342906094,
          -0.33324433238765067,
          null,
          -0.5099917342906094,
          -0.6628559522309062,
          null,
          -0.5099917342906094,
          -0.7614282183279829,
          null,
          -0.5099917342906094,
          -0.44337047097526644,
          null,
          -0.33324433238765067,
          -0.5099917342906094,
          null,
          -0.6628559522309062,
          -0.5099917342906094,
          null,
          -0.7614282183279829,
          -0.5099917342906094,
          null,
          -0.44337047097526644,
          -0.5099917342906094,
          null,
          -0.44337047097526644,
          -0.27212984812893304,
          null,
          -0.44337047097526644,
          -0.41493051065183106,
          null,
          -0.41493051065183106,
          -0.44337047097526644,
          null
         ],
         "y": [
          -0.2840015792575712,
          -0.5310718765913176,
          null,
          -0.5310718765913176,
          -0.2840015792575712,
          null,
          -0.5310718765913176,
          -0.6983891798851177,
          null,
          -0.5310718765913176,
          -0.49609323753855755,
          null,
          -0.6983891798851177,
          -0.5310718765913176,
          null,
          -0.49609323753855755,
          -0.5310718765913176,
          null,
          0.5003626286543214,
          0.46889921014543856,
          null,
          0.5003626286543214,
          0.22361094388125252,
          null,
          0.46889921014543856,
          0.5003626286543214,
          null,
          0.46889921014543856,
          0.2874141309137851,
          null,
          0.46889921014543856,
          0.2064067344445828,
          null,
          0.46889921014543856,
          0.3086920458071182,
          null,
          0.46889921014543856,
          0.22361094388125252,
          null,
          0.2874141309137851,
          0.46889921014543856,
          null,
          0.2064067344445828,
          0.46889921014543856,
          null,
          0.3086920458071182,
          0.46889921014543856,
          null,
          0.22361094388125252,
          0.46889921014543856,
          null,
          0.22361094388125252,
          0.5003626286543214,
          null,
          0.22361094388125252,
          0.014170179426066692,
          null,
          0.014170179426066692,
          0.22361094388125252,
          null
         ]
        },
        {
         "hoverinfo": "text",
         "marker": {
          "color": [
           0.7003487982809227,
           1.6589802138250946,
           0.9265664871854142,
           1.6589802138250946,
           0.12535545029738843,
           0.11712344287108196,
           0.5275046905018157,
           0.3008887077048512,
           0.26973135489703026,
           2.4701603205073956,
           2.4701603205073956
          ],
          "colorbar": {
           "thickness": 15,
           "title": {
            "side": "right",
            "text": "Lift"
           },
           "xanchor": "left"
          },
          "colorscale": [
           [
            0,
            "red"
           ],
           [
            1,
            "blue"
           ]
          ],
          "line": {
           "width": 2
          },
          "reversescale": true,
          "showscale": true,
          "size": [
           9.662134960205629,
           13.832543639610623,
           9.125349684638651,
           13.832543639610623,
           16.764217067707207,
           21.71915807294086,
           54.00885695704685,
           16.351305317271066,
           27.12830200365427,
           9.45567908498756,
           9.45567908498756
          ]
         },
         "mode": "markers",
         "text": [
          "II<br>Support: 0.0024<br> Lift: 0.7003",
          "IV<br>Support: 0.0035<br> Lift: 1.6590",
          "III<br>Support: 0.0023<br> Lift: 0.9266",
          "XII<br>Support: 0.0035<br> Lift: 1.6590",
          "V<br>Support: 0.0042<br> Lift: 0.1254",
          "IX<br>Support: 0.0054<br> Lift: 0.1171",
          "VI<br>Support: 0.0135<br> Lift: 0.5275",
          "VII<br>Support: 0.0041<br> Lift: 0.3009",
          "VIII<br>Support: 0.0068<br> Lift: 0.2697",
          "X<br>Support: 0.0024<br> Lift: 2.4702",
          "pharmacie<br>Support: 0.0024<br> Lift: 2.4702"
         ],
         "type": "scatter",
         "x": [
          0.8262097620832265,
          1,
          0.7828492735919401,
          0.7888920313180123,
          -0.27212984812893304,
          -0.5099917342906094,
          -0.33324433238765067,
          -0.6628559522309062,
          -0.7614282183279829,
          -0.44337047097526644,
          -0.41493051065183106
         ],
         "y": [
          -0.2840015792575712,
          -0.5310718765913176,
          -0.6983891798851177,
          -0.49609323753855755,
          0.5003626286543214,
          0.46889921014543856,
          0.2874141309137851,
          0.2064067344445828,
          0.3086920458071182,
          0.22361094388125252,
          0.014170179426066692
         ]
        }
       ],
       "layout": {
        "annotations": [
         {
          "showarrow": false,
          "text": "Market Basket Analysis Retail Data",
          "x": 0.005,
          "xref": "paper",
          "y": -0.002,
          "yref": "paper"
         }
        ],
        "coloraxis": {
         "colorbar": {
          "thickness": 15,
          "title": {
           "side": "right",
           "text": "Lift"
          },
          "xanchor": "left"
         }
        },
        "hovermode": "closest",
        "margin": {
         "b": 20,
         "l": 5,
         "r": 5,
         "t": 40
        },
        "plot_bgcolor": "white",
        "showlegend": false,
        "template": {
         "data": {
          "bar": [
           {
            "error_x": {
             "color": "#2a3f5f"
            },
            "error_y": {
             "color": "#2a3f5f"
            },
            "marker": {
             "line": {
              "color": "#E5ECF6",
              "width": 0.5
             },
             "pattern": {
              "fillmode": "overlay",
              "size": 10,
              "solidity": 0.2
             }
            },
            "type": "bar"
           }
          ],
          "barpolar": [
           {
            "marker": {
             "line": {
              "color": "#E5ECF6",
              "width": 0.5
             },
             "pattern": {
              "fillmode": "overlay",
              "size": 10,
              "solidity": 0.2
             }
            },
            "type": "barpolar"
           }
          ],
          "carpet": [
           {
            "aaxis": {
             "endlinecolor": "#2a3f5f",
             "gridcolor": "white",
             "linecolor": "white",
             "minorgridcolor": "white",
             "startlinecolor": "#2a3f5f"
            },
            "baxis": {
             "endlinecolor": "#2a3f5f",
             "gridcolor": "white",
             "linecolor": "white",
             "minorgridcolor": "white",
             "startlinecolor": "#2a3f5f"
            },
            "type": "carpet"
           }
          ],
          "choropleth": [
           {
            "colorbar": {
             "outlinewidth": 0,
             "ticks": ""
            },
            "type": "choropleth"
           }
          ],
          "contour": [
           {
            "colorbar": {
             "outlinewidth": 0,
             "ticks": ""
            },
            "colorscale": [
             [
              0,
              "#0d0887"
             ],
             [
              0.1111111111111111,
              "#46039f"
             ],
             [
              0.2222222222222222,
              "#7201a8"
             ],
             [
              0.3333333333333333,
              "#9c179e"
             ],
             [
              0.4444444444444444,
              "#bd3786"
             ],
             [
              0.5555555555555556,
              "#d8576b"
             ],
             [
              0.6666666666666666,
              "#ed7953"
             ],
             [
              0.7777777777777778,
              "#fb9f3a"
             ],
             [
              0.8888888888888888,
              "#fdca26"
             ],
             [
              1,
              "#f0f921"
             ]
            ],
            "type": "contour"
           }
          ],
          "contourcarpet": [
           {
            "colorbar": {
             "outlinewidth": 0,
             "ticks": ""
            },
            "type": "contourcarpet"
           }
          ],
          "heatmap": [
           {
            "colorbar": {
             "outlinewidth": 0,
             "ticks": ""
            },
            "colorscale": [
             [
              0,
              "#0d0887"
             ],
             [
              0.1111111111111111,
              "#46039f"
             ],
             [
              0.2222222222222222,
              "#7201a8"
             ],
             [
              0.3333333333333333,
              "#9c179e"
             ],
             [
              0.4444444444444444,
              "#bd3786"
             ],
             [
              0.5555555555555556,
              "#d8576b"
             ],
             [
              0.6666666666666666,
              "#ed7953"
             ],
             [
              0.7777777777777778,
              "#fb9f3a"
             ],
             [
              0.8888888888888888,
              "#fdca26"
             ],
             [
              1,
              "#f0f921"
             ]
            ],
            "type": "heatmap"
           }
          ],
          "heatmapgl": [
           {
            "colorbar": {
             "outlinewidth": 0,
             "ticks": ""
            },
            "colorscale": [
             [
              0,
              "#0d0887"
             ],
             [
              0.1111111111111111,
              "#46039f"
             ],
             [
              0.2222222222222222,
              "#7201a8"
             ],
             [
              0.3333333333333333,
              "#9c179e"
             ],
             [
              0.4444444444444444,
              "#bd3786"
             ],
             [
              0.5555555555555556,
              "#d8576b"
             ],
             [
              0.6666666666666666,
              "#ed7953"
             ],
             [
              0.7777777777777778,
              "#fb9f3a"
             ],
             [
              0.8888888888888888,
              "#fdca26"
             ],
             [
              1,
              "#f0f921"
             ]
            ],
            "type": "heatmapgl"
           }
          ],
          "histogram": [
           {
            "marker": {
             "pattern": {
              "fillmode": "overlay",
              "size": 10,
              "solidity": 0.2
             }
            },
            "type": "histogram"
           }
          ],
          "histogram2d": [
           {
            "colorbar": {
             "outlinewidth": 0,
             "ticks": ""
            },
            "colorscale": [
             [
              0,
              "#0d0887"
             ],
             [
              0.1111111111111111,
              "#46039f"
             ],
             [
              0.2222222222222222,
              "#7201a8"
             ],
             [
              0.3333333333333333,
              "#9c179e"
             ],
             [
              0.4444444444444444,
              "#bd3786"
             ],
             [
              0.5555555555555556,
              "#d8576b"
             ],
             [
              0.6666666666666666,
              "#ed7953"
             ],
             [
              0.7777777777777778,
              "#fb9f3a"
             ],
             [
              0.8888888888888888,
              "#fdca26"
             ],
             [
              1,
              "#f0f921"
             ]
            ],
            "type": "histogram2d"
           }
          ],
          "histogram2dcontour": [
           {
            "colorbar": {
             "outlinewidth": 0,
             "ticks": ""
            },
            "colorscale": [
             [
              0,
              "#0d0887"
             ],
             [
              0.1111111111111111,
              "#46039f"
             ],
             [
              0.2222222222222222,
              "#7201a8"
             ],
             [
              0.3333333333333333,
              "#9c179e"
             ],
             [
              0.4444444444444444,
              "#bd3786"
             ],
             [
              0.5555555555555556,
              "#d8576b"
             ],
             [
              0.6666666666666666,
              "#ed7953"
             ],
             [
              0.7777777777777778,
              "#fb9f3a"
             ],
             [
              0.8888888888888888,
              "#fdca26"
             ],
             [
              1,
              "#f0f921"
             ]
            ],
            "type": "histogram2dcontour"
           }
          ],
          "mesh3d": [
           {
            "colorbar": {
             "outlinewidth": 0,
             "ticks": ""
            },
            "type": "mesh3d"
           }
          ],
          "parcoords": [
           {
            "line": {
             "colorbar": {
              "outlinewidth": 0,
              "ticks": ""
             }
            },
            "type": "parcoords"
           }
          ],
          "pie": [
           {
            "automargin": true,
            "type": "pie"
           }
          ],
          "scatter": [
           {
            "marker": {
             "colorbar": {
              "outlinewidth": 0,
              "ticks": ""
             }
            },
            "type": "scatter"
           }
          ],
          "scatter3d": [
           {
            "line": {
             "colorbar": {
              "outlinewidth": 0,
              "ticks": ""
             }
            },
            "marker": {
             "colorbar": {
              "outlinewidth": 0,
              "ticks": ""
             }
            },
            "type": "scatter3d"
           }
          ],
          "scattercarpet": [
           {
            "marker": {
             "colorbar": {
              "outlinewidth": 0,
              "ticks": ""
             }
            },
            "type": "scattercarpet"
           }
          ],
          "scattergeo": [
           {
            "marker": {
             "colorbar": {
              "outlinewidth": 0,
              "ticks": ""
             }
            },
            "type": "scattergeo"
           }
          ],
          "scattergl": [
           {
            "marker": {
             "colorbar": {
              "outlinewidth": 0,
              "ticks": ""
             }
            },
            "type": "scattergl"
           }
          ],
          "scattermapbox": [
           {
            "marker": {
             "colorbar": {
              "outlinewidth": 0,
              "ticks": ""
             }
            },
            "type": "scattermapbox"
           }
          ],
          "scatterpolar": [
           {
            "marker": {
             "colorbar": {
              "outlinewidth": 0,
              "ticks": ""
             }
            },
            "type": "scatterpolar"
           }
          ],
          "scatterpolargl": [
           {
            "marker": {
             "colorbar": {
              "outlinewidth": 0,
              "ticks": ""
             }
            },
            "type": "scatterpolargl"
           }
          ],
          "scatterternary": [
           {
            "marker": {
             "colorbar": {
              "outlinewidth": 0,
              "ticks": ""
             }
            },
            "type": "scatterternary"
           }
          ],
          "surface": [
           {
            "colorbar": {
             "outlinewidth": 0,
             "ticks": ""
            },
            "colorscale": [
             [
              0,
              "#0d0887"
             ],
             [
              0.1111111111111111,
              "#46039f"
             ],
             [
              0.2222222222222222,
              "#7201a8"
             ],
             [
              0.3333333333333333,
              "#9c179e"
             ],
             [
              0.4444444444444444,
              "#bd3786"
             ],
             [
              0.5555555555555556,
              "#d8576b"
             ],
             [
              0.6666666666666666,
              "#ed7953"
             ],
             [
              0.7777777777777778,
              "#fb9f3a"
             ],
             [
              0.8888888888888888,
              "#fdca26"
             ],
             [
              1,
              "#f0f921"
             ]
            ],
            "type": "surface"
           }
          ],
          "table": [
           {
            "cells": {
             "fill": {
              "color": "#EBF0F8"
             },
             "line": {
              "color": "white"
             }
            },
            "header": {
             "fill": {
              "color": "#C8D4E3"
             },
             "line": {
              "color": "white"
             }
            },
            "type": "table"
           }
          ]
         },
         "layout": {
          "annotationdefaults": {
           "arrowcolor": "#2a3f5f",
           "arrowhead": 0,
           "arrowwidth": 1
          },
          "autotypenumbers": "strict",
          "coloraxis": {
           "colorbar": {
            "outlinewidth": 0,
            "ticks": ""
           }
          },
          "colorscale": {
           "diverging": [
            [
             0,
             "#8e0152"
            ],
            [
             0.1,
             "#c51b7d"
            ],
            [
             0.2,
             "#de77ae"
            ],
            [
             0.3,
             "#f1b6da"
            ],
            [
             0.4,
             "#fde0ef"
            ],
            [
             0.5,
             "#f7f7f7"
            ],
            [
             0.6,
             "#e6f5d0"
            ],
            [
             0.7,
             "#b8e186"
            ],
            [
             0.8,
             "#7fbc41"
            ],
            [
             0.9,
             "#4d9221"
            ],
            [
             1,
             "#276419"
            ]
           ],
           "sequential": [
            [
             0,
             "#0d0887"
            ],
            [
             0.1111111111111111,
             "#46039f"
            ],
            [
             0.2222222222222222,
             "#7201a8"
            ],
            [
             0.3333333333333333,
             "#9c179e"
            ],
            [
             0.4444444444444444,
             "#bd3786"
            ],
            [
             0.5555555555555556,
             "#d8576b"
            ],
            [
             0.6666666666666666,
             "#ed7953"
            ],
            [
             0.7777777777777778,
             "#fb9f3a"
            ],
            [
             0.8888888888888888,
             "#fdca26"
            ],
            [
             1,
             "#f0f921"
            ]
           ],
           "sequentialminus": [
            [
             0,
             "#0d0887"
            ],
            [
             0.1111111111111111,
             "#46039f"
            ],
            [
             0.2222222222222222,
             "#7201a8"
            ],
            [
             0.3333333333333333,
             "#9c179e"
            ],
            [
             0.4444444444444444,
             "#bd3786"
            ],
            [
             0.5555555555555556,
             "#d8576b"
            ],
            [
             0.6666666666666666,
             "#ed7953"
            ],
            [
             0.7777777777777778,
             "#fb9f3a"
            ],
            [
             0.8888888888888888,
             "#fdca26"
            ],
            [
             1,
             "#f0f921"
            ]
           ]
          },
          "colorway": [
           "#636efa",
           "#EF553B",
           "#00cc96",
           "#ab63fa",
           "#FFA15A",
           "#19d3f3",
           "#FF6692",
           "#B6E880",
           "#FF97FF",
           "#FECB52"
          ],
          "font": {
           "color": "#2a3f5f"
          },
          "geo": {
           "bgcolor": "white",
           "lakecolor": "white",
           "landcolor": "#E5ECF6",
           "showlakes": true,
           "showland": true,
           "subunitcolor": "white"
          },
          "hoverlabel": {
           "align": "left"
          },
          "hovermode": "closest",
          "mapbox": {
           "style": "light"
          },
          "paper_bgcolor": "white",
          "plot_bgcolor": "#E5ECF6",
          "polar": {
           "angularaxis": {
            "gridcolor": "white",
            "linecolor": "white",
            "ticks": ""
           },
           "bgcolor": "#E5ECF6",
           "radialaxis": {
            "gridcolor": "white",
            "linecolor": "white",
            "ticks": ""
           }
          },
          "scene": {
           "xaxis": {
            "backgroundcolor": "#E5ECF6",
            "gridcolor": "white",
            "gridwidth": 2,
            "linecolor": "white",
            "showbackground": true,
            "ticks": "",
            "zerolinecolor": "white"
           },
           "yaxis": {
            "backgroundcolor": "#E5ECF6",
            "gridcolor": "white",
            "gridwidth": 2,
            "linecolor": "white",
            "showbackground": true,
            "ticks": "",
            "zerolinecolor": "white"
           },
           "zaxis": {
            "backgroundcolor": "#E5ECF6",
            "gridcolor": "white",
            "gridwidth": 2,
            "linecolor": "white",
            "showbackground": true,
            "ticks": "",
            "zerolinecolor": "white"
           }
          },
          "shapedefaults": {
           "line": {
            "color": "#2a3f5f"
           }
          },
          "ternary": {
           "aaxis": {
            "gridcolor": "white",
            "linecolor": "white",
            "ticks": ""
           },
           "baxis": {
            "gridcolor": "white",
            "linecolor": "white",
            "ticks": ""
           },
           "bgcolor": "#E5ECF6",
           "caxis": {
            "gridcolor": "white",
            "linecolor": "white",
            "ticks": ""
           }
          },
          "title": {
           "x": 0.05
          },
          "xaxis": {
           "automargin": true,
           "gridcolor": "white",
           "linecolor": "white",
           "ticks": "",
           "title": {
            "standoff": 15
           },
           "zerolinecolor": "white",
           "zerolinewidth": 2
          },
          "yaxis": {
           "automargin": true,
           "gridcolor": "white",
           "linecolor": "white",
           "ticks": "",
           "title": {
            "standoff": 15
           },
           "zerolinecolor": "white",
           "zerolinewidth": 2
          }
         }
        },
        "title": {
         "font": {
          "size": 16
         },
         "text": "<br>Association Rules Graph"
        },
        "xaxis": {
         "showgrid": false,
         "showticklabels": false,
         "zeroline": false
        },
        "yaxis": {
         "showgrid": false,
         "showticklabels": false,
         "zeroline": false
        }
       }
      }
     },
     "metadata": {},
     "output_type": "display_data"
    }
   ],
   "source": [
    "# Create directed graph\n",
    "G = nx.DiGraph()\n",
    "for i, row in rules_pruned_support.iterrows():\n",
    "    G.add_edge(row['antecedents'], row['consequents'], weight=row['confidence'])\n",
    "    nx.set_node_attributes(G, {row['antecedents']: {'lift': row['lift']}})\n",
    "    nx.set_node_attributes(G, {row['consequents']: {'lift': row['lift']}})\n",
    "    nx.set_node_attributes(G, {row['antecedents']: {'support': row['support']}})\n",
    "    nx.set_node_attributes(G, {row['consequents']: {'support': row['support']}})\n",
    "# Create plotly figure\n",
    "edge_trace = go.Scatter(\n",
    "    x=[],\n",
    "    y=[],\n",
    "    line=dict(width=0.5,color='#888'),\n",
    "    hoverinfo='none',\n",
    "    mode='lines')\n",
    "\n",
    "node_trace = go.Scatter(\n",
    "    x=[],\n",
    "    y=[],\n",
    "    text=[],\n",
    "    mode='markers',\n",
    "    hoverinfo='text',\n",
    "    marker=dict(\n",
    "        showscale=True,\n",
    "        colorscale=[[0, 'red'], [1, 'blue']],\n",
    "        reversescale=True,\n",
    "        color=[],\n",
    "        size=[],\n",
    "        colorbar=dict(\n",
    "            thickness=15,\n",
    "            title='Lift',\n",
    "            xanchor='left',\n",
    "            titleside='right'\n",
    "        ),\n",
    "        line_width=2))\n",
    "pos = nx.spring_layout(G, k=0.15, seed=42) # replace with your preferred layout\n",
    "nx.set_node_attributes(G, pos, 'pos')\n",
    "\n",
    "for node in G.nodes():\n",
    "    x, y = G.nodes[node]['pos']\n",
    "    node_trace['x'] += tuple([x])\n",
    "    node_trace['y'] += tuple([y])\n",
    "    text = next(iter(node)) if isinstance(node, frozenset) else node\n",
    "    text = f\"{text}<br>Support: {G.nodes[node]['support']:.4f}<br> Lift: {G.nodes[node]['lift']:.4f}\"\n",
    "    node_trace['text'] += tuple([text])\n",
    "    node_trace['marker']['color'] += tuple([G.nodes[node]['lift']])\n",
    "    node_trace['marker']['size'] += tuple([4000*G.nodes[node]['support']])\n",
    "\n",
    "for edge in G.edges():\n",
    "    x0, y0 = G.nodes[edge[0]]['pos']\n",
    "    x1, y1 = G.nodes[edge[1]]['pos']\n",
    "    edge_trace['x'] += tuple([x0, x1, None])\n",
    "    edge_trace['y'] += tuple([y0, y1, None])\n",
    "\n",
    "fig = go.Figure(data=[edge_trace, node_trace],\n",
    "             layout=go.Layout(\n",
    "                title='<br>Association Rules Graph',\n",
    "                titlefont_size=16,\n",
    "                showlegend=False,\n",
    "                hovermode='closest',\n",
    "                margin=dict(b=20,l=5,r=5,t=40),\n",
    "                annotations=[ dict(\n",
    "                    text=\"Market Basket Analysis Retail Data\",\n",
    "                    showarrow=False,\n",
    "                    xref=\"paper\", yref=\"paper\",\n",
    "                    x=0.005, y=-0.002 ) ],\n",
    "                xaxis=dict(showgrid=False, zeroline=False, showticklabels=False),\n",
    "                yaxis=dict(showgrid=False, zeroline=False, showticklabels=False)))\n",
    "\n",
    "fig.update_layout(\n",
    "    coloraxis=dict(\n",
    "        colorbar=dict(\n",
    "            title=\"Lift\",\n",
    "            thickness=15,\n",
    "            xanchor=\"left\",\n",
    "            titleside=\"right\"\n",
    "        )\n",
    "    ),\n",
    "    plot_bgcolor='white'\n",
    ")\n",
    "\n",
    "fig.show()"
   ]
  },
  {
   "cell_type": "code",
   "execution_count": null,
   "metadata": {},
   "outputs": [],
   "source": []
  }
 ],
 "metadata": {
  "kernelspec": {
   "display_name": "base",
   "language": "python",
   "name": "python3"
  },
  "language_info": {
   "codemirror_mode": {
    "name": "ipython",
    "version": 3
   },
   "file_extension": ".py",
   "mimetype": "text/x-python",
   "name": "python",
   "nbconvert_exporter": "python",
   "pygments_lexer": "ipython3",
   "version": "3.9.12"
  },
  "orig_nbformat": 4,
  "vscode": {
   "interpreter": {
    "hash": "a91554a5e44b4cc609917fc90fb7ad510cda6c3a7bcec5be1f9eaac843308f8a"
   }
  }
 },
 "nbformat": 4,
 "nbformat_minor": 2
}
